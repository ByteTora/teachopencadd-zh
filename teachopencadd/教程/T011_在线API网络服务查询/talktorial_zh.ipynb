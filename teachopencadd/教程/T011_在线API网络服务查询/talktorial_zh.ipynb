{
 "cells": [
  {
   "cell_type": "markdown",
   "metadata": {},
   "source": [
    "# T011 ·查询在线API网络服务\n",
    "* * 注意：** 这篇谈话文章是TeachOpenCADD的一部分，该平台旨在教授特定领域的技能并提供管道模板作为研究项目的起点。\n",
    "\n",
    "作者：\n",
    "- Jaime Rodríguez-Guerra，2020-2021，[Amsteramer Lab，Charité](https：//volkamerab.org/）\n",
    "- Dominique Sydow，2021年，[Amplamer Lab，Charité]（https：//volkamerab.org/）\n",
    "- David Scholer，2021年，[Amplamer实验室，Charité]（https：//volkamerab.org/)"
   ]
  },
  {
   "cell_type": "markdown",
   "metadata": {},
   "source": [
    "## 本期脱口秀的目标\n",
    "\n",
    "在本笔记本中，您将学习如何在药物设计的背景下以编程方式使用Python的在线网络服务。在本期谈话结束时，您将熟悉REST服务和Web抓取。"
   ]
  },
  {
   "cell_type": "markdown",
   "metadata": {},
   "source": [
    "# 理论内容\n",
    "* 从服务器端角度进行数据访问"
   ]
  },
  {
   "cell_type": "markdown",
   "metadata": {},
   "source": [
    "# 实用内容\n",
    "* 下载静态文件\n",
    "* 删除动态生成的内容\n",
    "* 编程接口\n",
    "* 文档解析\n",
    "* 浏览器遥控器"
   ]
  },
  {
   "cell_type": "markdown",
   "metadata": {},
   "source": [
    "# 参考文献\n",
    "\n",
    "本指南非常实用，为了清晰起见省略了一些技术定义。然而，您还应该处理一些基本术语，以充分了解幕后发生的事情。\n",
    "* [客户端-服务器模型](https：//en.wikipedia.org/wiki/Client%E2%80%93server_模型）\n",
    "* [Web API]（https：//en.wikipedia.org/wiki/Web_API）\n",
    "* [查询字符串]（https：//en.wikipedia.org/wiki/Credy_str串）\n",
    "* [REST]（https：//en.wikipedia.org/wiki/Representational_state_transfer）\n",
    "* [JSON]（https：//en.wikipedia.org/wiki/JSON）\n",
    "* [Swagger / OpenAPI]（https：//en.wikipedia.org/wiki/Swagger_（软件））\n",
    "* [HTTP概述]（https：//developer.mozilla.org/en-US/docs/Web/HTTP/Overview)"
   ]
  },
  {
   "cell_type": "markdown",
   "metadata": {},
   "source": [
    "## 理论"
   ]
  },
  {
   "cell_type": "markdown",
   "metadata": {},
   "source": [
    "互联网是相互连接、交换数据的计算机的集合。在某种程度上，您本质上是使用某些参数来查询机器(服务器)以检索特定数据。该数据将是：\n",
    "- **A**。直接提供服务，因为服务器只是一个文件存储库。例如，您可以[从他们的服务器下载Chembl数据库dump](ftp://ftp.ebi.ac.uk/pub/databases/chembl/ChEMBLdb/latest/)。\n",
    "- **B**。从数据库中检索并以特定方式格式化。您在浏览器上看到的结果是：\n",
    "- **B1**。在服务器上进行预处理，例如，当您访问任何[Wikipedia](https://en.wikipedia.org/wiki/Drug_design).中的文章]时看到的HTML页\n",
    "- **B2**。在您使用网站时在客户端(您的浏览器)上动态生成，例如Twitter、Facebook或任何现代网络应用程序。\n",
    "- **C**。通过在服务器端执行一个或多个程序来计算，例如使用[Protoss](https://proteins.plus/help/tutorial).估计蛋白质-配体复合体的质子化状态\n",
    "\n",
    "> 从某种意义上说，配置**C**是**B1**的一种特殊类型。您只是替换了在服务器上运行的任务类型：数据库查询和处理您的查询并返回以特定于域的方式格式化的数据的HTMLRenating_vs._Computation。\n",
    "\n",
    "对在线服务进行分类的另一种方法是按返回数据的格式进行分类。您在浏览器上看到的大多数页面都使用了HTML，通常侧重于以人类可读的方式显示数据。但是，一些服务器可能会以机器可读的方式组织数据。这些数据可以以可靠的方式处理，因为它使用一组一致的规则进行格式化，这些规则可以很容易地在程序中编码。这样的程序通常被称为解析器。可以用可以可靠地获取数据的方式来标记HTML，但在设计它时并没有考虑到这一目的。因此，我们通常更喜欢使用提供机器可读格式的服务，如JJSON、CSV或XML。\n",
    "\n",
    "在实践中， 两种数据呈现方式应该和谐共存。现代网络架构努力将数据检索任务与最终用户表示分开。一种流行的实现包括使用编程端点，该端点返回机器可读的JSON数据，然后由面向用户的Web应用程序消费。后者在服务器上呈现HTML-选项 **B1**-或在用户浏览器上呈现HTML-选项 **B2**。不幸的是，与面向用户的应用程序不同，编程端点（API）并不保证公开可用，并且有时仅限于服务器端的内部使用。\n",
    "\n",
    "在以下部分中，我们将讨论如何使用Python和一些库充分利用每种类型的在线服务！"
   ]
  },
  {
   "cell_type": "markdown",
   "metadata": {},
   "source": [
    "## 实用"
   ]
  },
  {
   "cell_type": "code",
   "execution_count": 1,
   "metadata": {
    "tags": []
   },
   "outputs": [],
   "source": [
    "from pathlib import Path\n",
    "\n",
    "HERE = Path(_dh[-1])\n",
    "DATA = HERE / \"data\"\n",
    "TMPDATA = DATA / \"_tmp\"  # this dir is gitignored\n",
    "TMPDATA.mkdir(parents=True, exist_ok=True)"
   ]
  },
  {
   "attachments": {
    "f87e4f54-5504-49ca-a24a-f903aab4fa1e.png": {
     "image/png": "[encoded data removed]"
    }
   },
   "cell_type": "markdown",
   "metadata": {},
   "source": [
    "# 下载静态文件\n",
    "\n",
    "在这种情况下，Web服务器托管您将立即下载和消费的文件。您需要做的就是向服务器查询正确的地址或_URL_（通用资源位置）。当您浏览互联网时您总是这样做，您也可以使用Python来做到这一点！\n",
    "\n",
    "例如，让我们获取这个[来自GitHub的kinase相关CSV数据集](https：//github.com/openkinome/kinodata/blob/master/data/KinHubKinaseList.csv），其中包含一系列kinase及其标识符。\n",
    "\n",
    "> 提示：每当您想要下载GitHub上托管的文件时，请使用“Raw”按钮获取可下载的URL！\n",
    "> > ! [image.png]（附件：f87 e4 f54 -5504- 49ca-a24a-f903aab4fa1e.png）\n",
    "\n",
    "虽然Python提供了一个库来处理HTTP查询（' urllib ')，但人们通常更喜欢使用第三方'请求'，因为使用要简单得多。\n"
   ]
  },
  {
   "cell_type": "code",
   "execution_count": 2,
   "metadata": {
    "tags": []
   },
   "outputs": [
    {
     "data": {
      "text/plain": [
       "<Response [200]>"
      ]
     },
     "execution_count": 2,
     "metadata": {},
     "output_type": "execute_result"
    }
   ],
   "source": [
    "import requests\n",
    "\n",
    "url = \"https://raw.githubusercontent.com/openkinome/kinodata/master/data/KinHubKinaseList.csv\"\n",
    "response = requests.get(url)\n",
    "response.raise_for_status()\n",
    "response\n",
    "\n",
    "#NBVAR_RST_输出"
   ]
  },
  {
   "cell_type": "markdown",
   "metadata": {},
   "source": [
    "当您使用“请求.get（.）”时您将获得一个“Response”对象。这不是您想要下载的文件，而是一个包装了HTTP查询和服务器给您的_respond_的对象。在检查内容之前，我们总是调用'.raise_for_Status（）'，如果服务器告诉我们无法满足请求，这将引发异常。服务器如何做到这一点？带有[HTTP状态代码](https：//en.wikipedia.org/wiki/List_of_HTTP_status_Codes），3位数字。有几种，但最常见的是：\n",
    "* 200：一切都好！\n",
    "* 404：找不到文件。\n",
    "* 500：服务器错误。\n",
    "\n",
    "如果您的响应没有获得200代码，'.raise_for_Status（)'将提出投诉。因此，将其命名为after _every_quick是一个很好的做法！\n",
    "\n",
    "请参阅这个错误URL的例子，它包含一个错误：那里没有 ** XT ** 文件，只有 **CSV*。"
   ]
  },
  {
   "cell_type": "code",
   "execution_count": 3,
   "metadata": {
    "tags": []
   },
   "outputs": [
    {
     "ename": "HTTPError",
     "evalue": "404 Client Error: Not Found for url: https://raw.githubusercontent.com/openkinome/kinodata/master/data/KinHubKinaseList.txt",
     "output_type": "error",
     "traceback": [
      "\u001b[0;31m---------------------------------------------------------------------------\u001b[0m",
      "\u001b[0;31mHTTPError\u001b[0m                                 Traceback (most recent call last)",
      "Cell \u001b[0;32mIn[3], line 4\u001b[0m\n\u001b[1;32m      2\u001b[0m bad_url \u001b[38;5;241m=\u001b[39m \u001b[38;5;124m\"\u001b[39m\u001b[38;5;124mhttps://raw.githubusercontent.com/openkinome/kinodata/master/data/KinHubKinaseList.txt\u001b[39m\u001b[38;5;124m\"\u001b[39m\n\u001b[1;32m      3\u001b[0m bad_response \u001b[38;5;241m=\u001b[39m requests\u001b[38;5;241m.\u001b[39mget(bad_url)\n\u001b[0;32m----> 4\u001b[0m \u001b[43mbad_response\u001b[49m\u001b[38;5;241;43m.\u001b[39;49m\u001b[43mraise_for_status\u001b[49m\u001b[43m(\u001b[49m\u001b[43m)\u001b[49m\n\u001b[1;32m      5\u001b[0m bad_response\n",
      "File \u001b[0;32m~/.miniconda3/envs/teachopencadd/lib/python3.9/site-packages/requests/models.py:1021\u001b[0m, in \u001b[0;36mResponse.raise_for_status\u001b[0;34m(self)\u001b[0m\n\u001b[1;32m   1016\u001b[0m     http_error_msg \u001b[38;5;241m=\u001b[39m (\n\u001b[1;32m   1017\u001b[0m         \u001b[38;5;124mf\u001b[39m\u001b[38;5;124m\"\u001b[39m\u001b[38;5;132;01m{\u001b[39;00m\u001b[38;5;28mself\u001b[39m\u001b[38;5;241m.\u001b[39mstatus_code\u001b[38;5;132;01m}\u001b[39;00m\u001b[38;5;124m Server Error: \u001b[39m\u001b[38;5;132;01m{\u001b[39;00mreason\u001b[38;5;132;01m}\u001b[39;00m\u001b[38;5;124m for url: \u001b[39m\u001b[38;5;132;01m{\u001b[39;00m\u001b[38;5;28mself\u001b[39m\u001b[38;5;241m.\u001b[39murl\u001b[38;5;132;01m}\u001b[39;00m\u001b[38;5;124m\"\u001b[39m\n\u001b[1;32m   1018\u001b[0m     )\n\u001b[1;32m   1020\u001b[0m \u001b[38;5;28;01mif\u001b[39;00m http_error_msg:\n\u001b[0;32m-> 1021\u001b[0m     \u001b[38;5;28;01mraise\u001b[39;00m HTTPError(http_error_msg, response\u001b[38;5;241m=\u001b[39m\u001b[38;5;28mself\u001b[39m)\n",
      "\u001b[0;31mHTTPError\u001b[0m: 404 Client Error: Not Found for url: https://raw.githubusercontent.com/openkinome/kinodata/master/data/KinHubKinaseList.txt"
     ]
    }
   ],
   "source": [
    "#NBVAR_RAISES_EXCEPTION\n",
    "bad_url = \"https://raw.githubusercontent.com/openkinome/kinodata/master/data/KinHubKinaseList.txt\"\n",
    "bad_response = requests.get(bad_url)\n",
    "bad_response.raise_for_status()\n",
    "bad_response"
   ]
  },
  {
   "cell_type": "markdown",
   "metadata": {},
   "source": [
    "好的，现在让我们来看看CSV文件的内容！根据您正在寻找的内容，您将需要以下属性之一：\n",
    "* ' respect.content '：服务器返回的_bytes_。 \n",
    "* ' respect.text '：文件的内容，如果可能的话，以字符串形式出现。\n",
    "* ' respondance.json（）'：如果服务器返回JSON数据（稍后会详细介绍），此方法将对其进行解析并返回相应的字典。\n",
    "\n",
    "你应该使用哪一个？如果您想在Notebook输出中显示some _text_，请选择'.text '。涉及二进制文件的所有内容（图像、档案、PDF.）或下载到磁盘应使用'.content '。\n",
    "\n",
    "\n",
    "由于这是CSV文件，我们知道这是一个纯文本文件，所以我们可以在它上使用通常的Python方法！让我们打印前10行："
   ]
  },
  {
   "cell_type": "code",
   "execution_count": 4,
   "metadata": {
    "tags": []
   },
   "outputs": [
    {
     "name": "stdout",
     "output_type": "stream",
     "text": [
      "﻿xName,Manning Name,HGNC Name,Kinase Name,Group,Family,SubFamily,UniprotID\n",
      "ABL1,ABL,ABL1,Tyrosine-protein kinase ABL1,TK,Abl,,P00519\n",
      "ACK,ACK,TNK2,Activated CDC42 kinase 1,TK,Ack,,Q07912\n",
      "ACTR2,ACTR2,ACVR2A,Activin receptor type-2A,TKL,STKR,STKR2,P27037\n",
      "ACTR2B,ACTR2B,ACVR2B,Activin receptor type-2B,TKL,STKR,STKR2,Q13705\n",
      "ADCK4,ADCK4,ADCK4,Uncharacterized aarF domain-containing protein kinase 4,Atypical,ABC1,ABC1-A,Q96D53\n",
      "Trb1,Trb1,TRIB1,Tribbles homolog 1,CAMK,Trbl,,Q96RU8\n",
      "BRSK2,BRSK2,BRSK2,Serine/threonine-protein kinase BRSK2,CAMK,CAMKL,BRSK,Q8IWQ3\n",
      "Wnk2,Wnk2,WNK2,Serine/threonine-protein kinase WNK2,Other,WNK,,Q9Y3S1\n",
      "AKT1,AKT1,AKT1,RAC-alpha serine/threonine-protein kinase,AGC,Akt,,P31749\n"
     ]
    }
   ],
   "source": [
    "print(*response.text.splitlines()[:10], sep=\"\\n\")"
   ]
  },
  {
   "cell_type": "markdown",
   "metadata": {},
   "source": [
    "当然，您可以使用通常的Python结构将其保存到磁盘。由于我们正在_下载_，建议使用原始字节内容，而不是文本版本！这意味着您应该使用“respect.content”并以字节模式打开您的文件（“”中的“b”）："
   ]
  },
  {
   "cell_type": "code",
   "execution_count": 5,
   "metadata": {
    "tags": []
   },
   "outputs": [],
   "source": [
    "with open(TMPDATA / \"kinhub.csv\", \"wb\") as f:\n",
    "    f.write(response.content)"
   ]
  },
  {
   "cell_type": "markdown",
   "metadata": {},
   "source": [
    "再次打开它以检查我们写了什么。"
   ]
  },
  {
   "cell_type": "code",
   "execution_count": 6,
   "metadata": {
    "tags": []
   },
   "outputs": [
    {
     "name": "stdout",
     "output_type": "stream",
     "text": [
      "xName,Manning Name,HGNC Name,Kinase Name,Group,Family,SubFamily,UniprotID\n",
      "ABL1,ABL,ABL1,Tyrosine-protein kinase ABL1,TK,Abl,,P00519\n",
      "ACK,ACK,TNK2,Activated CDC42 kinase 1,TK,Ack,,Q07912\n",
      "ACTR2,ACTR2,ACVR2A,Activin receptor type-2A,TKL,STKR,STKR2,P27037\n",
      "ACTR2B,ACTR2B,ACVR2B,Activin receptor type-2B,TKL,STKR,STKR2,Q13705\n"
     ]
    }
   ],
   "source": [
    "#我们需要encoding=“utf-8-sig”来确保正确的编码\n",
    "#所有平台下\n",
    "with open(TMPDATA / \"kinhub.csv\", encoding=\"utf-8-sig\") as f:\n",
    "    # Zip将停止使用最短迭代器迭代\n",
    "    #传递' Range（5）'允许我们只得到五行;）\n",
    "    for _, line in zip(range(5), f):\n",
    "        print(line.rstrip())\n",
    "\n",
    "#NBVAR_RST_输出"
   ]
  },
  {
   "cell_type": "markdown",
   "metadata": {},
   "source": [
    "* * 提示 **：如果您只想下载CSV文件以使用Pandas打开它，则只需将原始URL传递给“pandas.read_CSV”即可。它会为您下载该文件！"
   ]
  },
  {
   "cell_type": "code",
   "execution_count": 7,
   "metadata": {
    "tags": []
   },
   "outputs": [
    {
     "data": {
      "text/html": [
       "<div>\n",
       "<style scoped>\n",
       "    .dataframe tbody tr th:only-of-type {\n",
       "        vertical-align: middle;\n",
       "    }\n",
       "\n",
       "    .dataframe tbody tr th {\n",
       "        vertical-align: top;\n",
       "    }\n",
       "\n",
       "    .dataframe thead th {\n",
       "        text-align: right;\n",
       "    }\n",
       "</style>\n",
       "<table border=\"1\" class=\"dataframe\">\n",
       "  <thead>\n",
       "    <tr style=\"text-align: right;\">\n",
       "      <th></th>\n",
       "      <th>xName</th>\n",
       "      <th>Manning Name</th>\n",
       "      <th>HGNC Name</th>\n",
       "      <th>Kinase Name</th>\n",
       "      <th>Group</th>\n",
       "      <th>Family</th>\n",
       "      <th>SubFamily</th>\n",
       "      <th>UniprotID</th>\n",
       "    </tr>\n",
       "  </thead>\n",
       "  <tbody>\n",
       "    <tr>\n",
       "      <th>0</th>\n",
       "      <td>ABL1</td>\n",
       "      <td>ABL</td>\n",
       "      <td>ABL1</td>\n",
       "      <td>Tyrosine-protein kinase ABL1</td>\n",
       "      <td>TK</td>\n",
       "      <td>Abl</td>\n",
       "      <td>NaN</td>\n",
       "      <td>P00519</td>\n",
       "    </tr>\n",
       "    <tr>\n",
       "      <th>1</th>\n",
       "      <td>ACK</td>\n",
       "      <td>ACK</td>\n",
       "      <td>TNK2</td>\n",
       "      <td>Activated CDC42 kinase 1</td>\n",
       "      <td>TK</td>\n",
       "      <td>Ack</td>\n",
       "      <td>NaN</td>\n",
       "      <td>Q07912</td>\n",
       "    </tr>\n",
       "    <tr>\n",
       "      <th>2</th>\n",
       "      <td>ACTR2</td>\n",
       "      <td>ACTR2</td>\n",
       "      <td>ACVR2A</td>\n",
       "      <td>Activin receptor type-2A</td>\n",
       "      <td>TKL</td>\n",
       "      <td>STKR</td>\n",
       "      <td>STKR2</td>\n",
       "      <td>P27037</td>\n",
       "    </tr>\n",
       "    <tr>\n",
       "      <th>3</th>\n",
       "      <td>ACTR2B</td>\n",
       "      <td>ACTR2B</td>\n",
       "      <td>ACVR2B</td>\n",
       "      <td>Activin receptor type-2B</td>\n",
       "      <td>TKL</td>\n",
       "      <td>STKR</td>\n",
       "      <td>STKR2</td>\n",
       "      <td>Q13705</td>\n",
       "    </tr>\n",
       "    <tr>\n",
       "      <th>4</th>\n",
       "      <td>ADCK4</td>\n",
       "      <td>ADCK4</td>\n",
       "      <td>ADCK4</td>\n",
       "      <td>Uncharacterized aarF domain-containing protein...</td>\n",
       "      <td>Atypical</td>\n",
       "      <td>ABC1</td>\n",
       "      <td>ABC1-A</td>\n",
       "      <td>Q96D53</td>\n",
       "    </tr>\n",
       "  </tbody>\n",
       "</table>\n",
       "</div>"
      ],
      "text/plain": [
       "    xName Manning Name HGNC Name  \\\n",
       "0    ABL1          ABL      ABL1   \n",
       "1     ACK          ACK      TNK2   \n",
       "2   ACTR2        ACTR2    ACVR2A   \n",
       "3  ACTR2B       ACTR2B    ACVR2B   \n",
       "4   ADCK4        ADCK4     ADCK4   \n",
       "\n",
       "                                         Kinase Name     Group Family  \\\n",
       "0                       Tyrosine-protein kinase ABL1        TK    Abl   \n",
       "1                           Activated CDC42 kinase 1        TK    Ack   \n",
       "2                           Activin receptor type-2A       TKL   STKR   \n",
       "3                           Activin receptor type-2B       TKL   STKR   \n",
       "4  Uncharacterized aarF domain-containing protein...  Atypical   ABC1   \n",
       "\n",
       "  SubFamily UniprotID  \n",
       "0       NaN    P00519  \n",
       "1       NaN    Q07912  \n",
       "2     STKR2    P27037  \n",
       "3     STKR2    Q13705  \n",
       "4    ABC1-A    Q96D53  "
      ]
     },
     "execution_count": 7,
     "metadata": {},
     "output_type": "execute_result"
    }
   ],
   "source": [
    "import pandas as pd\n",
    "\n",
    "df = pd.read_csv(\n",
    "    \"https://raw.githubusercontent.com/openkinome/kinodata/master/data/KinHubKinaseList.csv\"\n",
    ")\n",
    "df.head()\n",
    "#NBVAR_RST_输出"
   ]
  },
  {
   "cell_type": "markdown",
   "metadata": {},
   "source": [
    "关于文件下载的一个注意事项。上面的方法将整个文件下载到内存中，这对于非常大的文件来说可能是一个问题。如果您打算下载非常大的文件，可以使用[流请求](https：//请求. readthedocs.io/en/master/user/advanced/#streaming-equals）和[原始响应]（https：docs.python-requests.org/en/v1.1.0/user/quickstart/? highlight=raw %20respond #raw-respond-content）。作为一个例子，让我们假设这个[1 MB视频]（https：//archive.org/Downlo/SlowMotionFlame/slomofflam_512kb.mp4)_太大，无法容纳内存_："
   ]
  },
  {
   "cell_type": "code",
   "execution_count": 8,
   "metadata": {
    "tags": []
   },
   "outputs": [
    {
     "data": {
      "text/html": [
       "<video src=\"data/_tmp/video.mp4\" controls  >\n",
       "      Your browser does not support the <code>video</code> element.\n",
       "    </video>"
      ],
      "text/plain": [
       "<IPython.core.display.Video object>"
      ]
     },
     "metadata": {},
     "output_type": "display_data"
    }
   ],
   "source": [
    "import shutil\n",
    "from IPython.display import Video\n",
    "\n",
    "response = requests.get(\n",
    "    \"https://archive.org/download/SlowMotionFlame/slomoflame_512kb.mp4\", stream=True\n",
    ")\n",
    "response.raise_for_status()\n",
    "\n",
    "with open(TMPDATA / \"video.mp4\", \"wb\") as tmp:\n",
    "    for chunk in response.iter_content(chunk_size=8192):\n",
    "        tmp.write(chunk)\n",
    "\n",
    "    #让我们在Ottyter中播放电影吧！\n",
    "    #传递给小部件的路径需要相对于笔记本，否则它们将404：）\n",
    "    display(Video(Path(tmp.name).relative_to(HERE)))"
   ]
  },
  {
   "cell_type": "markdown",
   "metadata": {
    "tags": []
   },
   "source": [
    "# 访问动态生成的内容\n",
    "\n",
    "到目前为止，我们已经能够检索远程服务器上的_FILES_。为此，我们使用了`quests.get`和一个指向该文件的URL。\n",
    "\n",
    "嗯，事实证明，同样的技术将适用于更多类型的内容！我们不关心服务器如何处理URL！无论服务器只需要给你一个磁盘上的文件，还是查询一个数据库并将不同的部分组装成返回的内容，这一点都不重要。\n",
    "\n",
    "正如您现在将看到的，仅这一概念就非常强大。请记住：**我们只需确保请求的URL正确！**\n",
    "\n",
    "现在让我们来做一些有趣的事情吧！SARS-CoV-2中的Spike蛋白是最近最受欢迎的蛋白之一，我们能从[UniProt](https://www.uniprot.org/)使用`Requests‘)获得一些信息吗？其UniProt ID为`P0DTC2`。[查看您的浏览器first](https://www.uniprot.org/uniprot/P0DTC2)，，您应该会看到如下所示：\n",
    "\n",
    "！[SARS-CoV-2 UniProt入口](图像/UniProt-sars-cov-2.jpg)\n",
    "\n",
    "UniProt提供的其中一件事是列出的蛋白质的氨基酸序列。向下滚动，直到您看到此部分：\n",
    "\n",
    "！[SARS-CoV-2](images/uniprot-sars-cov-2-sequence.jpg)的序列\n",
    "\n",
    "你认为我们能用Python得到唯一的序列吗？让我们看看!\n",
    "\n",
    "要查询蛋白质，只需将其UniProt ID添加到URL。"
   ]
  },
  {
   "cell_type": "code",
   "execution_count": 9,
   "metadata": {
    "tags": []
   },
   "outputs": [
    {
     "name": "stdout",
     "output_type": "stream",
     "text": [
      "<!doctype html><html lang=\"en\"><head><meta charset=\"utf-8\"/><title>UniProt</title><meta name=\"viewport\" content=\"width=device-width,initial-scale=1\"/><meta name=\"theme-color\" content=\"#00639a\"/><link rel=\"apple-touch-icon\" sizes=\"180x180\" href=\"/apple-touch-icon.png\"/><link rel=\"shortcut icon\" type=\"image/png\" sizes=\"144x144\" href=\"/mstile-144x144.png\"/><link rel=\"icon\" type=\"image/png\" sizes=\"32x32\" href=\"/favicon-32x32.png\"/><link rel=\"icon\" type=\"image/png\" sizes=\"16x16\" href=\"/favicon-16x16.png\"/><link rel=\"manifest\" href=\"/manifest.json\"/><link rel=\"preconnect\" href=\"https://fonts.gstatic.com/\"/><link rel=\"preconnect\" href=\"https://rest.uniprot.org/\"/><link rel=\"preload\" as=\"style\" href=\"https://fonts.googleapis.com/css?family=Lato:400,700|Source+Sans+Pro:600,700&display=swap\"/><script async src=\"https://www.googletagmanager.com/gtag/js?id=G-V6TXEC4BDF\"></script><script>window.dataLayer = window.dataLayer || [];\n",
      "      function gtag() {\n",
      "        dataLayer.push(arguments);\n",
      "      }\n",
      "      gtag('js', new Date());\n",
      "\n",
      "      // GA4\n",
      "      gtag('config', 'G-V6TXEC4BDF', {\n",
      "        anonymize_ip: true,\n",
      "        allow_google_signals: false,\n",
      "        allow_ad_personalization_signals: false,\n",
      "        restricted_data_processing: true,\n",
      "        custom_map: {\n",
      "          dimension1: 'result_view',\n",
      "          metric1: 'result_view_set',\n",
      "        },\n",
      "        send_page_view: false,\n",
      "      });\n",
      "      // UA\n",
      "      gtag('config', 'UA-6228219-1', {\n",
      "        anonymize_ip: true,\n",
      "        allow_google_signals: false,\n",
      "        allow_ad_personalization_signals: false,\n",
      "        restricted_data_processing: true,\n",
      "        custom_map: {\n",
      "          dimension1: 'result_view',\n",
      "          metric1: 'result_view_set',\n",
      "        },\n",
      "        send_page_view: false,\n",
      "      });</script><script>(function (h, o, t, j, a, r) {\n",
      "        h.hj =\n",
      "          h.hj ||\n",
      "          function () {\n",
      "            (h.hj.q = h.hj.q || []).push(arguments);\n",
      "          };\n",
      "        h._hjSettings = { hjid: 2638207, hjsv: 6 };\n",
      "        a = o.getElementsByTagName('head')[0];\n",
      "        r = o.createElement('script');\n",
      "        r.async = 1;\n",
      "        r.src = t + h._hjSettings.hjid + j + h._hjSettings.hjsv;\n",
      "        a.appendChild(r);\n",
      "      })(window, document, 'https://static.hotjar.com/c/hotjar-', '.js?sv=');</script><style>#root > .fallback {\n",
      "        height: 90vh;\n",
      "        display: flex;\n",
      "        align-items: center;\n",
      "        justify-content: center;\n",
      "        opacity: 0;\n",
      "        animation: fallback-appear 1s 1 10s both;\n",
      "      }\n",
      "\n",
      "      #root > .fallback > div {\n",
      "        max-width: 60ch;\n",
      "      }\n",
      "\n",
      "      #root > .fallback li {\n",
      "        margin-bottom: 1em;\n",
      "      }\n",
      "\n",
      "      @keyframes fallback-appear {\n",
      "        from {\n",
      "          opacity: 0;\n",
      "        }\n",
      "        to {\n",
      "          opacity: 1;\n",
      "        }\n",
      "      }</style><link rel=\"stylesheet\" href=\"/styles.6f2cd3.css\"/><link rel=\"stylesheet\" href=\"/styles.8a7ea9.css\"/></head><body><div id=\"root\"><div class=\"fallback\" data-nosnippet><div><h1>UniProt website fallback message</h1>If you are not seeing anything on this page, it might be for multiple reasons:<ul><li><strong>You might have JavaScript disabled</strong>: make sure to enable JavaScript on your browser, or use a browser that supports JavaScript.</li><li><strong>You might have an outdated browser</strong>: make sure that your browser is up to date as older versions might not work with the website.</li><li><strong>There might have been a network issue</strong>: ensure that your connectivity is stable and try to reload the page to see if it solves the issue. <button onclick=\"location.reload();\">Reload this page</button></li></ul></div></div></div><script nomodule>// workaround for Safari 10.1 supporting module but ignoring nomodule\n",
      "      // From https://gist.github.com/samthor/64b114e4a4f539915a95b91ffd340acc\n",
      "      (function () {\n",
      "        var d = document;\n",
      "        var c = d.createElement('script');\n",
      "        if (!('noModule' in c) && 'onbeforeload' in c) {\n",
      "          var s = false;\n",
      "          d.addEventListener(\n",
      "            'beforeload',\n",
      "            function (e) {\n",
      "              if (e.target === c) {\n",
      "                s = true;\n",
      "              } else if (!e.target.hasAttribute('nomodule') || !s) {\n",
      "                return;\n",
      "              }\n",
      "              e.preventDefault();\n",
      "            },\n",
      "            true\n",
      "          );\n",
      "\n",
      "          c.type = 'module';\n",
      "          c.src = '.';\n",
      "          d.head.appendChild(c);\n",
      "          c.remove();\n",
      "        }\n",
      "      })();</script><script type=\"module\" src=\"/modern.app.81c288.js\"></script><script type=\"module\" src=\"/modern.app.9062d6.js\"></script><script type=\"module\" src=\"/modern.app.922f2d.js\"></script><script type=\"module\" src=\"/modern.app.846d6d.js\"></script><script type=\"module\" src=\"/modern.app.1dc90f.js\"></script><script nomodule defer=\"defer\" src=\"/legacy.app.21ebe9.js\"></script><script nomodule defer=\"defer\" src=\"/legacy.app.9062d6.js\"></script><script nomodule defer=\"defer\" src=\"/legacy.app.922f2d.js\"></script><script nomodule defer=\"defer\" src=\"/legacy.app.788032.js\"></script><script nomodule defer=\"defer\" src=\"/legac\n"
     ]
    }
   ],
   "source": [
    "r = requests.get(\"https://www.uniprot.org/uniprot/P0DTC2\")\n",
    "r.raise_for_status()\n",
    "print(r.text[:5000])"
   ]
  },
  {
   "cell_type": "markdown",
   "metadata": {},
   "source": [
    "哇，那是什么声音啊？您看到的是该网页的Html内容！这是Web开发人员用来编写网页的标记语言。\n",
    "\n",
    "有一些库可以处理HTML并提取实际内容(比如`BeautifulSoup`；下面还有更多内容)，但我们在这里还不需要它。幸运的是，UniProt提供了数据的其他表示形式。\n",
    "\n",
    "！[UniProt formats](images/uniprot-sars-cov-2-formats.jpg)\n",
    "\n",
    "有些格式更便于编程使用。如果你点击`文本`，你会在浏览器中看到一些不同的东西：纯文本！另外，请注意URL现在有了怎样的不同。\n",
    "* Html表示(默认)：https://www.uniprot.org/uniprot/P0DTC2\n",
    "* 文本表示：https://www.uniprot.org/uniprot/P0DTC2.txt\n",
    "\n",
    "只需添加`.txt`扩展名就足以改变样式。这是UniProt提供的一个很好的功能。它模仿文件系统，但实际上改变了返回内容的表示形式。优雅！更重要的是，更易于以编程方式使用！检查它："
   ]
  },
  {
   "cell_type": "code",
   "execution_count": 10,
   "metadata": {
    "tags": []
   },
   "outputs": [
    {
     "name": "stdout",
     "output_type": "stream",
     "text": [
      "ID   SPIKE_SARS2             Reviewed;        1273 AA.\n",
      "AC   P0DTC2;\n",
      "DT   22-APR-2020, integrated into UniProtKB/Swiss-Prot.\n",
      "DT   22-APR-2020, sequence version 1.\n",
      "DT   03-MAY-2023, entry version 16.\n",
      "DE   RecName: Full=Spike glycoprotein {ECO:0000255|HAMAP-Rule:MF_04099};\n",
      "DE            Short=S glycoprotein {ECO:0000255|HAMAP-Rule:MF_04099};\n",
      "DE   AltName: Full=E2 {ECO:0000255|HAMAP-Rule:MF_04099};\n",
      "DE   AltName: Full=Peplomer protein {ECO:0000255|HAMAP-Rule:MF_04099};\n",
      "DE   Contains:\n",
      "DE     RecName: Full=Spike protein S1 {ECO:0000255|HAMAP-Rule:MF_04099};\n",
      "DE   Contains:\n",
      "DE     RecName: Full=Spike protein S2 {ECO:0000255|HAMAP-Rule:MF_04099};\n",
      "DE   Contains:\n",
      "DE     RecName: Full=Spike protein S2' {ECO:0000255|HAMAP-Rule:MF_04099};\n",
      "DE   Flags: Precursor;\n",
      "GN   Name=S {ECO:0000255|HAMAP-Rule:MF_04099}; ORFNames=2;\n",
      "OS   Severe acute respiratory syndrome coronavirus 2 (2019-nCoV) (SARS-CoV-2).\n",
      "OC   Viruses; Riboviria; Orthornavirae; Pisuviricota; Pisoniviricetes;\n",
      "OC   Nidovirales; Cornidovirineae;\n"
     ]
    }
   ],
   "source": [
    "r = requests.get(\"https://www.uniprot.org/uniprot/P0DTC2.txt\")\n",
    "r.raise_for_status()\n",
    "print(r.text[:1000])"
   ]
  },
  {
   "cell_type": "markdown",
   "metadata": {},
   "source": [
    "这正是我们在浏览器上看到的！纯文本对于这些事情来说是很好的。但是，该序列一直位于文件的末尾。要检索它，你需要有创意，并分析每一行都有的那些小标签。查看以`SQ`开头，以`//`结尾：\n",
    "\n",
    "```SQ序列1273AA；141178 mW；B17BE6D9F1C4EA34CRC64；\n",
    "MFVFLVLLPL VSSQCVNLTT RTQLPPAYTN SFTRGVYYPD KVFRSSVLHS TQDLFLPFFS\n",
    "NVTWFHAIHV SGTNGTKRFD NPVLPFNDGV YFASTEKSNI IRGWIFGTTL DSKTQSLLIV\n",
    "NNatNVVIKV CEFQFCNDPF LGVYYHKNNK SWMESEFRVY SSANNCTFEY VSQPFLMDLE\n",
    "GKQGNFKNLR EFVFKNIDGY FKIYSKHTPI NLVRDLPQGF SALEPLVDLP IGINITRFQT\n",
    "LLALHRSYLT PGDSSSGWTA GAAYYVGYL QPRTFLYKYN ENGTITDAVD CALDPLSETK\n",
    "CTLKSFTVEK GIYQTSNFRV QPTESIVRFP NITNLCPFGE VFNatRFASV YAWNRKRISN\n",
    "CVADYSVLYN SASFSTFKCY GVSPTKLNDL CFTNVYADSF VIRGDEVRQI APGQTGKIAD\n",
    "YNYKLPDDFT GCVIAWNSNN LDSKVGGNYN YLYRLFRKSN LKPFERDIST EIYQAGSTPC\n",
    "NGVEGFNCYF PLQSYGFQPT NGVGYQPYRV VVLSFELLHA PATVCGPKKS TNLVKNKCVN\n",
    "FNFNGLTGTG VLTESNKFL PFQFGRDIA DTTDAVRDPQ TLEILDITPC SFGGVSVITP\n",
    "GTNTSNQVAV LYQDVNCTEV PVAIHADQLT PTWRVYSTGS NVFQTRAGCL IGAEHVNNSY\n",
    "ECDIPIGAGI CASYQTQTNS PRARARSVASQ SIIAYTM TMSLG AENSVAYSNN SIAIPTNFTI\n",
    "SVTTEILPVS MTKTSVDCTM YICGDSTECS NLLLQYGSFC TQLNRALTGI AVEQDKNTQE\n",
    "VFAQVKQIYK TPPIKDFGGF NFSQILPDPS KPSKRSFIED LLFNKVTLAD AGFIKQYGDC\n",
    "LGDIAARDLI CAQKFNGLTV LPPLLTDEMI AQYTSALLAG TITSGWTFGA GAALQIPFAM\n",
    "QMAYRFNGIG VTQNVLYENQ KLIANQFNSA IGKIQDSLSS TASALGKLQD VVNQNAQALN\n",
    "TLVKQLSSF GAISSVLNDI LSRLDKVEAE VQIDRLITGR LQSLQTYVTQ QLIRAEIRA\n",
    "SANLAATKMS ECVLGQSKRV DFCGKGYHLM SFPQSAPHGV VFLHVTYVPA QEKNFTTAPA\n",
    "ICHDGKAHFP REGVFVSNGT HWFVTQRNFY EPQIITTDNT FVSGNCDVVI GIVNNTVYDP\n",
    "LQPELDSFKE ELDKYFKNHT SPDVDLGDIS GINASVVNIQ KEIDRLNEVA KNLNESLIDL\n",
    "QELGKYEQYI KWPWYIWLGF IAGLIAIVMV TIMLCCMTSC CSCLKGCCSC GSCCKFDEDD\n",
    "SEPVLKGVKL HYT\n",
    "//\n",
    "```因此，您可以这样做："
   ]
  },
  {
   "cell_type": "code",
   "execution_count": 11,
   "metadata": {
    "tags": []
   },
   "outputs": [
    {
     "name": "stdout",
     "output_type": "stream",
     "text": [
      "This is your sequence: MFVFLVLLPLVSSQCVNLTTRTQLPPAYTNSFTRGVYYPDKVFRSSVLHSTQDLFLPFFSNVTWFHAIHVSGTNGTKRFDNPVLPFNDGVYFASTEKSNIIRGWIFGTTLDSKTQSLLIVNNATNVVIKVCEFQFCNDPFLGVYYHKNNKSWMESEFRVYSSANNCTFEYVSQPFLMDLEGKQGNFKNLREFVFKNIDGYFKIYSKHTPINLVRDLPQGFSALEPLVDLPIGINITRFQTLLALHRSYLTPGDSSSGWTAGAAAYYVGYLQPRTFLLKYNENGTITDAVDCALDPLSETKCTLKSFTVEKGIYQTSNFRVQPTESIVRFPNITNLCPFGEVFNATRFASVYAWNRKRISNCVADYSVLYNSASFSTFKCYGVSPTKLNDLCFTNVYADSFVIRGDEVRQIAPGQTGKIADYNYKLPDDFTGCVIAWNSNNLDSKVGGNYNYLYRLFRKSNLKPFERDISTEIYQAGSTPCNGVEGFNCYFPLQSYGFQPTNGVGYQPYRVVVLSFELLHAPATVCGPKKSTNLVKNKCVNFNFNGLTGTGVLTESNKKFLPFQQFGRDIADTTDAVRDPQTLEILDITPCSFGGVSVITPGTNTSNQVAVLYQDVNCTEVPVAIHADQLTPTWRVYSTGSNVFQTRAGCLIGAEHVNNSYECDIPIGAGICASYQTQTNSPRRARSVASQSIIAYTMSLGAENSVAYSNNSIAIPTNFTISVTTEILPVSMTKTSVDCTMYICGDSTECSNLLLQYGSFCTQLNRALTGIAVEQDKNTQEVFAQVKQIYKTPPIKDFGGFNFSQILPDPSKPSKRSFIEDLLFNKVTLADAGFIKQYGDCLGDIAARDLICAQKFNGLTVLPPLLTDEMIAQYTSALLAGTITSGWTFGAGAALQIPFAMQMAYRFNGIGVTQNVLYENQKLIANQFNSAIGKIQDSLSSTASALGKLQDVVNQNAQALNTLVKQLSSNFGAISSVLNDILSRLDKVEAEVQIDRLITGRLQSLQTYVTQQLIRAAEIRASANLAATKMSECVLGQSKRVDFCGKGYHLMSFPQSAPHGVVFLHVTYVPAQEKNFTTAPAICHDGKAHFPREGVFVSNGTHWFVTQRNFYEPQIITTDNTFVSGNCDVVIGIVNNTVYDPLQPELDSFKEELDKYFKNHTSPDVDLGDISGINASVVNIQKEIDRLNEVAKNLNESLIDLQELGKYEQYIKWPWYIWLGFIAGLIAIVMVTIMLCCMTSCCSCLKGCCSCGSCCKFDEDDSEPVLKGVKLHYT\n"
     ]
    }
   ],
   "source": [
    "sequence_block = False\n",
    "lines = []\n",
    "for line in r.text.splitlines():\n",
    "    if line.startswith(\"SQ\"):\n",
    "        sequence_block = True\n",
    "    elif line.startswith(\"//\"):\n",
    "        sequence_block = False\n",
    "\n",
    "    if sequence_block:\n",
    "        line = line.strip()  # delete spaces and newlines at the beginning and end of the line\n",
    "        line = line.replace(\" \", \"\")  # delete spaces in the middle of the line\n",
    "        lines.append(line)\n",
    "sequence = \"\".join(lines[1:])  # the first line is the metadata header\n",
    "print(f\"This is your sequence: {sequence}\")\n",
    "\n",
    "#NBVAR_RST_输出"
   ]
  },
  {
   "cell_type": "markdown",
   "metadata": {},
   "source": [
    "叮咚！我们明白了！它需要一些处理，但它有效.然而，您应该始终想知道是否有更简单的方法。鉴于UniProt有一种很好的方式来提供文本表示，为什么他们不提供_only_返回给定UniProt ID序列的URL呢？好吧，他们做到了！只需将'. text '更改为'.fasta '：https://www.uniprot.org/uniprot/P0DTC2.fasta"
   ]
  },
  {
   "cell_type": "code",
   "execution_count": 12,
   "metadata": {
    "tags": []
   },
   "outputs": [
    {
     "name": "stdout",
     "output_type": "stream",
     "text": [
      ">sp|P0DTC2|SPIKE_SARS2 Spike glycoprotein OS=Severe acute respiratory syndrome coronavirus 2 OX=2697049 GN=S PE=1 SV=1\n",
      "MFVFLVLLPLVSSQCVNLTTRTQLPPAYTNSFTRGVYYPDKVFRSSVLHSTQDLFLPFFS\n",
      "NVTWFHAIHVSGTNGTKRFDNPVLPFNDGVYFASTEKSNIIRGWIFGTTLDSKTQSLLIV\n",
      "NNATNVVIKVCEFQFCNDPFLGVYYHKNNKSWMESEFRVYSSANNCTFEYVSQPFLMDLE\n",
      "GKQGNFKNLREFVFKNIDGYFKIYSKHTPINLVRDLPQGFSALEPLVDLPIGINITRFQT\n",
      "LLALHRSYLTPGDSSSGWTAGAAAYYVGYLQPRTFLLKYNENGTITDAVDCALDPLSETK\n",
      "CTLKSFTVEKGIYQTSNFRVQPTESIVRFPNITNLCPFGEVFNATRFASVYAWNRKRISN\n",
      "CVADYSVLYNSASFSTFKCYGVSPTKLNDLCFTNVYADSFVIRGDEVRQIAPGQTGKIAD\n",
      "YNYKLPDDFTGCVIAWNSNNLDSKVGGNYNYLYRLFRKSNLKPFERDISTEIYQAGSTPC\n",
      "NGVEGFNCYFPLQSYGFQPTNGVGYQPYRVVVLSFELLHAPATVCGPKKSTNLVKNKCVN\n",
      "FNFNGLTGTGVLTESNKKFLPFQQFGRDIADTTDAVRDPQTLEILDITPCSFGGVSVITP\n",
      "GTNTSNQVAVLYQDVNCTEVPVAIHADQLTPTWRVYSTGSNVFQTRAGCLIGAEHVNNSY\n",
      "ECDIPIGAGICASYQTQTNSPRRARSVASQSIIAYTMSLGAENSVAYSNNSIAIPTNFTI\n",
      "SVTTEILPVSMTKTSVDCTMYICGDSTECSNLLLQYGSFCTQLNRALTGIAVEQDKNTQE\n",
      "VFAQVKQIYKTPPIKDFGGFNFSQILPDPSKPSKRSFIEDLLFNKVTLADAGFIKQYGDC\n",
      "LGDIAARDLICAQKFNGLTVLPPLLTDEMIAQYTSALLAGTITSGWTFGAGAALQIPFAM\n",
      "QMAYRFNGIGVTQNVLYENQKLIANQFNSAIGKIQDSLSSTASALGKLQDVVNQNAQALN\n",
      "TLVKQLSSNFGAISSVLNDILSRLDKVEAEVQIDRLITGRLQSLQTYVTQQLIRAAEIRA\n",
      "SANLAATKMSECVLGQSKRVDFCGKGYHLMSFPQSAPHGVVFLHVTYVPAQEKNFTTAPA\n",
      "ICHDGKAHFPREGVFVSNGTHWFVTQRNFYEPQIITTDNTFVSGNCDVVIGIVNNTVYDP\n",
      "LQPELDSFKEELDKYFKNHTSPDVDLGDISGINASVVNIQKEIDRLNEVAKNLNESLIDL\n",
      "QELGKYEQYIKWPWYIWLGFIAGLIAIVMVTIMLCCMTSCCSCLKGCCSCGSCCKFDEDD\n",
      "SEPVLKGVKLHYT\n",
      "\n"
     ]
    }
   ],
   "source": [
    "r = requests.get(\"https://www.uniprot.org/uniprot/P0DTC2.fasta\")\n",
    "r.raise_for_status()\n",
    "print(r.text)\n",
    "\n",
    "#NBVAR_RST_输出"
   ]
  },
  {
   "cell_type": "markdown",
   "metadata": {},
   "source": [
    "这在FASTA中返回，FASTA是生物信息学中的常见语法。您也可以使用[BioPython](https：//biopython.org/)等现有库来解析它！"
   ]
  },
  {
   "cell_type": "code",
   "execution_count": 13,
   "metadata": {
    "tags": []
   },
   "outputs": [
    {
     "name": "stdout",
     "output_type": "stream",
     "text": [
      "sp|P0DTC2|SPIKE_SARS2 Spike glycoprotein OS=Severe acute respiratory syndrome coronavirus 2 OX=2697049 GN=S PE=1 SV=1\n",
      "MFVFLVLLPLVSSQCVNLTTRTQLPPAYTNSFTRGVYYPDKVFRSSVLHSTQDLFLPFFSNVTWFHAIHVSGTNGTKRFDNPVLPFNDGVYFASTEKSNIIRGWIFGTTLDSKTQSLLIVNNATNVVIKVCEFQFCNDPFLGVYYHKNNKSWMESEFRVYSSANNCTFEYVSQPFLMDLEGKQGNFKNLREFVFKNIDGYFKIYSKHTPINLVRDLPQGFSALEPLVDLPIGINITRFQTLLALHRSYLTPGDSSSGWTAGAAAYYVGYLQPRTFLLKYNENGTITDAVDCALDPLSETKCTLKSFTVEKGIYQTSNFRVQPTESIVRFPNITNLCPFGEVFNATRFASVYAWNRKRISNCVADYSVLYNSASFSTFKCYGVSPTKLNDLCFTNVYADSFVIRGDEVRQIAPGQTGKIADYNYKLPDDFTGCVIAWNSNNLDSKVGGNYNYLYRLFRKSNLKPFERDISTEIYQAGSTPCNGVEGFNCYFPLQSYGFQPTNGVGYQPYRVVVLSFELLHAPATVCGPKKSTNLVKNKCVNFNFNGLTGTGVLTESNKKFLPFQQFGRDIADTTDAVRDPQTLEILDITPCSFGGVSVITPGTNTSNQVAVLYQDVNCTEVPVAIHADQLTPTWRVYSTGSNVFQTRAGCLIGAEHVNNSYECDIPIGAGICASYQTQTNSPRRARSVASQSIIAYTMSLGAENSVAYSNNSIAIPTNFTISVTTEILPVSMTKTSVDCTMYICGDSTECSNLLLQYGSFCTQLNRALTGIAVEQDKNTQEVFAQVKQIYKTPPIKDFGGFNFSQILPDPSKPSKRSFIEDLLFNKVTLADAGFIKQYGDCLGDIAARDLICAQKFNGLTVLPPLLTDEMIAQYTSALLAGTITSGWTFGAGAALQIPFAMQMAYRFNGIGVTQNVLYENQKLIANQFNSAIGKIQDSLSSTASALGKLQDVVNQNAQALNTLVKQLSSNFGAISSVLNDILSRLDKVEAEVQIDRLITGRLQSLQTYVTQQLIRAAEIRASANLAATKMSECVLGQSKRVDFCGKGYHLMSFPQSAPHGVVFLHVTYVPAQEKNFTTAPAICHDGKAHFPREGVFVSNGTHWFVTQRNFYEPQIITTDNTFVSGNCDVVIGIVNNTVYDPLQPELDSFKEELDKYFKNHTSPDVDLGDISGINASVVNIQKEIDRLNEVAKNLNESLIDLQELGKYEQYIKWPWYIWLGFIAGLIAIVMVTIMLCCMTSCCSCLKGCCSCGSCCKFDEDDSEPVLKGVKLHYT\n"
     ]
    }
   ],
   "source": [
    "from Bio import SeqIO\n",
    "from tempfile import NamedTemporaryFile\n",
    "import os\n",
    "\n",
    "#将响应写入临时文本文件\n",
    "with NamedTemporaryFile(suffix=\".fasta\", mode=\"w\", delete=False) as tmp:\n",
    "    tmp.write(r.text)\n",
    "\n",
    "#为序列数据创建BioPython对象：\n",
    "sequence = SeqIO.read(tmp.name, format=\"fasta\")\n",
    "\n",
    "#既然我们已经阅读了临时文件，就删除它\n",
    "os.remove(tmp.name)\n",
    "\n",
    "print(sequence.description)\n",
    "print(sequence.seq)\n",
    "\n",
    "#NBVAR_RST_输出"
   ]
  },
  {
   "cell_type": "markdown",
   "metadata": {},
   "source": [
    "所有这些访问UniProt中包含的数据的不同表示形式或部分的方法都构成了基于URL的API（应用程序编程接口）。基本原则是URL包含向服务器请求特定类型内容所需的所有 ** 参数 **。是的，您没有看错：** 参数 **。如果您仔细考虑一下，URL会指定两部分：您正在连接的机器以及您想要访问的机器中的页面。当页面部分缺失时，服务器会假设您正在请求“index.html”或同等内容。\n",
    "\n",
    "让我们将其与命令行界面进行比较：\n",
    "\n",
    "```@ #这是您的浏览器\n",
    "@ uniprot.org/uniprot/P0DTC2.fasta\n",
    "```'猛烈抨击\n",
    "$ #这是您的终端\n",
    "$ uniprot --id= P0 DTC 2--格式=FASTA\n",
    "```URL的每个部分都可以被视为位置参数！因此，如果您想要不同蛋白质的序列，只需在URL中输入其UniProt ID即可，完成！例如，“P00519”是ABL 1酶的ID。"
   ]
  },
  {
   "cell_type": "code",
   "execution_count": 14,
   "metadata": {
    "tags": []
   },
   "outputs": [
    {
     "name": "stdout",
     "output_type": "stream",
     "text": [
      ">sp|P00519|ABL1_HUMAN Tyrosine-protein kinase ABL1 OS=Homo sapiens OX=9606 GN=ABL1 PE=1 SV=4\n",
      "MLEICLKLVGCKSKKGLSSSSSCYLEEALQRPVASDFEPQGLSEAARWNSKENLLAGPSE\n",
      "NDPNLFVALYDFVASGDNTLSITKGEKLRVLGYNHNGEWCEAQTKNGQGWVPSNYITPVN\n",
      "SLEKHSWYHGPVSRNAAEYLLSSGINGSFLVRESESSPGQRSISLRYEGRVYHYRINTAS\n",
      "DGKLYVSSESRFNTLAELVHHHSTVADGLITTLHYPAPKRNKPTVYGVSPNYDKWEMERT\n",
      "DITMKHKLGGGQYGEVYEGVWKKYSLTVAVKTLKEDTMEVEEFLKEAAVMKEIKHPNLVQ\n",
      "LLGVCTREPPFYIITEFMTYGNLLDYLRECNRQEVNAVVLLYMATQISSAMEYLEKKNFI\n",
      "HRDLAARNCLVGENHLVKVADFGLSRLMTGDTYTAHAGAKFPIKWTAPESLAYNKFSIKS\n",
      "DVWAFGVLLWEIATYGMSPYPGIDLSQVYELLEKDYRMERPEGCPEKVYELMRACWQWNP\n",
      "SDRPSFAEIHQAFETMFQESSISDEVEKELGKQGVRGAVSTLLQAPELPTKTRTSRRAAE\n",
      "HRDTTDVPEMPHSKGQGESDPLDHEPAVSPLLPRKERGPPEGGLNEDERLLPKDKKTNLF\n",
      "SALIKKKKKTAPTPPKRSSSFREMDGQPERRGAGEEEGRDISNGALAFTPLDTADPAKSP\n",
      "KPSNGAGVPNGALRESGGSGFRSPHLWKKSSTLTSSRLATGEEEGGGSSSKRFLRSCSAS\n",
      "CVPHGAKDTEWRSVTLPRDLQSTGRQFDSSTFGGHKSEKPALPRKRAGENRSDQVTRGTV\n",
      "TPPPRLVKKNEEAADEVFKDIMESSPGSSPPNLTPKPLRRQVTVAPASGLPHKEEAGKGS\n",
      "ALGTPAAAEPVTPTSKAGSGAPGGTSKGPAEESRVRRHKHSSESPGRDKGKLSRLKPAPP\n",
      "PPPAASAGKAGGKPSQSPSQEAAGEAVLGAKTKATSLVDAVNSDAAKPSQPGEGLKKPVL\n",
      "PATPKPQSAKPSGTPISPAPVPSTLPSASSALAGDQPSSTAFIPLISTRVSLRKTRQPPE\n",
      "RIASGAITKGVVLDSTEALCLAISRNSEQMASHSAVLEAGKNLYTFCVSYVDSIQQMRNK\n",
      "FAFREAINKLENNLRELQICPATAGSGPAATQDFSKLLSSVKEISDIVQR\n",
      "\n"
     ]
    }
   ],
   "source": [
    "r = requests.get(\"https://www.uniprot.org/uniprot/P00519.fasta\")\n",
    "r.raise_for_status()\n",
    "print(r.text)\n",
    "\n",
    "#NBVAR_RST_输出"
   ]
  },
  {
   "cell_type": "markdown",
   "metadata": {},
   "source": [
    "如果我们用f字符串参数化URL并提供一个函数使其超级Python会怎样？更好的是，如果我们也提供“Bio.SeqIO”解析功能会怎样？"
   ]
  },
  {
   "cell_type": "code",
   "execution_count": 15,
   "metadata": {
    "tags": []
   },
   "outputs": [],
   "source": [
    "def sequence_for_uniprot_id(uniprot_id):\n",
    "    \"\"\"\n",
    "    Returns the FASTA sequence of a given Uniprot ID using\n",
    "    the UniProt URL-based API\n",
    "\n",
    "    Parameters\n",
    "    ----------\n",
    "    uniprot_id : str\n",
    "\n",
    "    Returns\n",
    "    -------\n",
    "    Bio.SeqIO.SeqRecord\n",
    "    \"\"\"\n",
    "    #                                                  这是关键部分！\n",
    "    r = requests.get(f\"https://www.uniprot.org/uniprot/{uniprot_id}.fasta\")\n",
    "    r.raise_for_status()\n",
    "\n",
    "    with NamedTemporaryFile(suffix=\".fasta\", mode=\"w\", delete=False) as tmp:\n",
    "        tmp.write(r.text)\n",
    "\n",
    "    sequence = SeqIO.read(tmp.name, format=\"fasta\")\n",
    "    os.remove(tmp.name)\n",
    "\n",
    "    return sequence"
   ]
  },
  {
   "cell_type": "markdown",
   "metadata": {},
   "source": [
    "现在您可以将其用于任何UniProt ID。这是用于[Src kinase](https：//www.uniprot.org/uniprot/P12931)："
   ]
  },
  {
   "cell_type": "code",
   "execution_count": 16,
   "metadata": {
    "tags": []
   },
   "outputs": [
    {
     "name": "stdout",
     "output_type": "stream",
     "text": [
      "ID: sp|P12931|SRC_HUMAN\n",
      "Name: sp|P12931|SRC_HUMAN\n",
      "Description: sp|P12931|SRC_HUMAN Proto-oncogene tyrosine-protein kinase Src OS=Homo sapiens OX=9606 GN=SRC PE=1 SV=3\n",
      "Number of features: 0\n",
      "Seq('MGSNKSKPKDASQRRRSLEPAENVHGAGGGAFPASQTPSKPASADGHRGPSAAF...ENL', SingleLetterAlphabet())\n"
     ]
    }
   ],
   "source": [
    "sequence = sequence_for_uniprot_id(\"P12931\")\n",
    "print(sequence)\n",
    "\n",
    "#NBVAR_RST_输出"
   ]
  },
  {
   "cell_type": "markdown",
   "metadata": {},
   "source": [
    "恭喜！您已经使用了Python中的第一个在线API，并将其调整为工作流程！"
   ]
  },
  {
   "cell_type": "markdown",
   "metadata": {},
   "source": [
    "# 编程界面\n",
    "\n",
    "UniProt对其URL所做的是提供对其数据库访问权限的一种方式，即通过特定的URL方案。然而，如果每个网络服务都必须提出自己的方案，那么开发人员将需要弄清楚网站正在使用的方案，然后根据具体情况实施、调整或定制他们的脚本。幸运的是，有一些标准化的方法可以提供对在线资源的编程访问。其中一些包括：\n",
    "- 基于HTTPS的RESTful API（[wiki](https：//en.wikipedia.org/wiki/Representational_state_transfer#accused_to_Web_services））\n",
    "- GraphQL\n",
    "- 肥皂\n",
    "- gRPC\n",
    "\n",
    "在本期谈话中，我们将重点关注第一个[REST]（https：//en.wikipedia.org/wiki/Representational_state_transfer)。"
   ]
  },
  {
   "cell_type": "markdown",
   "metadata": {},
   "source": [
    "# 基于HTTP的RESTful接口\n",
    "\n",
    "这种程序化访问为需要程序化访问的客户端(脚本、库、程序)定义了一个特定的入口点，类似于`api.webservice.com`。这通常与网站本身(`webservice.com`)不同。它们可以版本化，因此提供商可以在不中断现有实现的情况下更新方案(即使部署了`api.webservice.com/v2`，`api.webservice.com/v1`仍然可以使用)。\n",
    "\n",
    "这类API通常伴随着编写良好的文档，说明平台中的所有可用操作。例如，查看[KLIFSAPI文档](https://klifs.net/swagger).KLIFS是一个包含激酶靶标和小分子化合物抑制剂的数据库。您可以看到如何记录每个参数和选项，以及用法示例。\n",
    "\n",
    "如果您想要列出KLIF中可用的所有激酶家族，您需要访问以下URL：\n",
    "\n",
    "```Https://klifs.net/api/kinase_groups\n",
    "```<详细信息>\n",
    "<摘要>\n",
    "结果(单击此处！)\n",
    "</摘要>\n",
    "\n",
    "```[\n",
    "“AGC”，\n",
    "“CAMK”，\n",
    "“CK1”，\n",
    "“CMGC”，\n",
    "“其他”，\n",
    "“STE”，\n",
    "“Tk”，\n",
    "“将军澳”\n",
    "]\n",
    "```</详细信息>\n",
    "\n",
    "\n",
    "这个回答恰好是[JJSON](https://en.wikipedia.org/wiki/JJSON)-formatted！使用`json`库可以很容易地将其解析为一个Python对象。最好的消息是，你甚至不需要它。通过`.json()`方法，使用`quests`可以在三行内完成以下操作："
   ]
  },
  {
   "cell_type": "code",
   "execution_count": 17,
   "metadata": {
    "tags": []
   },
   "outputs": [
    {
     "data": {
      "text/plain": [
       "['AGC', 'CAMK', 'CK1', 'CMGC', 'Other', 'STE', 'TK', 'TKL']"
      ]
     },
     "execution_count": 17,
     "metadata": {},
     "output_type": "execute_result"
    }
   ],
   "source": [
    "import requests\n",
    "\n",
    "response = requests.get(\"https://klifs.net/api/kinase_groups\")\n",
    "response.raise_for_status()\n",
    "result = response.json()\n",
    "result\n",
    "\n",
    "#NBVAR_RST_输出"
   ]
  },
  {
   "cell_type": "markdown",
   "metadata": {},
   "source": [
    "那是一个Python“列表”！"
   ]
  },
  {
   "cell_type": "code",
   "execution_count": 18,
   "metadata": {
    "tags": []
   },
   "outputs": [
    {
     "data": {
      "text/plain": [
       "'AGC'"
      ]
     },
     "execution_count": 18,
     "metadata": {},
     "output_type": "execute_result"
    }
   ],
   "source": [
    "result[0]"
   ]
  },
  {
   "cell_type": "markdown",
   "metadata": {},
   "source": [
    "让我们看看是否可以将所有的kinase _family_包含在特定的组中。阅读文档，看起来我们需要这种URL：\n",
    "\n",
    "```https://klifs.net/api/kinase_families? kinase_group={{ Name }}\n",
    "```>'后面是什么？'符号是_查询_。它的格式如下：“key=Value”。多个参数可以用&来表示：\n",
    "> >'\n",
    "> https://api.webservice.com/some/endpoint?参数1 =值1 &参数2 =值2\n",
    "> '\n",
    "\n",
    "让我们看看返回的酪蛋白酶（TK）组对象：“family=TK”"
   ]
  },
  {
   "cell_type": "code",
   "execution_count": 19,
   "metadata": {
    "tags": []
   },
   "outputs": [
    {
     "data": {
      "text/plain": [
       "['ALK',\n",
       " 'Abl',\n",
       " 'Ack',\n",
       " 'Alk',\n",
       " 'Axl',\n",
       " 'CCK4',\n",
       " 'Csk',\n",
       " 'DDR',\n",
       " 'EGFR',\n",
       " 'Eph',\n",
       " 'FAK',\n",
       " 'FGFR',\n",
       " 'Fer',\n",
       " 'InsR',\n",
       " 'JakA',\n",
       " 'JakB',\n",
       " 'Lmr',\n",
       " 'Met',\n",
       " 'Musk',\n",
       " 'PDGFR',\n",
       " 'Ret',\n",
       " 'Ror',\n",
       " 'Ryk',\n",
       " 'Sev',\n",
       " 'Src',\n",
       " 'Syk',\n",
       " 'TK-Unique',\n",
       " 'Tec',\n",
       " 'Tie',\n",
       " 'Trk',\n",
       " 'VEGFR']"
      ]
     },
     "execution_count": 19,
     "metadata": {},
     "output_type": "execute_result"
    }
   ],
   "source": [
    "response = requests.get(\"https://klifs.net/api/kinase_families?kinase_group=TK\")\n",
    "response.raise_for_status()\n",
    "result = response.json()\n",
    "result"
   ]
  },
  {
   "cell_type": "markdown",
   "metadata": {},
   "source": [
    "由于将参数传递到URL是一项非常常见的任务，因此“请求”提供了一种更方便的方法。这将使您免于手动构建URL或HTML逸出值。关键想法是将键-值对作为字典传递。之前的查询可以（如果您问我们，也应该这样做）这样完成："
   ]
  },
  {
   "cell_type": "code",
   "execution_count": 20,
   "metadata": {
    "tags": []
   },
   "outputs": [
    {
     "name": "stdout",
     "output_type": "stream",
     "text": [
      "Queried https://klifs.net/api/kinase_families?kinase_group=TK\n"
     ]
    },
    {
     "data": {
      "text/plain": [
       "['ALK',\n",
       " 'Abl',\n",
       " 'Ack',\n",
       " 'Alk',\n",
       " 'Axl',\n",
       " 'CCK4',\n",
       " 'Csk',\n",
       " 'DDR',\n",
       " 'EGFR',\n",
       " 'Eph',\n",
       " 'FAK',\n",
       " 'FGFR',\n",
       " 'Fer',\n",
       " 'InsR',\n",
       " 'JakA',\n",
       " 'JakB',\n",
       " 'Lmr',\n",
       " 'Met',\n",
       " 'Musk',\n",
       " 'PDGFR',\n",
       " 'Ret',\n",
       " 'Ror',\n",
       " 'Ryk',\n",
       " 'Sev',\n",
       " 'Src',\n",
       " 'Syk',\n",
       " 'TK-Unique',\n",
       " 'Tec',\n",
       " 'Tie',\n",
       " 'Trk',\n",
       " 'VEGFR']"
      ]
     },
     "execution_count": 20,
     "metadata": {},
     "output_type": "execute_result"
    }
   ],
   "source": [
    "response = requests.get(\"https://klifs.net/api/kinase_families\", params={\"kinase_group\": \"TK\"})\n",
    "#您可以查看请求如何为您格式化URL\n",
    "print(\"Queried\", response.url)\n",
    "response.raise_for_status()\n",
    "result = response.json()\n",
    "result"
   ]
  },
  {
   "cell_type": "markdown",
   "metadata": {},
   "source": [
    "有时，返回的JSON对象不是列表，而是命令。或者字典和列表的组合。甚至可能嵌套！您仍然可以使用您已知的Python工具访问它们。\n",
    "\n",
    "例如，' kinase_info ' endpoint _needs_ a数字ID，并将返回有关单个Kinase的大量信息："
   ]
  },
  {
   "cell_type": "code",
   "execution_count": 21,
   "metadata": {
    "tags": []
   },
   "outputs": [
    {
     "data": {
      "text/plain": [
       "[{'kinase_ID': 22,\n",
       "  'name': 'MASTL',\n",
       "  'HGNC': 'MASTL',\n",
       "  'family': 'MAST',\n",
       "  'group': 'AGC',\n",
       "  'kinase_class': 'MASTL',\n",
       "  'species': 'Human',\n",
       "  'full_name': 'microtubule associated serine/threonine kinase like',\n",
       "  'uniprot': 'Q96GX5',\n",
       "  'iuphar': 0,\n",
       "  'pocket': 'KPISRGAFGKVYLYAVKVVQVQAERDALALSKPFIVHLYYSYLVMEYLIGGDVKSLLHIYLHRHGIIHRDLKPDNMLILTDFGLS'}]"
      ]
     },
     "execution_count": 21,
     "metadata": {},
     "output_type": "execute_result"
    }
   ],
   "source": [
    "response = requests.get(\"https://klifs.net/api/kinase_information\", params={\"kinase_ID\": 22})\n",
    "response.raise_for_status()\n",
    "result = response.json()\n",
    "result\n",
    "\n",
    "#NBVAR_RST_输出"
   ]
  },
  {
   "cell_type": "markdown",
   "metadata": {},
   "source": [
    "如果您想知道该酶的UniProt ID，您需要访问返回列表中的第一个（也是唯一一个）元素，并询问“uniprot”键的值："
   ]
  },
  {
   "cell_type": "code",
   "execution_count": 22,
   "metadata": {
    "tags": []
   },
   "outputs": [
    {
     "data": {
      "text/plain": [
       "'Q96GX5'"
      ]
     },
     "execution_count": 22,
     "metadata": {},
     "output_type": "execute_result"
    }
   ],
   "source": [
    "result[0][\"uniprot\"]"
   ]
  },
  {
   "cell_type": "markdown",
   "metadata": {},
   "source": [
    "事实证明，我们可以使用之前的UniProt函数来获取蛋白质的完整序列（而不仅仅是口袋序列）！"
   ]
  },
  {
   "cell_type": "code",
   "execution_count": 23,
   "metadata": {
    "tags": []
   },
   "outputs": [
    {
     "name": "stdout",
     "output_type": "stream",
     "text": [
      "MDPTAGSKKEPGGGAATEEGVNRIAVPKPPSIEEFSIVKPISRGAFGKVYLGQKGGKLYAVKVVKKADMINKNMTHQVQAERDALALSKSPFIVHLYYSLQSANNVYLVMEYLIGGDVKSLLHIYGYFDEEMAVKYISEVALALDYLHRHGIIHRDLKPDNMLISNEGHIKLTDFGLSKVTLNRDINMMDILTTPSMAKPRQDYSRTPGQVLSLISSLGFNTPIAEKNQDPANILSACLSETSQLSQGLVCPMSVDQKDTTPYSSKLLKSCLETVASNPGMPVKCLTSNLLQSRKRLATSSASSQSHTFISSVESECHSSPKWEKDCQESDEALGPTMMSWNAVEKLCAKSANAIETKGFNKKDLELALSPIHNSSALPTTGRSCVNLAKKCFSGEVSWEAVELDVNNINMDTDTSQLGFHQSNQWAVDSGGISEEHLGKRSLKRNFELVDSSPCKKIIQNKKTCVEYKHNEMTNCYTNQNTGLTVEVQDLKLSVHKSQQNDCANKENIVNSFTDKQQTPEKLPIPMIAKNLMCELDEDCEKNSKRDYLSSSFLCSDDDRASKNISMNSDSSFPGISIMESPLESQPLDSDRSIKESSFEESNIEDPLIVTPDCQEKTSPKGVENPAVQESNQKMLGPPLEVLKTLASKRNAVAFRSFNSHINASNNSEPSRMNMTSLDAMDISCAYSGSYPMAITPTQKRRSCMPHQQTPNQIKSGTPYRTPKSVRRGVAPVDDGRILGTPDYLAPELLLGRAHGPAVDWWALGVCLFEFLTGIPPFNDETPQQVFQNILKRDIPWPEGEEKLSDNAQSAVEILLTIDDTKRAGMKELKRHPLFSDVDWENLQHQTMPFIPQPDDETDTSYFEARNTAQHLTVSGFSL\n"
     ]
    }
   ],
   "source": [
    "mastl = sequence_for_uniprot_id(result[0][\"uniprot\"])\n",
    "print(mastl.seq)\n",
    "\n",
    "#NBVAR_RST_输出"
   ]
  },
  {
   "cell_type": "markdown",
   "metadata": {},
   "source": [
    "我们正在一起使用两个网络服务，太棒了！"
   ]
  },
  {
   "cell_type": "markdown",
   "metadata": {},
   "source": [
    "# 为任何API生成客户端\n",
    "\n",
    "你觉得这方便吗？好吧，我们还没结束！您可能已经注意到，KlIFS API中的所有端点都具有类似的模式。您指定终点的名称（“kinase_groups”、“kinase_families”、“kinase_info”、.），如果需要，传递一些（可选）参数，然后获取杨森格式的响应。有没有一种方法可以避免自己格式化URL？答案是...是的！\n",
    "\n",
    "REST API方案可以在名为[Swagger/OpenAPI定义](https：//swagger.io/docs/specification/about/）的文档中以编程方式表达，该文档允许为任何实现Swagger/OpenAPI方案的REST API动态生成Python客户端。[This是针对KlIFS的]（https：//klifs.net/swagger/swagger.json)。\n",
    "\n",
    "当然，Python中有一些库可以做到这一点，比如“bravado”。"
   ]
  },
  {
   "cell_type": "code",
   "execution_count": 24,
   "metadata": {
    "tags": []
   },
   "outputs": [
    {
     "data": {
      "text/plain": [
       "SwaggerClient(https://klifs.net/api)"
      ]
     },
     "execution_count": 24,
     "metadata": {},
     "output_type": "execute_result"
    }
   ],
   "source": [
    "from bravado.client import SwaggerClient\n",
    "\n",
    "KLIFS_SWAGGER = \"https://klifs.net/swagger/swagger.json\"\n",
    "client = SwaggerClient.from_url(KLIFS_SWAGGER, config={\"validate_responses\": False})\n",
    "client"
   ]
  },
  {
   "cell_type": "markdown",
   "metadata": {},
   "source": [
    "然后，您可以很高兴地检查“客户端”对象中的所有API动作作为方法。\n",
    "\n",
    "__提示__：输入“客户端”。然后按<kbd>Tab</kbd>键检查此笔记本中的客户端。"
   ]
  },
  {
   "cell_type": "code",
   "execution_count": 25,
   "metadata": {
    "tags": []
   },
   "outputs": [],
   "source": [
    "?client.Information.get_kinase_names"
   ]
  },
  {
   "cell_type": "markdown",
   "metadata": {},
   "source": [
    "“bravado”是自动生成类和函数，它们镜像了我们之前使用的API！这有多酷？现在无需请求即可完成相同的查询。"
   ]
  },
  {
   "cell_type": "code",
   "execution_count": 26,
   "metadata": {
    "tags": []
   },
   "outputs": [
    {
     "data": {
      "text/plain": [
       "<bravado.http_future.HttpFuture at 0x7efddec36b50>"
      ]
     },
     "execution_count": 26,
     "metadata": {},
     "output_type": "execute_result"
    }
   ],
   "source": [
    "client.Information.get_kinase_information(kinase_ID=[22])"
   ]
  },
  {
   "cell_type": "markdown",
   "metadata": {},
   "source": [
    "请注意，“bravado”不会_not_立即返回响应。它创建了一个_promise_，当您请求时它就会这样做。这使得它可以在同步编程中使用，但对于我们的目的来说，这意味着您需要用'. select（）'来调用它。"
   ]
  },
  {
   "cell_type": "code",
   "execution_count": 27,
   "metadata": {
    "tags": []
   },
   "outputs": [
    {
     "data": {
      "text/plain": [
       "KinaseInformation(HGNC='MASTL', family='MAST', full_name='microtubule associated serine/threonine kinase like', group='AGC', iuphar=0, kinase_ID=22, kinase_class='MASTL', name='MASTL', pocket='KPISRGAFGKVYLYAVKVVQVQAERDALALSKPFIVHLYYSYLVMEYLIGGDVKSLLHIYLHRHGIIHRDLKPDNMLILTDFGLS', species='Human', uniprot='Q96GX5')"
      ]
     },
     "execution_count": 27,
     "metadata": {},
     "output_type": "execute_result"
    }
   ],
   "source": [
    "results = client.Information.get_kinase_information(kinase_ID=[22]).result()\n",
    "result = results[0]\n",
    "result"
   ]
  },
  {
   "cell_type": "code",
   "execution_count": 28,
   "metadata": {
    "tags": []
   },
   "outputs": [
    {
     "data": {
      "text/plain": [
       "'Q96GX5'"
      ]
     },
     "execution_count": 28,
     "metadata": {},
     "output_type": "execute_result"
    }
   ],
   "source": [
    "result.uniprot\n",
    "\n",
    "#NBVAR_RST_输出"
   ]
  },
  {
   "cell_type": "markdown",
   "metadata": {},
   "source": [
    "' bravado '还为您构建结果_对象_，因此您不必使用'结果[“属性”]'语法，而是使用' result. Property '语法。为最终用户提供更多便利;）"
   ]
  },
  {
   "cell_type": "markdown",
   "metadata": {},
   "source": [
    "# 文档解析\n",
    "\n",
    "有时，Web服务不会提供生成机器可读文档的标准化API。相反，您必须使用常规网页并解析HTML代码才能获取所需的信息。这被称为（网络）__scraping__，通常涉及找到包含有价值数据的正确HTML标签和ID（忽略边栏、顶部菜单、页脚、广告等内容）。\n",
    "\n",
    "在抓取时，您基本上要做两件事：\n",
    "\n",
    "1.通过“请求”访问网页并获取HTML内容。\n",
    "2.使用“BeautifulSoup”或“请求s-html”解析HTML字符串。\n",
    "\n",
    "\n",
    "让我们解析这篇[维基百科文章](https：//en.wikipedia.org/wiki/Proteinogenic_amin_acy)中的蛋白质氨基酸表："
   ]
  },
  {
   "cell_type": "code",
   "execution_count": 29,
   "metadata": {
    "tags": []
   },
   "outputs": [
    {
     "data": {
      "text/html": [
       "<div>\n",
       "<style scoped>\n",
       "    .dataframe tbody tr th:only-of-type {\n",
       "        vertical-align: middle;\n",
       "    }\n",
       "\n",
       "    .dataframe tbody tr th {\n",
       "        vertical-align: top;\n",
       "    }\n",
       "\n",
       "    .dataframe thead th {\n",
       "        text-align: right;\n",
       "    }\n",
       "</style>\n",
       "<table border=\"1\" class=\"dataframe\">\n",
       "  <thead>\n",
       "    <tr style=\"text-align: right;\">\n",
       "      <th></th>\n",
       "      <th>0</th>\n",
       "      <th>1</th>\n",
       "      <th>2</th>\n",
       "      <th>3</th>\n",
       "      <th>4</th>\n",
       "      <th>5</th>\n",
       "    </tr>\n",
       "  </thead>\n",
       "  <tbody>\n",
       "    <tr>\n",
       "      <th>0</th>\n",
       "      <td>A</td>\n",
       "      <td>Ala</td>\n",
       "      <td>89.09404</td>\n",
       "      <td>6.01</td>\n",
       "      <td>2.35</td>\n",
       "      <td>9.87</td>\n",
       "    </tr>\n",
       "    <tr>\n",
       "      <th>1</th>\n",
       "      <td>C</td>\n",
       "      <td>Cys</td>\n",
       "      <td>121.15404</td>\n",
       "      <td>5.05</td>\n",
       "      <td>1.92</td>\n",
       "      <td>10.70</td>\n",
       "    </tr>\n",
       "    <tr>\n",
       "      <th>2</th>\n",
       "      <td>D</td>\n",
       "      <td>Asp</td>\n",
       "      <td>133.10384</td>\n",
       "      <td>2.85</td>\n",
       "      <td>1.99</td>\n",
       "      <td>9.90</td>\n",
       "    </tr>\n",
       "    <tr>\n",
       "      <th>3</th>\n",
       "      <td>E</td>\n",
       "      <td>Glu</td>\n",
       "      <td>147.13074</td>\n",
       "      <td>3.15</td>\n",
       "      <td>2.10</td>\n",
       "      <td>9.47</td>\n",
       "    </tr>\n",
       "    <tr>\n",
       "      <th>4</th>\n",
       "      <td>F</td>\n",
       "      <td>Phe</td>\n",
       "      <td>165.19184</td>\n",
       "      <td>5.49</td>\n",
       "      <td>2.20</td>\n",
       "      <td>9.31</td>\n",
       "    </tr>\n",
       "    <tr>\n",
       "      <th>5</th>\n",
       "      <td>G</td>\n",
       "      <td>Gly</td>\n",
       "      <td>75.06714</td>\n",
       "      <td>6.06</td>\n",
       "      <td>2.35</td>\n",
       "      <td>9.78</td>\n",
       "    </tr>\n",
       "    <tr>\n",
       "      <th>6</th>\n",
       "      <td>H</td>\n",
       "      <td>His</td>\n",
       "      <td>155.15634</td>\n",
       "      <td>7.60</td>\n",
       "      <td>1.80</td>\n",
       "      <td>9.33</td>\n",
       "    </tr>\n",
       "    <tr>\n",
       "      <th>7</th>\n",
       "      <td>I</td>\n",
       "      <td>Ile</td>\n",
       "      <td>131.17464</td>\n",
       "      <td>6.05</td>\n",
       "      <td>2.32</td>\n",
       "      <td>9.76</td>\n",
       "    </tr>\n",
       "    <tr>\n",
       "      <th>8</th>\n",
       "      <td>K</td>\n",
       "      <td>Lys</td>\n",
       "      <td>146.18934</td>\n",
       "      <td>9.60</td>\n",
       "      <td>2.16</td>\n",
       "      <td>9.06</td>\n",
       "    </tr>\n",
       "    <tr>\n",
       "      <th>9</th>\n",
       "      <td>L</td>\n",
       "      <td>Leu</td>\n",
       "      <td>131.17464</td>\n",
       "      <td>6.01</td>\n",
       "      <td>2.33</td>\n",
       "      <td>9.74</td>\n",
       "    </tr>\n",
       "    <tr>\n",
       "      <th>10</th>\n",
       "      <td>M</td>\n",
       "      <td>Met</td>\n",
       "      <td>149.20784</td>\n",
       "      <td>5.74</td>\n",
       "      <td>2.13</td>\n",
       "      <td>9.28</td>\n",
       "    </tr>\n",
       "    <tr>\n",
       "      <th>11</th>\n",
       "      <td>N</td>\n",
       "      <td>Asn</td>\n",
       "      <td>132.11904</td>\n",
       "      <td>5.41</td>\n",
       "      <td>2.14</td>\n",
       "      <td>8.72</td>\n",
       "    </tr>\n",
       "    <tr>\n",
       "      <th>12</th>\n",
       "      <td>O</td>\n",
       "      <td>Pyl</td>\n",
       "      <td>255.31000</td>\n",
       "      <td>NaN</td>\n",
       "      <td>NaN</td>\n",
       "      <td>NaN</td>\n",
       "    </tr>\n",
       "    <tr>\n",
       "      <th>13</th>\n",
       "      <td>P</td>\n",
       "      <td>Pro</td>\n",
       "      <td>115.13194</td>\n",
       "      <td>6.30</td>\n",
       "      <td>1.95</td>\n",
       "      <td>10.64</td>\n",
       "    </tr>\n",
       "    <tr>\n",
       "      <th>14</th>\n",
       "      <td>Q</td>\n",
       "      <td>Gln</td>\n",
       "      <td>146.14594</td>\n",
       "      <td>5.65</td>\n",
       "      <td>2.17</td>\n",
       "      <td>9.13</td>\n",
       "    </tr>\n",
       "    <tr>\n",
       "      <th>15</th>\n",
       "      <td>R</td>\n",
       "      <td>Arg</td>\n",
       "      <td>174.20274</td>\n",
       "      <td>10.76</td>\n",
       "      <td>1.82</td>\n",
       "      <td>8.99</td>\n",
       "    </tr>\n",
       "    <tr>\n",
       "      <th>16</th>\n",
       "      <td>S</td>\n",
       "      <td>Ser</td>\n",
       "      <td>105.09344</td>\n",
       "      <td>5.68</td>\n",
       "      <td>2.19</td>\n",
       "      <td>9.21</td>\n",
       "    </tr>\n",
       "    <tr>\n",
       "      <th>17</th>\n",
       "      <td>T</td>\n",
       "      <td>Thr</td>\n",
       "      <td>119.12034</td>\n",
       "      <td>5.60</td>\n",
       "      <td>2.09</td>\n",
       "      <td>9.10</td>\n",
       "    </tr>\n",
       "    <tr>\n",
       "      <th>18</th>\n",
       "      <td>U</td>\n",
       "      <td>Sec</td>\n",
       "      <td>168.05300</td>\n",
       "      <td>5.47</td>\n",
       "      <td>1.91</td>\n",
       "      <td>10.00</td>\n",
       "    </tr>\n",
       "    <tr>\n",
       "      <th>19</th>\n",
       "      <td>V</td>\n",
       "      <td>Val</td>\n",
       "      <td>117.14784</td>\n",
       "      <td>6.00</td>\n",
       "      <td>2.39</td>\n",
       "      <td>9.74</td>\n",
       "    </tr>\n",
       "    <tr>\n",
       "      <th>20</th>\n",
       "      <td>W</td>\n",
       "      <td>Trp</td>\n",
       "      <td>204.22844</td>\n",
       "      <td>5.89</td>\n",
       "      <td>2.46</td>\n",
       "      <td>9.41</td>\n",
       "    </tr>\n",
       "    <tr>\n",
       "      <th>21</th>\n",
       "      <td>Y</td>\n",
       "      <td>Tyr</td>\n",
       "      <td>181.19124</td>\n",
       "      <td>5.64</td>\n",
       "      <td>2.20</td>\n",
       "      <td>9.21</td>\n",
       "    </tr>\n",
       "  </tbody>\n",
       "</table>\n",
       "</div>"
      ],
      "text/plain": [
       "    0    1          2      3     4      5\n",
       "0   A  Ala   89.09404   6.01  2.35   9.87\n",
       "1   C  Cys  121.15404   5.05  1.92  10.70\n",
       "2   D  Asp  133.10384   2.85  1.99   9.90\n",
       "3   E  Glu  147.13074   3.15  2.10   9.47\n",
       "4   F  Phe  165.19184   5.49  2.20   9.31\n",
       "5   G  Gly   75.06714   6.06  2.35   9.78\n",
       "6   H  His  155.15634   7.60  1.80   9.33\n",
       "7   I  Ile  131.17464   6.05  2.32   9.76\n",
       "8   K  Lys  146.18934   9.60  2.16   9.06\n",
       "9   L  Leu  131.17464   6.01  2.33   9.74\n",
       "10  M  Met  149.20784   5.74  2.13   9.28\n",
       "11  N  Asn  132.11904   5.41  2.14   8.72\n",
       "12  O  Pyl  255.31000    NaN   NaN    NaN\n",
       "13  P  Pro  115.13194   6.30  1.95  10.64\n",
       "14  Q  Gln  146.14594   5.65  2.17   9.13\n",
       "15  R  Arg  174.20274  10.76  1.82   8.99\n",
       "16  S  Ser  105.09344   5.68  2.19   9.21\n",
       "17  T  Thr  119.12034   5.60  2.09   9.10\n",
       "18  U  Sec  168.05300   5.47  1.91  10.00\n",
       "19  V  Val  117.14784   6.00  2.39   9.74\n",
       "20  W  Trp  204.22844   5.89  2.46   9.41\n",
       "21  Y  Tyr  181.19124   5.64  2.20   9.21"
      ]
     },
     "execution_count": 29,
     "metadata": {},
     "output_type": "execute_result"
    }
   ],
   "source": [
    "import requests\n",
    "from bs4 import BeautifulSoup\n",
    "import numpy as np\n",
    "import pandas as pd\n",
    "\n",
    "r = requests.get(\"https://en.wikipedia.org/wiki/Proteinogenic_amino_acid\")\n",
    "r.raise_for_status()\n",
    "\n",
    "#要猜测这里的正确步骤，您必须手动检查HTML代码\n",
    "#提示：使用右键单击+检查任何网页中的内容即可进入HTML定义;）\n",
    "html = BeautifulSoup(r.text)\n",
    "header = html.find(\"span\", id=\"General_chemical_properties\")\n",
    "table = header.find_all_next()[4]\n",
    "table_body = table.find(\"tbody\")\n",
    "\n",
    "data = []\n",
    "for row in table_body.find_all(\"tr\"):\n",
    "    cells = row.find_all(\"td\")\n",
    "    if cells:\n",
    "        data.append([])\n",
    "    for cell in cells:\n",
    "        cell_content = cell.text.strip()\n",
    "        try:  # convert to float if possible\n",
    "            cell_content = float(cell_content)\n",
    "        except ValueError:\n",
    "            pass\n",
    "        data[-1].append(cell_content)\n",
    "\n",
    "#空字段用“？“它将各自的列转换为对象类型\n",
    "#（这里是字符串和浮点数的混合）但我们想要float 64，因此替换“？“具有NaN价值观\n",
    "pd.DataFrame.from_records(data).replace(\"?\", np.nan)\n",
    "\n",
    "#NBVAR_RST_输出"
   ]
  },
  {
   "cell_type": "markdown",
   "metadata": {},
   "source": [
    "# 浏览器远程控制\n",
    "\n",
    "几年前的趋势是构建使用一些JavaScript动态生成HTML文档的服务器（例如维基百科）。换句话说，HTML构建在服务器中并发送到客户端（您的浏览器）。\n",
    "\n",
    "然而，最新趋势指向完全使用JavaScript框架构建的完整应用程序。这意味着HTML内容是在客户端中动态生成的。传统的解析行不通，您只能下载托管JavaScript框架的占位符HTML代码。为了解决这个问题，必须使用客户端JavaScript引擎渲染HTML。\n",
    "\n",
    "我们不会在当前的笔记本中讨论这一点，但如果您感兴趣，您可以查看以下项目：\n",
    "- [puppeteer](https：//github.com/GoogleChrome/puppeteer）\n",
    "- [seleniumhq.org/]（https：//www.seleniumhq.org/)"
   ]
  },
  {
   "cell_type": "markdown",
   "metadata": {},
   "source": [
    "* **\n",
    "\n",
    "## 讨论\n",
    "\n",
    "在本理论介绍中，您已经了解到如何从Python解释器中使用不同的方法来以编程方式访问在线Web服务。利用这些技术，您将能够在Inspyter Notebook内构建自动化管道。最后，查询数据库或下载文件涉及相同类型的工具。\n",
    "\n",
    "不幸的是，一堂课中涉及的有关Web API的材料太多了。例如，如何从Python_send_ or _upload_ contents？你可以提交表格吗？如果您有兴趣了解更多信息，“请求”[文档](https：//quests.readthedocs.io/）应该是您的首选资源。一些有趣的部分包括：\n",
    "* [提交带有Post请求的表格]（https：//docs.python-quests.org/en/v1.1.0/user/quickstart/#more-complicated-post-equals）\n",
    "* [用户验证]（https：//docs.python-quests.org/en/v1.1.0/user/validation/#basic-validation)"
   ]
  },
  {
   "cell_type": "markdown",
   "metadata": {},
   "source": [
    "## 测验\n",
    "* 使用KlIFS API（有或没有“bravado”，由您决定）找到所有可以结合十字孢子素（配体代码“STU”）的酶。\n",
    "* 如何找到正确的HTML标签和标识符来抓取网站的特定部分？它可以自动化吗？\n",
    "* 您宁愿使用编程API还是手动创建的抓取器？"
   ]
  }
 ],
 "metadata": {
  "kernelspec": {
   "display_name": "Python 3 (ipykernel)",
   "language": "python",
   "name": "python3"
  },
  "language_info": {
   "codemirror_mode": {
    "name": "ipython",
    "version": 3
   },
   "file_extension": ".py",
   "mimetype": "text/x-python",
   "name": "python",
   "nbconvert_exporter": "python",
   "pygments_lexer": "ipython3",
   "version": "3.9.16"
  },
  "toc-autonumbering": true,
  "widgets": {
   "application/vnd.jupyter.widget-state+json": {
    "state": {},
    "version_major": 2,
    "version_minor": 0
   }
  }
 },
 "nbformat": 4,
 "nbformat_minor": 4
}
