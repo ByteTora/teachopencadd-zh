{
 "cells": [
  {
   "cell_type": "markdown",
   "metadata": {},
   "source": [
    "# T002 · 分子筛选：ADME和类药性标准\n"
   ]
  },
  {
   "cell_type": "markdown",
   "metadata": {},
   "source": [
    "## 教程目标\n",
    "\n",
    "在药物设计领域，根据例如它们的物理化学性质来筛选候选分子非常重要。在这个教程中，我们将使用 Lipinski 的五规则来筛选从 ChEMBL 获取的化合物（见课程 __T001__），以保留只有口服生物利用度的化合物。\n"
   ]
  },
  {
   "cell_type": "markdown",
   "metadata": {},
   "source": [
    "### _理论_ 部分\n",
    "\n",
    "* ADME - 吸收、分布、代谢和排泄\n",
    "* 类药性与利平斯基五规则（Ro5）\n",
    "* 在类药性背景下的雷达图\n"
   ]
  },
  {
   "cell_type": "markdown",
   "metadata": {},
   "source": [
    "### _实践_ 部分\n",
    "\n",
    "* 定义并可视化示例分子\n",
    "* 计算并绘制Ro5的分子属性\n",
    "* 检查Ro5的合规性\n",
    "* 将Ro5应用于EGFR数据集\n",
    "* 可视化Ro5属性（雷达图）\n"
   ]
  },
  {
   "cell_type": "markdown",
   "metadata": {},
   "source": [
    "### 参考文献\n",
    "\n",
    "* ADME criteria ([Wikipedia](https://en.wikipedia.org/wiki/ADME) and [<i>Mol Pharm.</i> (2010), <b>7(5)</b>, 1388-1405](https://www.ncbi.nlm.nih.gov/pmc/articles/PMC3025274/))\n",
    "* [SwissADME](https://www.nature.com/articles/srep42717) webserver\n",
    "* What are lead compounds? ([Wikipedia](https://en.wikipedia.org/wiki/Lead_compound))\n",
    "* What is the LogP value? ([Wikipedia](https://en.wikipedia.org/wiki/Partition_coefficient))\n",
    "* Lipinski et al. \"Experimental and computational approaches to estimate solubility and permeability in drug discovery and development settings.\" ([<i>Adv. Drug Deliv. Rev.</i> (1997), <b>23</b>, 3-25](https://www.sciencedirect.com/science/article/pii/S0169409X96004231))\n",
    "* Ritchie et al. \"Graphical representation of ADME-related molecule properties for medicinal chemists\" ([<i>Drug. Discov. Today</i> (2011), <b>16</b>, 65-72](https://www.ncbi.nlm.nih.gov/pubmed/21074634))"
   ]
  },
  {
   "cell_type": "markdown",
   "metadata": {},
   "source": [
    "## 理论\n",
    "\n",
    "在虚拟筛选中，我们的目标是预测一个化合物是否可能与特定靶标结合并与之相互作用。然而，如果我们想要鉴定一种新药，这个化合物能否以有利的方式到达目标并最终从体内清除也很重要。因此，我们还应该考虑一个化合物是否真的被吸收进入体内，以及它是否能够穿越某些屏障以到达其目标。它在代谢上是否稳定，一旦不再作用于目标，它将如何被排泄？这些过程在药代动力学领域进行了研究。与药效学（“药物对我们的身体做了什么？”）不同，药代动力学处理的问题是“药物在我们体内发生了什么？”。"
   ]
  },
  {
   "cell_type": "markdown",
   "metadata": {},
   "source": [
    "### ADME - 吸收、分布、代谢和排泄\n",
    "\n",
    "药代动力学主要分为四个步骤：\n",
    "**A**bsorption（吸收），\n",
    "**D**istribution（分布），\n",
    "**M**etabolism（代谢），\n",
    "**E**xcretion（排泄）。\n",
    "这些步骤被总结为**ADME**。\n",
    "通常，ADME还包括**T**oxicology（毒理学），因此被称为ADMET或ADMETox。\n",
    "下面将更详细地讨论ADME步骤（[维基百科](https://en.wikipedia.org/wiki/ADME) 和 [<i>Mol Pharm.</i> (2010), <b>7(5)</b>, 1388-1405](https://www.ncbi.nlm.nih.gov/pmc/articles/PMC3025274/)）。\n"
   ]
  },
  {
   "cell_type": "markdown",
   "metadata": {},
   "source": [
    "**吸收**：药物进入体内的量和时间取决于多种因素，这些因素可能因个体及其状况以及物质本身的特性而有所不同。诸如（差）化合物溶解度、胃排空时间、肠道通过时间、在胃中的化学（不）稳定性以及（不）能够穿透肠壁等因素，都可能影响药物在例如口服、吸入或皮肤接触后的被吸收程度。\n"
   ]
  },
  {
   "cell_type": "markdown",
   "metadata": {},
   "source": [
    "**分布**: 吸收物质在体内的分布，即在血液和不同组织之间，以及穿越血脑屏障，受区域血流速率、化合物的分子大小和极性，以及与血清蛋白和转运酶的结合能力的影响。在毒理学中，关键效应可能是高度非极性物质在脂肪组织的积累，或穿越血脑屏障。\n"
   ]
  },
  {
   "cell_type": "markdown",
   "metadata": {},
   "source": [
    "**代谢**: 进入体内后，化合物将被代谢。这意味着只有部分化合物实际上会到达其目标。主要是肝脏和肾脏的酶负责分解异物（对身体来说是外来的物质）。"
   ]
  },
  {
   "cell_type": "markdown",
   "metadata": {},
   "source": [
    "**排泄**: 化合物及其代谢产物需要通过排泄从体内清除，通常通过肾脏（尿液）或粪便排出。排泄不完全可能导致外来物质的积累或对正常代谢产生不利干扰。\n"
   ]
  },
  {
   "cell_type": "markdown",
   "metadata": {},
   "source": [
    "![ADME processes in the human body](images/adme.png)\n",
    "\n",
    "_Figure 1_: ADME 过程在人体中（图表取自[Openclipart](https://openclipart.org/)，已改编）。"
   ]
  },
  {
   "cell_type": "markdown",
   "metadata": {},
   "source": [
    "### 先导化合物的相似性与利平斯基五规则（Ro5）\n",
    "\n",
    "[**先导**化合物](https://en.wikipedia.org/wiki/Lead_compound) 是具有良好属性的潜在药物候选物。它们被用作起始结构，并进行修改，目的是开发有效的药物。除了生物活性（化合物与感兴趣的靶标结合）之外，有利的ADME属性也是设计高效药物的重要标准。\n",
    "\n",
    "化合物的生物利用度是一个重要的ADME属性。利平斯基五规则（Ro5，[<i>Adv. Drug Deliv. Rev.</i> (1997), <b>23</b>, 3-25](https://www.sciencedirect.com/science/article/pii/S0169409X96004231)）被引入，以仅基于其化学结构来估计化合物的生物利用度。\n",
    "Ro5规定，如果化合物的化学结构违反了以下规则中的超过一条，则化合物的吸收或渗透可能性较差：\n",
    "\n",
    "- 分子量（MWT）<= 500 Da\n",
    "- 氢键受体（HBAs）数量<= 10\n",
    "- 氢键供体（HBD）数量<= 5\n",
    "- 计算的LogP（辛醇-水系数）<= 5\n",
    "\n",
    "注意：Ro5中的所有数字都是五的倍数；这是规则名称的由来。\n",
    "\n",
    "附加说明：\n",
    "\n",
    "- [LogP](https://en.wikipedia.org/wiki/Partition_coefficient) 也称为分配系数或辛醇-水系数。它测量化合物的分布，通常介于疏水性（例如1-辛醇）和亲水性（例如水）相之间。\n",
    "- 疏水分子在水中的溶解度可能降低，而更亲水的分子（例如氢键受体和供体数量多）或大分子（分子量高）可能在通过磷脂膜时遇到更多困难。\n"
   ]
  },
  {
   "cell_type": "markdown",
   "metadata": {},
   "source": [
    "### 在先导化合物相似性背景下的雷达图\n",
    "\n",
    "分子属性，如Ro5属性，可以通过多种方式进行可视化（例如，克雷格图、花朵图或黄金三角），以支持药物化学家的解释（[<i>Drug. Discov. Today</i> (2011), <b>16(1-2)</b>, 65-72](https://www.ncbi.nlm.nih.gov/pubmed/21074634)）。\n",
    "\n",
    "由于它们的外观，[雷达图](https://en.wikipedia.org/wiki/Radar_chart) 有时也被称为“蜘蛛”或“蛛网”图。\n",
    "它们以360度的圆形排列，并且每个条件都有一个从中心开始的轴。每个参数的值在轴上被绘制出来，并用线条连接。\n",
    "阴影区域可以指示参数满足条件的区域。\n",
    "\n",
    "![Radar plot for physicochemical properties](images/radarplot.png)\n",
    "\n",
    "_Figure 2_: 雷达图显示化合物数据集的物理化学属性\n"
   ]
  },
  {
   "cell_type": "markdown",
   "metadata": {},
   "source": [
    "## 实战"
   ]
  },
  {
   "cell_type": "code",
   "execution_count": 1,
   "metadata": {},
   "outputs": [],
   "source": [
    "from pathlib import Path\n",
    "import math\n",
    "\n",
    "import numpy as np\n",
    "import pandas as pd\n",
    "import matplotlib.pyplot as plt\n",
    "from matplotlib.lines import Line2D\n",
    "import matplotlib.patches as mpatches\n",
    "from rdkit import Chem\n",
    "from rdkit.Chem import Descriptors, Draw, PandasTools"
   ]
  },
  {
   "cell_type": "code",
   "execution_count": null,
   "metadata": {},
   "outputs": [],
   "source": [
    "# Set path to this notebook\n",
    "HERE = Path(_dh[-1])\n",
    "DATA = HERE / \"data\""
   ]
  },
  {
   "cell_type": "markdown",
   "metadata": {},
   "source": [
    "### 定义并可视化示例分子\n",
    "\n",
    "在处理从ChEMBL检索到的整个数据集之前，我们选择了四种示例化合物来研究它们的化学性质。\n",
    "我们根据它们的SMILES绘制了四种示例分子。\n"
   ]
  },
  {
   "cell_type": "code",
   "execution_count": null,
   "metadata": {},
   "outputs": [],
   "source": [
    "smiles = [\n",
    "    \"CCC1C(=O)N(CC(=O)N(C(C(=O)NC(C(=O)N(C(C(=O)NC(C(=O)NC(C(=O)N(C(C(=O)N(C(C(=O)N(C(C(=O)N(C(C(=O)N1)C(C(C)CC=CC)O)C)C(C)C)C)CC(C)C)C)CC(C)C)C)C)C)CC(C)C)C)C(C)C)CC(C)C)C)C\",\n",
    "    \"CN1CCN(CC1)C2=C3C=CC=CC3=NC4=C(N2)C=C(C=C4)C\",\n",
    "    \"CC1=C(C(CCC1)(C)C)C=CC(=CC=CC(=CC=CC=C(C)C=CC=C(C)C=CC2=C(CCCC2(C)C)C)C)C\",\n",
    "    \"CCCCCC1=CC(=C(C(=C1)O)C2C=C(CCC2C(=C)C)C)O\",\n",
    "]\n",
    "names = [\"cyclosporine\", \"clozapine\", \"beta-carotene\", \"cannabidiol\"]"
   ]
  },
  {
   "cell_type": "markdown",
   "metadata": {},
   "source": [
    "首先，我们将分子的名称和SMILES与它们的结构一起放到一个DataFrame中。\n"
   ]
  },
  {
   "cell_type": "code",
   "execution_count": null,
   "metadata": {},
   "outputs": [],
   "source": [
    "molecules = pd.DataFrame({\"name\": names, \"smiles\": smiles})\n",
    "PandasTools.AddMoleculeColumnToFrame(molecules, \"smiles\")\n",
    "molecules"
   ]
  },
  {
   "cell_type": "markdown",
   "metadata": {},
   "source": [
    "### 计算并绘制Ro5分子属性\n",
    "\n",
    "1. 使用 `rdkit` 中可用的[描述符](http://www.rdkit.org/docs/GettingStartedInPython.html#descriptor-calculation)计算分子量、氢键受体和供体的数量以及logP。\n"
   ]
  },
  {
   "cell_type": "code",
   "execution_count": null,
   "metadata": {},
   "outputs": [],
   "source": [
    "molecules[\"molecular_weight\"] = molecules[\"ROMol\"].apply(Descriptors.ExactMolWt)\n",
    "molecules[\"n_hba\"] = molecules[\"ROMol\"].apply(Descriptors.NumHAcceptors)\n",
    "molecules[\"n_hbd\"] = molecules[\"ROMol\"].apply(Descriptors.NumHDonors)\n",
    "molecules[\"logp\"] = molecules[\"ROMol\"].apply(Descriptors.MolLogP)\n",
    "# Colors are used for plotting the molecules later\n",
    "molecules[\"color\"] = [\"red\", \"green\", \"blue\", \"cyan\"]\n",
    "# NBVAL_CHECK_OUTPUT\n",
    "molecules[[\"molecular_weight\", \"n_hba\", \"n_hbd\", \"logp\"]]"
   ]
  },
  {
   "cell_type": "code",
   "execution_count": null,
   "metadata": {},
   "outputs": [],
   "source": [
    "# Full preview\n",
    "molecules"
   ]
  },
  {
   "cell_type": "markdown",
   "metadata": {},
   "source": [
    "2. 将分子属性绘制为条形图。"
   ]
  },
  {
   "cell_type": "code",
   "execution_count": null,
   "metadata": {},
   "outputs": [],
   "source": [
    "ro5_properties = {\n",
    "    \"molecular_weight\": (500, \"molecular weight (Da)\"),\n",
    "    \"n_hba\": (10, \"# HBA\"),\n",
    "    \"n_hbd\": (5, \"# HBD\"),\n",
    "    \"logp\": (5, \"logP\"),\n",
    "}"
   ]
  },
  {
   "cell_type": "code",
   "execution_count": null,
   "metadata": {},
   "outputs": [],
   "source": [
    "# Start 1x4 plot frame\n",
    "fig, axes = plt.subplots(figsize=(10, 2.5), nrows=1, ncols=4)\n",
    "x = np.arange(1, len(molecules) + 1)\n",
    "colors = [\"red\", \"green\", \"blue\", \"cyan\"]\n",
    "\n",
    "# Create subplots\n",
    "for index, (key, (threshold, title)) in enumerate(ro5_properties.items()):\n",
    "    axes[index].bar([1, 2, 3, 4], molecules[key], color=colors)\n",
    "    axes[index].axhline(y=threshold, color=\"black\", linestyle=\"dashed\")\n",
    "    axes[index].set_title(title)\n",
    "    axes[index].set_xticks([])\n",
    "\n",
    "# Add legend\n",
    "legend_elements = [\n",
    "    mpatches.Patch(color=row[\"color\"], label=row[\"name\"]) for index, row in molecules.iterrows()\n",
    "]\n",
    "legend_elements.append(Line2D([0], [0], color=\"black\", ls=\"dashed\", label=\"Threshold\"))\n",
    "fig.legend(handles=legend_elements, bbox_to_anchor=(1.2, 0.8))\n",
    "\n",
    "# Fit subplots and legend into figure\n",
    "plt.tight_layout()\n",
    "plt.show()"
   ]
  },
  {
   "cell_type": "markdown",
   "metadata": {},
   "source": [
    "在条形图中，我们比较了四种具有不同属性的示例分子的Ro5属性。在接下来的步骤中，我们将研究每种化合物是否违反了Ro5规则。"
   ]
  },
  {
   "cell_type": "markdown",
   "metadata": {},
   "source": [
    "### 检查Ro5的合规性"
   ]
  },
  {
   "cell_type": "code",
   "execution_count": null,
   "metadata": {},
   "outputs": [],
   "source": [
    "def calculate_ro5_properties(smiles):\n",
    "    \"\"\"\n",
    "    Test if input molecule (SMILES) fulfills Lipinski's rule of five.\n",
    "\n",
    "    Parameters\n",
    "    ----------\n",
    "    smiles : str\n",
    "        SMILES for a molecule.\n",
    "\n",
    "    Returns\n",
    "    -------\n",
    "    pandas.Series\n",
    "        Molecular weight, number of hydrogen bond acceptors/donor and logP value\n",
    "        and Lipinski's rule of five compliance for input molecule.\n",
    "    \"\"\"\n",
    "    # RDKit molecule from SMILES\n",
    "    molecule = Chem.MolFromSmiles(smiles)\n",
    "    # Calculate Ro5-relevant chemical properties\n",
    "    molecular_weight = Descriptors.ExactMolWt(molecule)\n",
    "    n_hba = Descriptors.NumHAcceptors(molecule)\n",
    "    n_hbd = Descriptors.NumHDonors(molecule)\n",
    "    logp = Descriptors.MolLogP(molecule)\n",
    "    # Check if Ro5 conditions fulfilled\n",
    "    conditions = [molecular_weight <= 500, n_hba <= 10, n_hbd <= 5, logp <= 5]\n",
    "    ro5_fulfilled = sum(conditions) >= 3\n",
    "    # Return True if no more than one out of four conditions is violated\n",
    "    return pd.Series(\n",
    "        [molecular_weight, n_hba, n_hbd, logp, ro5_fulfilled],\n",
    "        index=[\"molecular_weight\", \"n_hba\", \"n_hbd\", \"logp\", \"ro5_fulfilled\"],\n",
    "    )"
   ]
  },
  {
   "cell_type": "code",
   "execution_count": null,
   "metadata": {},
   "outputs": [],
   "source": [
    "# NBVAL_CHECK_OUTPUT\n",
    "for name, smiles in zip(molecules[\"name\"], molecules[\"smiles\"]):\n",
    "    print(f\"Ro5 fulfilled for {name}: {calculate_ro5_properties(smiles)['ro5_fulfilled']}\")"
   ]
  },
  {
   "cell_type": "markdown",
   "metadata": {},
   "source": [
    "根据Ro5规则，cyclosporin 环孢素和cyclosporin β-胡萝卜素被估计具有较差的生物利用度。然而，由于它们都是获批的药物，它们是很好的例证，说明Ro5可以作为**警示使用**，但**不一定非得作为筛选的过滤器**。"
   ]
  },
  {
   "cell_type": "markdown",
   "metadata": {},
   "source": [
    "### 将Ro5应用于EGFR数据集\n",
    "\n",
    "`calculate_ro5_properties` 函数可以应用于EGFR数据集，以确定符合Ro5规则的化合物。"
   ]
  },
  {
   "cell_type": "code",
   "execution_count": null,
   "metadata": {},
   "outputs": [],
   "source": [
    "molecules = pd.read_csv(HERE / \"../T001_query_chembl/data/EGFR_compounds.csv\", index_col=0)\n",
    "print(molecules.shape)\n",
    "molecules.head()"
   ]
  },
  {
   "cell_type": "markdown",
   "metadata": {},
   "source": [
    "对所有小分子利用Ro5规则"
   ]
  },
  {
   "cell_type": "code",
   "execution_count": null,
   "metadata": {},
   "outputs": [],
   "source": [
    "# This takes a couple of seconds\n",
    "ro5_properties = molecules[\"smiles\"].apply(calculate_ro5_properties)\n",
    "ro5_properties.head()"
   ]
  },
  {
   "cell_type": "code",
   "execution_count": null,
   "metadata": {},
   "outputs": [],
   "source": [
    "molecules = pd.concat([molecules, ro5_properties], axis=1)\n",
    "molecules.head()"
   ]
  },
  {
   "cell_type": "code",
   "execution_count": null,
   "metadata": {},
   "outputs": [],
   "source": [
    "# Note that the column \"ro5_fulfilled\" contains boolean values.\n",
    "# Thus, we can use the column values directly to subset data.\n",
    "# Note that ~ negates boolean values.\n",
    "molecules_ro5_fulfilled = molecules[molecules[\"ro5_fulfilled\"]]\n",
    "molecules_ro5_violated = molecules[~molecules[\"ro5_fulfilled\"]]\n",
    "\n",
    "print(f\"# compounds in unfiltered data set: {molecules.shape[0]}\")\n",
    "print(f\"# compounds in filtered data set: {molecules_ro5_fulfilled.shape[0]}\")\n",
    "print(f\"# compounds not compliant with the Ro5: {molecules_ro5_violated.shape[0]}\")\n",
    "# NBVAL_CHECK_OUTPUT"
   ]
  },
  {
   "cell_type": "code",
   "execution_count": null,
   "metadata": {},
   "outputs": [],
   "source": [
    "# Save filtered data\n",
    "molecules_ro5_fulfilled.to_csv(DATA / \"EGFR_compounds_lipinski.csv\")\n",
    "molecules_ro5_fulfilled.head()"
   ]
  },
  {
   "cell_type": "markdown",
   "metadata": {},
   "source": [
    "### 可视化Ro5属性（雷达图）"
   ]
  },
  {
   "cell_type": "markdown",
   "metadata": {},
   "source": [
    "#### 计算Ro5属性的统计数据"
   ]
  },
  {
   "cell_type": "markdown",
   "metadata": {},
   "source": [
    "定义一个辅助函数来计算DataFrame的平均值和标准偏差。\n"
   ]
  },
  {
   "cell_type": "code",
   "execution_count": null,
   "metadata": {},
   "outputs": [],
   "source": [
    "def calculate_mean_std(dataframe):\n",
    "    \"\"\"\n",
    "    Calculate the mean and standard deviation of a dataset.\n",
    "\n",
    "    Parameters\n",
    "    ----------\n",
    "    dataframe : pd.DataFrame\n",
    "        Properties (columns) for a set of items (rows).\n",
    "\n",
    "    Returns\n",
    "    -------\n",
    "    pd.DataFrame\n",
    "        Mean and standard deviation (columns) for different properties (rows).\n",
    "    \"\"\"\n",
    "    # Generate descriptive statistics for property columns\n",
    "    stats = dataframe.describe()\n",
    "    # Transpose DataFrame (statistical measures = columns)\n",
    "    stats = stats.T\n",
    "    # Select mean and standard deviation\n",
    "    stats = stats[[\"mean\", \"std\"]]\n",
    "    return stats"
   ]
  },
  {
   "cell_type": "markdown",
   "metadata": {},
   "source": [
    "我们为符合 __Ro5__ 规则的化合物数据集计算统计数据。"
   ]
  },
  {
   "cell_type": "code",
   "execution_count": null,
   "metadata": {},
   "outputs": [],
   "source": [
    "molecules_ro5_fulfilled_stats = calculate_mean_std(\n",
    "    molecules_ro5_fulfilled[[\"molecular_weight\", \"n_hba\", \"n_hbd\", \"logp\"]]\n",
    ")\n",
    "molecules_ro5_fulfilled_stats\n",
    "# NBVAL_CHECK_OUTPUT"
   ]
  },
  {
   "cell_type": "markdown",
   "metadata": {},
   "source": [
    "我们为 __违反Ro5规则__ 的化合物数据集计算统计数据。"
   ]
  },
  {
   "cell_type": "code",
   "execution_count": null,
   "metadata": {},
   "outputs": [],
   "source": [
    "molecules_ro5_violated_stats = calculate_mean_std(\n",
    "    molecules_ro5_violated[[\"molecular_weight\", \"n_hba\", \"n_hbd\", \"logp\"]]\n",
    ")\n",
    "molecules_ro5_violated_stats"
   ]
  },
  {
   "cell_type": "markdown",
   "metadata": {},
   "source": [
    "#### 定义辅助函数以准备数据进行雷达图绘制"
   ]
  },
  {
   "cell_type": "markdown",
   "metadata": {},
   "source": [
    "接下来，我们将定义一些仅用于雷达图绘制的辅助函数。"
   ]
  },
  {
   "cell_type": "markdown",
   "metadata": {},
   "source": [
    "__准备雷达图绘制所需的Y值__ ：\n",
    "用于Ro5标准的属性具有不同的量级。\n",
    "分子量阈值（MWT）为500，而氢键供体数（HBAs）和氢键受体数（HBDs）以及对数P（LogP）的阈值仅为10、5和5。为了最简单地可视化这些不同的尺度，我们将所有属性值缩放到一个缩放阈值为5的标准：\n",
    "\n",
    "`缩放后的属性值` = `属性值` / `属性阈值` * `缩放属性阈值`\n",
    "\n",
    "- 缩放后的分子量 = MWT / 500 * 5 = MWT / 100\n",
    "- 缩放后的氢键供体数 = HBA / 10 * 5 = HBA / 2\n",
    "- 缩放后的氢键受体数 = HBD / 5 * 5 = HBD\n",
    "- 缩放后的对数P = LogP / 5 * 5 = LogP\n",
    "\n",
    "这导致分子量缩小了100倍，氢键供体数缩小了2倍，而氢键受体数和对数P保持不变。\n",
    "\n",
    "以下辅助函数执行这种缩放，并将在稍后的雷达图绘制中使用。\n"
   ]
  },
  {
   "cell_type": "code",
   "execution_count": null,
   "metadata": {},
   "outputs": [],
   "source": [
    "def _scale_by_thresholds(stats, thresholds, scaled_threshold):\n",
    "    \"\"\"\n",
    "    Scale values for different properties that have each an individually defined threshold.\n",
    "\n",
    "    Parameters\n",
    "    ----------\n",
    "    stats : pd.DataFrame\n",
    "        Dataframe with \"mean\" and \"std\" (columns) for each physicochemical property (rows).\n",
    "    thresholds : dict of str: int\n",
    "        Thresholds defined for each property.\n",
    "    scaled_threshold : int or float\n",
    "        Scaled thresholds across all properties.\n",
    "\n",
    "    Returns\n",
    "    -------\n",
    "    pd.DataFrame\n",
    "        DataFrame with scaled means and standard deviations for each physiochemical property.\n",
    "    \"\"\"\n",
    "    # Raise error if scaling keys and data_stats indicies are not matching\n",
    "    for property_name in stats.index:\n",
    "        if property_name not in thresholds.keys():\n",
    "            raise KeyError(f\"Add property '{property_name}' to scaling variable.\")\n",
    "    # Scale property data\n",
    "    stats_scaled = stats.apply(lambda x: x / thresholds[x.name] * scaled_threshold, axis=1)\n",
    "    return stats_scaled"
   ]
  },
  {
   "cell_type": "markdown",
   "metadata": {},
   "source": [
    "__准备X值：__\n",
    "下面的辅助函数返回雷达图的 __物理化学属性轴的角度__ 。例如，如果我们想为4个属性生成雷达图，我们希望将轴设置在0°、90°、180°和270°。该辅助函数以弧度返回这些角度。"
   ]
  },
  {
   "cell_type": "code",
   "execution_count": null,
   "metadata": {},
   "outputs": [],
   "source": [
    "def _define_radial_axes_angles(n_axes):\n",
    "    \"\"\"Define angles (radians) for radial (x-)axes depending on the number of axes.\"\"\"\n",
    "    x_angles = [i / float(n_axes) * 2 * math.pi for i in range(n_axes)]\n",
    "    x_angles += x_angles[:1]\n",
    "    return x_angles"
   ]
  },
  {
   "cell_type": "markdown",
   "metadata": {},
   "source": [
    "这两个函数将作为辅助函数在 __雷达绘图函数__ 中使用，该函数接下来定义。"
   ]
  },
  {
   "cell_type": "markdown",
   "metadata": {},
   "source": [
    "#### 最后，我们生成雷达图！"
   ]
  },
  {
   "cell_type": "markdown",
   "metadata": {},
   "source": [
    "现在，我们定义一个函数，以雷达图的形式可视化化合物的化学性质。我们遵循了[这些在Stack Overflow上的指导](https://stackoverflow.com/questions/42227409/tutorial-for-python-radar-chart-plot)。"
   ]
  },
  {
   "cell_type": "code",
   "execution_count": null,
   "metadata": {},
   "outputs": [],
   "source": [
    "def plot_radar(\n",
    "    y,\n",
    "    thresholds,\n",
    "    scaled_threshold,\n",
    "    properties_labels,\n",
    "    y_max=None,\n",
    "    output_path=None,\n",
    "):\n",
    "    \"\"\"\n",
    "    Plot a radar chart based on the mean and standard deviation of a data set's properties.\n",
    "\n",
    "    Parameters\n",
    "    ----------\n",
    "    y : pd.DataFrame\n",
    "        Dataframe with \"mean\" and \"std\" (columns) for each physicochemical property (rows).\n",
    "    thresholds : dict of str: int\n",
    "        Thresholds defined for each property.\n",
    "    scaled_threshold : int or float\n",
    "        Scaled thresholds across all properties.\n",
    "    properties_labels : list of str\n",
    "        List of property names to be used as labels in the plot.\n",
    "    y_max : None or int or float\n",
    "        Set maximum y value. If None, let matplotlib decide.\n",
    "    output_path : None or pathlib.Path\n",
    "        If not None, save plot to file.\n",
    "    \"\"\"\n",
    "\n",
    "    # Define radial x-axes angles -- uses our helper function!\n",
    "    x = _define_radial_axes_angles(len(y))\n",
    "    # Scale y-axis values with respect to a defined threshold -- uses our helper function!\n",
    "    y = _scale_by_thresholds(y, thresholds, scaled_threshold)\n",
    "    # Since our chart will be circular we append the first value of each property to the end\n",
    "    y = pd.concat([y, y.head(1)])\n",
    "\n",
    "    # Set figure and subplot axis\n",
    "    plt.figure(figsize=(6, 6))\n",
    "    ax = plt.subplot(111, polar=True)\n",
    "\n",
    "    # Plot data\n",
    "    ax.fill(x, [scaled_threshold] * len(x), \"cornflowerblue\", alpha=0.2)\n",
    "    ax.plot(x, y[\"mean\"], \"b\", lw=3, ls=\"-\")\n",
    "    ax.plot(x, y[\"mean\"] + y[\"std\"], \"orange\", lw=2, ls=\"--\")\n",
    "    ax.plot(x, y[\"mean\"] - y[\"std\"], \"orange\", lw=2, ls=\"-.\")\n",
    "\n",
    "    # From here on, we only do plot cosmetics\n",
    "    # Set 0° to 12 o'clock\n",
    "    ax.set_theta_offset(math.pi / 2)\n",
    "    # Set clockwise rotation\n",
    "    ax.set_theta_direction(-1)\n",
    "\n",
    "    # Set y-labels next to 180° radius axis\n",
    "    ax.set_rlabel_position(180)\n",
    "    # Set number of radial axes' ticks and remove labels\n",
    "    plt.xticks(x, [])\n",
    "    # Get maximal y-ticks value\n",
    "    if not y_max:\n",
    "        y_max = int(ax.get_yticks()[-1])\n",
    "    # Set axes limits\n",
    "    plt.ylim(0, y_max)\n",
    "    # Set number and labels of y axis ticks\n",
    "    plt.yticks(\n",
    "        range(1, y_max),\n",
    "        [\"5\" if i == scaled_threshold else \"\" for i in range(1, y_max)],\n",
    "        fontsize=16,\n",
    "    )\n",
    "\n",
    "    # Draw ytick labels to make sure they fit properly\n",
    "    # Note that we use [:1] to exclude the last element which equals the first element (not needed here)\n",
    "    for i, (angle, label) in enumerate(zip(x[:-1], properties_labels)):\n",
    "        if angle == 0:\n",
    "            ha = \"center\"\n",
    "        elif 0 < angle < math.pi:\n",
    "            ha = \"left\"\n",
    "        elif angle == math.pi:\n",
    "            ha = \"center\"\n",
    "        else:\n",
    "            ha = \"right\"\n",
    "        ax.text(\n",
    "            x=angle,\n",
    "            y=y_max + 1,\n",
    "            s=label,\n",
    "            size=16,\n",
    "            horizontalalignment=ha,\n",
    "            verticalalignment=\"center\",\n",
    "        )\n",
    "\n",
    "    # Add legend relative to top-left plot\n",
    "    labels = (\"mean\", \"mean + std\", \"mean - std\", \"rule of five area\")\n",
    "    ax.legend(labels, loc=(1.1, 0.7), labelspacing=0.3, fontsize=16)\n",
    "\n",
    "    # Save plot - use bbox_inches to include text boxes\n",
    "    if output_path:\n",
    "        plt.savefig(output_path, dpi=300, bbox_inches=\"tight\", transparent=True)\n",
    "\n",
    "    plt.show()"
   ]
  },
  {
   "cell_type": "markdown",
   "metadata": {},
   "source": [
    "在接下来的内容中，我们希望为我们的两个数据集绘制雷达图：\n",
    "1. 符合Ro5的化合物\n",
    "2. 违反Ro5的化合物\n",
    "\n",
    "定义对于两个雷达图都应该保持不变的输入参数："
   ]
  },
  {
   "cell_type": "code",
   "execution_count": null,
   "metadata": {},
   "outputs": [],
   "source": [
    "thresholds = {\"molecular_weight\": 500, \"n_hba\": 10, \"n_hbd\": 5, \"logp\": 5}\n",
    "scaled_threshold = 5\n",
    "properties_labels = [\n",
    "    \"Molecular weight (Da) / 100\",\n",
    "    \"# HBA / 2\",\n",
    "    \"# HBD\",\n",
    "    \"LogP\",\n",
    "]\n",
    "y_max = 8"
   ]
  },
  {
   "cell_type": "markdown",
   "metadata": {},
   "source": [
    "1. 我们为 __符合Ro5__ 的化合物数据集绘制雷达图。\n"
   ]
  },
  {
   "cell_type": "code",
   "execution_count": null,
   "metadata": {},
   "outputs": [],
   "source": [
    "plot_radar(\n",
    "    molecules_ro5_fulfilled_stats,\n",
    "    thresholds,\n",
    "    scaled_threshold,\n",
    "    properties_labels,\n",
    "    y_max,\n",
    ")"
   ]
  },
  {
   "cell_type": "markdown",
   "metadata": {},
   "source": [
    "蓝色方块显示了分子的物理化学性质符合Ro5规则的区域。\n",
    "蓝线突出显示了平均值，而橙色虚线显示了标准偏差。\n",
    "我们可以看到平均值从未违反Lipinski的任何规则。\n",
    "然而，根据标准偏差，有些性质的值大于Ro5的阈值。\n",
    "这是可以接受的，因为根据Ro5规则，四个规则中的一个可以被违反。"
   ]
  },
  {
   "cell_type": "markdown",
   "metadata": {},
   "source": [
    "2. 我们为 __违反Ro5__ 的化合物数据集绘制雷达图。"
   ]
  },
  {
   "cell_type": "code",
   "execution_count": null,
   "metadata": {
    "tags": [
     "nbsphinx-thumbnail"
    ]
   },
   "outputs": [],
   "source": [
    "plot_radar(\n",
    "    molecules_ro5_violated_stats,\n",
    "    thresholds,\n",
    "    scaled_threshold,\n",
    "    properties_labels,\n",
    "    y_max,\n",
    ")"
   ]
  },
  {
   "cell_type": "markdown",
   "metadata": {},
   "source": [
    "我们可以看到，化合物主要因为它们的logP值和分子量而违反Ro5。"
   ]
  },
  {
   "cell_type": "markdown",
   "metadata": {},
   "source": [
    "## 讨论\n",
    "\n",
    "在本教程中，我们学习了利平斯基的“五规则”（Ro5），这是一种用来估算化合物口服生物利用度的方法，并且我们使用`rdkit`在数据集上应用了这一规则。请注意，药物也可以通过其他途径给药，例如吸入、皮肤渗透和注射。\n",
    "\n",
    "在本教程中，我们只研究了众多药物动力学（ADME）属性中的一个。像[SwissADME](https://www.nature.com/articles/srep42717)这样的网络服务器提供了对化合物属性更全面的视角。"
   ]
  },
  {
   "cell_type": "markdown",
   "metadata": {},
   "source": [
    "## 课后思考\n",
    "* Ro5描述的化学属性如何影响ADME？\n",
    "* 找到一个或设计一个违反三到四条规则的分子。\n",
    "* 你如何在我们在本教程中创建的雷达图中为另一个分子绘制信息？"
   ]
  },
  {
   "cell_type": "markdown",
   "metadata": {},
   "source": [
    "## 本文作者\n",
    "\n",
    "- Michele Wichmann, CADD seminars 2017, Charité/FU Berlin\n",
    "- Mathias Wajnberg, CADD seminars 2018, Charité/FU Berlin\n",
    "- Dominique Sydow, 2018-2020, [Volkamer lab](https://volkamerlab.org), Charité\n",
    "- Andrea Volkamer, 2018-2020, [Volkamer lab](https://volkamerlab.org), Charité"
   ]
  },
  {
   "cell_type": "markdown",
   "metadata": {},
   "source": [
    "## 翻译校对\n",
    "- ByteTora"
   ]
  }
 ],
 "metadata": {
  "kernelspec": {
   "display_name": "Python 3 (ipykernel)",
   "language": "python",
   "name": "python3"
  },
  "language_info": {
   "codemirror_mode": {
    "name": "ipython",
    "version": 3
   },
   "file_extension": ".py",
   "mimetype": "text/x-python",
   "name": "python",
   "nbconvert_exporter": "python",
   "pygments_lexer": "ipython3",
   "version": "3.8.15"
  },
  "widgets": {
   "application/vnd.jupyter.widget-state+json": {
    "state": {},
    "version_major": 2,
    "version_minor": 0
   }
  }
 },
 "nbformat": 4,
 "nbformat_minor": 4
}
