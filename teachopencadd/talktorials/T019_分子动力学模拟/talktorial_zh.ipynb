{
 "cells": [
  {
   "cell_type": "markdown",
   "metadata": {
    "id": "Rc3gPsMdLgmK"
   },
   "source": [
    "# T019 ·分子动力学模拟\n",
    "* * 注意：** 这篇谈话文章是TeachOpenCADD的一部分，该平台旨在教授特定领域的技能并提供管道模板作为研究项目的起点。\n",
    "\n",
    "作者：\n",
    "- Pietro Gerletti，2020年CADD研讨会，Charité/FU柏林\n",
    "- Mareike Leja，2020/21，在[Amsteramer Lab，Charité]实习（https：//volkamerab.org/）\n",
    "- Jeffrey R Wagner，2020年，[Open Force Field Consortium](https：//openforcefield.org/）\n",
    "- David Scholer，2020/21，[Amplamer Lab，Charité]（https：//volkamerab.org/）\n",
    "- Andrea Thomamer，2020/21，[Thomamer Lab，Charité]（https：//volkamerab.org/)"
   ]
  },
  {
   "cell_type": "markdown",
   "metadata": {
    "id": "ehs-GJfkwUap"
   },
   "source": [
    "__注意__\n",
    "\n",
    "此谈话文摘旨在与[Google Colab]一起使用（https：//colab.research.google.com/github/volkamerlab/teachopencadd/blo/1bd 7 cb 0 c9 f6379 aebc 0 c1 a0 b1 c7413685910 cffa/teachopencadd/talkopencadd/talkupiter/019_md_simulation/talkorial.ipynb）。也可以在本地计算机上使用它。然而，如果没有可用的图形处理器，执行分子动力学模拟可能需要相当长的时间。\n",
    "\n",
    "另外，请注意，此谈话脚本 ** 暂时不会在Windows** 上运行（请在[本期](https：//github.com/volkamerlab/teachopencadd/issues/136）中查看进度)。"
   ]
  },
  {
   "cell_type": "markdown",
   "metadata": {
    "id": "v0WOINBLExEO"
   },
   "source": [
    "## 本期脱口秀的目标"
   ]
  },
  {
   "cell_type": "markdown",
   "metadata": {
    "id": "ETO2kR5CE6-E"
   },
   "source": [
    "在本期谈话中，我们将了解为什么分子动力学（MD）模拟对于药物设计很重要，以及对与配体复合的蛋白质进行MD模拟所需的步骤。受体受体将作为模拟的样本系统。"
   ]
  },
  {
   "cell_type": "markdown",
   "metadata": {
    "id": "1KVizU3UVCxF"
   },
   "source": [
    "# * 理论 * 内容\n",
    "- 分子动力学\n",
    "- 力场\n",
    "- 边界条件\n",
    "- MD模拟和药物设计\n",
    "- EGFR激酶"
   ]
  },
  {
   "cell_type": "markdown",
   "metadata": {
    "id": "kdamNfk7VCxF"
   },
   "source": [
    "# * 实用 * 中的内容\n",
    "- 在Google Colab上安装\n",
    "- 为在Linux或MacOS上运行的本地安装调整环境\n",
    "- Import dependencies\n",
    "- 下载DBC文件\n",
    "- 准备蛋白质配体复合物\n",
    "- 蛋白制剂\n",
    "- 配体制备\n",
    "- 合并蛋白质和配体\n",
    "- MD模拟设置\n",
    "- 力场\n",
    "- 系统\n",
    "- 执行MD模拟\n",
    "- 下载结果"
   ]
  },
  {
   "cell_type": "markdown",
   "metadata": {
    "id": "mNvsYi3OLgmU"
   },
   "source": [
    "# 参考资料\n",
    "- 回顾MD模拟在药物发现中的影响([_J Med Chem_(2016)，**59**(9)，4035‐4061](https://doi.org/10.1021/acs.jmedchem.5b01684))\n",
    "- 回顾MD模拟和最佳实践背后的物理原理([_Living J Comp Mol Sci_(2019)，**1**(1)，5957](https://doi.org/10.33011/livecoms.1.1.5957))\n",
    "- 力场回顾([_J化学信息模型_(2018)，**58**(3)，565-578](https://doi.org/10.1021/acs.jcim.8b00042))\n",
    "- 癌症中的表皮生长因子受体综述([_癌症(巴塞尔)_(2017)，**9**(5)，52](https://dx.doi.org/10.3390%2Fcancers9050052))\n",
    "- 皮埃尔-西蒙·拉普拉斯总结的统计知识(概率分析S戈蒂尔-维拉尔斯)，**3**)](https://archive.org/details/uvrescompltesde31fragoog/page/n15/mode/2up)\n",
    "- 灵感来自Jaime Rodriguez-Guera([github](https://github.com/jaimergp/uab-msc-bioinf/blob/master/MD%20Simulation%20and%20Analysis%20in%20a%20Notebook.ipynb))的笔记本电脑形式\n",
    "- [OpenMM](https://github.com/openmm/openmm)和[OpenMM Forcefields](https://github.com/openmm/openmmforcefields)，[RDKit](https://github.com/rdkit/rdkit)，[PyPDB](https://github.com/williamgilpin/pypdb)，[MDTraj](https://github.com/mdtraj/mdtraj)，[PDBFixer](https://github.com/openmm/pdbfixer))的存储库\n",
    "- 维基百科关于[MD simulations](https://en.wikipedia.org/wiki/Molecular_dynamics)，[琥珀](https://en.wikipedia.org/wiki/AMBER)和[Force fields](https://en.wikipedia.org/wiki/Force_field_(chemistry))])的文章"
   ]
  },
  {
   "cell_type": "markdown",
   "metadata": {
    "id": "WpSLhe8ZLgmd"
   },
   "source": [
    "## 理论"
   ]
  },
  {
   "cell_type": "markdown",
   "metadata": {
    "id": "lxhBZyifLgmm"
   },
   "source": [
    "# 分子动力学"
   ]
  },
  {
   "cell_type": "markdown",
   "metadata": {
    "id": "svQEDsBCwUa5"
   },
   "source": [
    "分子动力学是一种分析确定系统中原子和分子的运动和相互作用的计算方法。该方法源于理论物理学，它是在20世纪50年代发展起来的(阿尔德和温赖特在[_J Chem Phys_(1959)，**31**(2)，459]中(https://doi.org/10.1063/1.1730376))，)，尽管它背后的想法可以追溯到更早的时间：\n",
    "\n",
    "一种能够在任何时刻理解一切使自然生机勃勃的力量和构成它的生物的各自位置的智慧，而且，如果这种智慧足够深远，足以对这些数据进行分析，那么它将在这个公式中既包括宇宙中最大物体的运动，也包括最轻原子的运动：对它来说，没有什么是不确定的，未来和过去都将呈现在它的眼前。人类的头脑为我们提供了这种智慧的一个模糊的轮廓，就像它赋予天文学的那样完美。(皮埃尔-西蒙·拉普拉斯，1820)\n"
   ]
  },
  {
   "cell_type": "markdown",
   "metadata": {
    "id": "kLgNBvtIm7S3"
   },
   "source": [
    "让我们把拉普拉斯的这一说法作为分子动力学模拟的思想基础。换句话说，我们可以通过了解其组件的特性并应用牛顿运动定律来近似物理系统的行为。通过求解运动方程，我们可以得到系统的分子轨迹，它是一系列关于其所有粒子的位置和速度以及势能的快照。要做到这一点，我们定义了称为力场的函数，它提供了对系统中每个粒子施加的所有力的近似描述。然后利用数值积分器求解系统的初值问题，得到系统的运动轨迹。听起来，这个过程需要相当多的处理能力，直到几年前，MD才开始看到更广泛的使用，特别是在计算化学和生物学领域，以及在药物发现中([_J Med Chem_(2016)，**59**(9)，4035‐4061](https://doi.org/10.1021/acs.jmedchem.5b01684))."
   ]
  },
  {
   "cell_type": "markdown",
   "metadata": {
    "id": "yXlInBPrwUa6"
   },
   "source": [
    "! [MD_rotor_250K_1ns.gif](https：//github.com/volkamerlab/teachopencadd/raw/d1ded86bb2c82ef088cc5145d0bcb997f6eab7dd/teachopencadd/talktorials/018_md_simulation/images/MD_rotor_250K_1ns.gif）\n",
    "* * 图1**：由三个分子组成的超分子在受限纳米孔中旋转的分子动力学模拟（Palma等人，通过[维基媒体]（commons.wikimedia.org/w/index.php? curid=34866205)。"
   ]
  },
  {
   "cell_type": "markdown",
   "metadata": {
    "id": "8-uCG3KPwUa8"
   },
   "source": [
    "# 强制场\n",
    "\n"
   ]
  },
  {
   "cell_type": "markdown",
   "metadata": {
    "id": "NC8t-i-cwUbB"
   },
   "source": [
    "力场描述了分子内部原子之间以及分子之间的作用力。它们是带有不同力(键拉伸、范德瓦尔斯等)分量的参数方程。参数值通常是通过实验得出的，根据所涉及的分子和模拟设置的不同，这些参数值对于每个MD场景都是不同的。结果是对系统能量格局的数学描述，其中作用在每个粒子上的力是由势能相对于原子坐标的梯度产生的。\n",
    "\n",
    "有几个力场可用，每个力场都有自己的特征([_J化学信息模型_(2018)，**58**(3)，565-578](https://doi.org/10.1021/acs.jcim.8b00042)).在这本笔记本中，我们将使用琥珀力场家族的一个成员，该家族被广泛用于蛋白质的MD模拟。它们的功能形式是：\n",
    "\n",
    "$$V(r^N)=\\sum_{i\\in ond}k_{bi}(L_i-L^0_i)^2+\\sum_{i\\in角度}k_{ai}(\\theta_i-\\theta^0_i)^2+\\sum_{i\\in torsion}\\sum_n\\frac{1}{2}V_i^n[1+cos(NW_i-\\Gamma_i)]$$\n",
    "$$+\\sum_{j=1}^{N-1}\\sum_{i=j+1}^{N}f_{ij}\\in ij[(\\frac{r^0_{ij}}{r_{ij}})^{12}-2(\\frac{r^0_{ij}}{r_{ij}})^{6}]+\\frac{q_iq_j}{4\\pi\\in_0 r_{ij}}$$"
   ]
  },
  {
   "cell_type": "markdown",
   "metadata": {
    "id": "pjSsc4l-wUbB"
   },
   "source": [
    "该公式由不同成分的总和组成。前三个分量包含有关键长、角度和扭转（分子内力）的信息。最后一个组成部分描述了分子间的非键力，例如范德华力和静电相互作用。各种参数（用星号0表示）取决于所使用的磁场，并且在AMBER磁场家族的所有成员之间有所不同。请注意，这些电场假设固定电荷粒子，不允许极化，也不考虑局部电荷如何影响其周围环境。 \n",
    "\n",
    "下面的电场组件视觉表示以更直观的方式展示了相同的概念。"
   ]
  },
  {
   "cell_type": "markdown",
   "metadata": {
    "id": "6aDDjIqYwUbC"
   },
   "source": [
    "! [MM_PEF.png](https：//github.com/volkamerlab/teachopencadd/raw/d1ded86bb2c82ef088cc5145d0bcb997f6eab7dd/teachopencadd/talktorials/018_md_simulation/images/MM_PEF.png）\n",
    "* * 图2**：分子力学力场的组成部分（Edboas通过[维基媒体]（commons.wikimedia.org/w/index.php? curid=4194424）)。"
   ]
  },
  {
   "cell_type": "markdown",
   "metadata": {
    "id": "3J7LdqzKB0PM"
   },
   "source": [
    "# 边界条件\n",
    "\n",
    "通常，分子系统是在充满水等溶剂的盒子中模拟的。这些盒子的尺寸有限，这导致盒子边界处或附近的分子出现问题。这些分子应该与哪些分子相互作用？周期性边界条件可以通过模拟理论上无限系统来避免此类边界伪影。从而，盒子一个边界的分子与盒子另一侧边界的分子相互作用。这模拟了模拟框被其自身复制品包围的情况。当可视化此类MD模拟时，人们经常可以观察到粒子从一侧离开盒子（图3）。然而，它们以相同的速度同时重新出现在盒子的另一边。对于周期性边界条件下的模拟，建议使用足够大的模拟框，以便模拟的大分子不会与其自身的邻近图像接触。"
   ]
  },
  {
   "cell_type": "markdown",
   "metadata": {
    "id": "fdnT_He0VCxF"
   },
   "source": [
    "! [MD_water.gif](https：//github.com/volkamerlab/teachopencadd/raw/d1ded86bb2c82ef088cc5145d0bcb997f6eab7dd/teachopencadd/talktorials/018_md_simulation/images/MD_water.gif）\n",
    "* * 图3**：具有周期性边界条件的水分子的分子动力学模拟（Kmckiern通过[维基媒体]（https：//commons.wikimedia.org/wiki/Fileb：MD_water.gif）)。"
   ]
  },
  {
   "cell_type": "markdown",
   "metadata": {
    "id": "zjcLLVbKNt-F"
   },
   "source": [
    "# MD模拟与药物设计\n",
    "\n",
    "分子动力学模拟对配体与靶结合的高度动态过程提供了有价值的见解。当配体(或药物)接近溶液中的大分子(蛋白质)时，它会遇到一个不断运动的结构。此外，配体可以诱导大分子中最能适应小分子的构象变化。这种构象可能无法用静态方法发现。因此，在静态无配体结构中没有观察到但可以通过MD模拟发现的结合位点有时被称为*隐蔽结合位点*([_J Med Chem_(2016)，**59**(9)，4035‐4061](https://doi.org/10.1021/acs.jmedchem.5b01684)).用分子动力学模拟识别这种结合位点可以启动新药发现活动。在药物发现过程的后期，在进行成本更高、时间更密集的体外试验之前，MD模拟也可以用来估计通过计算机识别的小分子的质量。总之，MD模拟在计算机药物设计中是一项宝贵的资产。"
   ]
  },
  {
   "cell_type": "markdown",
   "metadata": {
    "id": "z-ZEaeB2n4hg"
   },
   "source": [
    "# EGFR激酶\n",
    "\n",
    "表皮生长因子受体(EGFR)是一种重要的药物靶点，与癌症和炎症([Wikipedia](https://en.wikipedia.org/wiki/Epidermal_growth_factor_receptor)).有关。它是一种跨膜蛋白，具有细胞外受体结构域和细胞内激酶域。内源性配体表皮生长因子的结合通过二聚化和自磷酸化导致激活域的激活。然后，激活的激酶结构域可以磷酸化下游的信号蛋白，触发DNA合成和细胞增殖([癌症(巴塞尔)_(2017)，**9**(5)，52](https://dx.doi.org/10.3390%2Fcancers9050052)).抑制该激酶是几种已获批准的抗癌药物([DrugBank](https://go.drugbank.com/bio_entities/BE0000767)).的潜在作用机制在本说明书中，我们使用该激酶的PDB结构**3POZ**，它与小分子抑制剂**03P**形成复合体，进行MD模拟([PDB：3POZ](https://www.rcsb.org/structure/3poz))."
   ]
  },
  {
   "cell_type": "markdown",
   "metadata": {
    "id": "fARXaAnzwUau"
   },
   "source": [
    "! [3poz_assembly-1.jpeg](https：//github.com/volkamerlab/teachopencadd/raw/ed3b2b6b655589d71355295af4c89363a63558b9/teachopencadd/talktorials/018_md_simulation/images/3poz_assembly-1.jpeg）\n",
    "* * 图4**：与抑制剂03 P结合的表皮生长因子（[DBC：3 POZ]（https：//www.rcsb.org/structure/3poz）)。"
   ]
  },
  {
   "cell_type": "markdown",
   "metadata": {
    "id": "dkhvXl0HLgnb"
   },
   "source": [
    "## 实用\n",
    "\n",
    "我们现在将继续使用分子动力学引擎[OpenMM](https：//github.com/openmm/openmm)执行MD模拟，这是一个用于分子模拟的高性能工具包。它是开源的，可以用作应用程序或库。我们将把它用作Python库。"
   ]
  },
  {
   "cell_type": "markdown",
   "metadata": {
    "id": "7I_BbH58n4h2"
   },
   "source": [
    "# Google Colab上的安装\n",
    "\n",
    "如果您正在使用[Google Colab](https：//colab.research.google.com/notebooks/intro.ipynb），以下代码单元将安装所有所需的包。安装[condacolab]（https：//github.com/jaimergp/condacolab)包将重新启动内核，这是预期的。该笔记本电脑也可以在本地计算机上使用，但需要相当大的计算能力。"
   ]
  },
  {
   "cell_type": "code",
   "execution_count": 1,
   "metadata": {
    "colab": {
     "base_uri": "https://localhost:8080/"
    },
    "id": "K78GGT60Nu8p",
    "outputId": "40251762-3bfd-474a-8dda-c030b2a22b1d"
   },
   "outputs": [],
   "source": [
    "try:\n",
    "    import google.colab\n",
    "\n",
    "    !pip install condacolab\n",
    "    import condacolab\n",
    "\n",
    "    condacolab.install()\n",
    "except ModuleNotFoundError:\n",
    "    pass"
   ]
  },
  {
   "cell_type": "code",
   "execution_count": 2,
   "metadata": {
    "colab": {
     "base_uri": "https://localhost:8080/"
    },
    "id": "VbqoZFShp00I",
    "outputId": "0f44a9dd-0cfd-49bc-dd46-969b50c2a9e8"
   },
   "outputs": [],
   "source": [
    "try:\n",
    "    import condacolab\n",
    "    from google.colab import files\n",
    "    from IPython.display import clear_output\n",
    "\n",
    "    condacolab.check()\n",
    "    !conda install -q -y -c conda-forge mdtraj openmm openmmforcefields openff-toolkit pdbfixer pypdb rdkit\n",
    "except ModuleNotFoundError:\n",
    "    on_colab = False\n",
    "else:\n",
    "    #检查安装是否成功\n",
    "    try:\n",
    "        import rdkit\n",
    "\n",
    "        on_colab = True\n",
    "        clear_output()  # clear the excessive installation outputs\n",
    "        print(\"Dependencies successfully installed!\")\n",
    "    except ModuleNotFoundError:\n",
    "        print(\"Error while installing dependencies!\")"
   ]
  },
  {
   "cell_type": "markdown",
   "metadata": {},
   "source": [
    "# 调整在Linux或MacOS上运行的本地安装的环境"
   ]
  },
  {
   "cell_type": "code",
   "execution_count": 3,
   "metadata": {},
   "outputs": [
    {
     "name": "stdout",
     "output_type": "stream",
     "text": [
      "  Package                       Version  Build                   Channel                    Size\n",
      "──────────────────────────────────────────────────────────────────────────────────────────────────\n",
      "  Install:\n",
      "──────────────────────────────────────────────────────────────────────────────────────────────────\n",
      "\n",
      "\u001b[32m  + ambertools             \u001b[00m        22.0  py39h464e725_3          conda-forge/linux-64\u001b[32m     Cached\u001b[00m\n",
      "\u001b[32m  + arpack                 \u001b[00m       3.7.0  hdefa2d7_2              conda-forge/linux-64\u001b[32m     Cached\u001b[00m\n",
      "\u001b[32m  + cached-property        \u001b[00m       1.5.2  hd8ed1ab_1              conda-forge/noarch  \u001b[32m     Cached\u001b[00m\n",
      "\u001b[32m  + cached_property        \u001b[00m       1.5.2  pyha770c72_1            conda-forge/noarch  \u001b[32m     Cached\u001b[00m\n",
      "\u001b[32m  + cython                 \u001b[00m     0.29.34  py39h227be39_0          conda-forge/linux-64\u001b[32m     Cached\u001b[00m\n",
      "\u001b[32m  + flatbuffers            \u001b[00m    22.12.06  hcb278e6_2              conda-forge/linux-64\u001b[32m     Cached\u001b[00m\n",
      "\u001b[32m  + giflib                 \u001b[00m       5.2.1  h0b41bf4_3              conda-forge/linux-64\u001b[32m     Cached\u001b[00m\n",
      "\u001b[32m  + keras                  \u001b[00m      2.11.0  pyhd8ed1ab_0            conda-forge/noarch  \u001b[32m     Cached\u001b[00m\n",
      "\u001b[32m  + libaec                 \u001b[00m       1.0.6  hcb278e6_1              conda-forge/linux-64\u001b[32m     Cached\u001b[00m\n",
      "\u001b[32m  + libgomp                \u001b[00m      12.2.0  h65d4601_19             conda-forge/linux-64\u001b[32m     Cached\u001b[00m\n",
      "\u001b[32m  + netcdf-fortran         \u001b[00m       4.6.0  nompi_he1eeb6f_102      conda-forge/linux-64\u001b[32m     Cached\u001b[00m\n",
      "\u001b[32m  + openff-amber-ff-ports  \u001b[00m       0.0.3  pyh6c4a22f_0            conda-forge/noarch  \u001b[32m     Cached\u001b[00m\n",
      "\u001b[32m  + openff-forcefields     \u001b[00m   2023.05.1  pyh1a96a4e_1            conda-forge/noarch  \u001b[32m     Cached\u001b[00m\n",
      "\u001b[32m  + openff-interchange     \u001b[00m       0.3.4  pyhd8ed1ab_0            conda-forge/noarch  \u001b[32m     Cached\u001b[00m\n",
      "\u001b[32m  + openff-interchange-base\u001b[00m       0.3.4  pyhd8ed1ab_0            conda-forge/noarch  \u001b[32m     Cached\u001b[00m\n",
      "\u001b[32m  + openff-models          \u001b[00m       0.0.5  pyh1a96a4e_0            conda-forge/noarch  \u001b[32m     Cached\u001b[00m\n",
      "\u001b[32m  + openff-toolkit         \u001b[00m      0.13.0  pyhd8ed1ab_0            conda-forge/noarch  \u001b[32m     Cached\u001b[00m\n",
      "\u001b[32m  + openff-toolkit-base    \u001b[00m      0.13.0  pyhd8ed1ab_0            conda-forge/noarch  \u001b[32m     Cached\u001b[00m\n",
      "\u001b[32m  + openff-units           \u001b[00m       0.2.0  pyh1a96a4e_1            conda-forge/noarch  \u001b[32m     Cached\u001b[00m\n",
      "\u001b[32m  + openff-utilities       \u001b[00m       0.1.8  pyh1a96a4e_0            conda-forge/noarch  \u001b[32m     Cached\u001b[00m\n",
      "\u001b[32m  + openmmforcefields      \u001b[00m      0.11.2  pyhd8ed1ab_1            conda-forge/noarch  \u001b[32m     Cached\u001b[00m\n",
      "\u001b[32m  + packmol                \u001b[00m      20.010  h86c2bf4_0              conda-forge/linux-64\u001b[32m     Cached\u001b[00m\n",
      "\u001b[32m  + panedr                 \u001b[00m       0.7.1  pyhd8ed1ab_0            conda-forge/noarch  \u001b[32m     Cached\u001b[00m\n",
      "\u001b[32m  + parmed                 \u001b[00m       3.4.4  py39h227be39_0          conda-forge/linux-64\u001b[32m     Cached\u001b[00m\n",
      "\u001b[32m  + pbr                    \u001b[00m      5.11.1  pyhd8ed1ab_0            conda-forge/noarch  \u001b[32m     Cached\u001b[00m\n",
      "\u001b[32m  + perl                   \u001b[00m      5.32.1  2_h7f98852_perl5        conda-forge/linux-64\u001b[32m     Cached\u001b[00m\n",
      "\u001b[32m  + pint                   \u001b[00m        0.21  pyhd8ed1ab_0            conda-forge/noarch  \u001b[32m     Cached\u001b[00m\n",
      "\u001b[32m  + pydantic               \u001b[00m      1.10.7  py39h72bdee0_0          conda-forge/linux-64\u001b[32m     Cached\u001b[00m\n",
      "\u001b[32m  + pyedr                  \u001b[00m       0.7.1  pyhd8ed1ab_0            conda-forge/noarch  \u001b[32m     Cached\u001b[00m\n",
      "\u001b[32m  + python-constraint      \u001b[00m       1.4.0  py_0                    conda-forge/noarch  \u001b[32m     Cached\u001b[00m\n",
      "\u001b[32m  + smirnoff99frosst       \u001b[00m       1.1.0  pyh44b312d_0            conda-forge/noarch  \u001b[32m     Cached\u001b[00m\n",
      "\u001b[32m  + tensorboard-plugin-wit \u001b[00m       1.8.1  pyhd8ed1ab_0            conda-forge/noarch  \u001b[32m     Cached\u001b[00m\n",
      "\u001b[32m  + tinydb                 \u001b[00m       4.7.1  pyhd8ed1ab_0            conda-forge/noarch  \u001b[32m     Cached\u001b[00m\n",
      "\u001b[32m  + validators             \u001b[00m      0.20.0  pyhd8ed1ab_0            conda-forge/noarch  \u001b[32m     Cached\u001b[00m\n",
      "\u001b[32m  + xmltodict              \u001b[00m      0.13.0  pyhd8ed1ab_0            conda-forge/noarch  \u001b[32m     Cached\u001b[00m\n",
      "\u001b[32m  + xorg-libxt             \u001b[00m       1.2.1  h7f98852_2              conda-forge/linux-64\u001b[32m     Cached\u001b[00m\n",
      "\n",
      "  Change:\n",
      "──────────────────────────────────────────────────────────────────────────────────────────────────\n",
      "\n",
      "\u001b[31m  - libnetcdf              \u001b[00m       4.8.1  h8322cc2_2              installed                      \n",
      "\u001b[32m  + libnetcdf              \u001b[00m       4.8.1  nompi_h261ec11_106      conda-forge/linux-64\u001b[32m     Cached\u001b[00m\n",
      "\n",
      "  Upgrade:\n",
      "──────────────────────────────────────────────────────────────────────────────────────────────────\n",
      "\n",
      "\u001b[31m  - h5py                   \u001b[00m      2.10.0  nompi_py39h98ba4bc_106  installed                      \n",
      "\u001b[32m  + h5py                   \u001b[00m       3.7.0  nompi_py39h817c9c5_102  conda-forge/linux-64\u001b[32m     Cached\u001b[00m\n",
      "\u001b[31m  - hdf4                   \u001b[00m      4.2.13  h10796ff_1005           installed                      \n",
      "\u001b[32m  + hdf4                   \u001b[00m      4.2.15  h9772cbc_5              conda-forge/linux-64\u001b[32m     Cached\u001b[00m\n",
      "\u001b[31m  - hdf5                   \u001b[00m      1.10.6  h3ffc7dd_1              installed                      \n",
      "\u001b[32m  + hdf5                   \u001b[00m      1.12.2  nompi_h4df4325_101      conda-forge/linux-64\u001b[32m     Cached\u001b[00m\n",
      "\u001b[31m  - netcdf4                \u001b[00m       1.5.7  nompi_py39hd2e3950_101  installed                      \n",
      "\u001b[32m  + netcdf4                \u001b[00m       1.6.2  nompi_py39hfaa66c4_100  conda-forge/linux-64\u001b[32m     Cached\u001b[00m\n",
      "\u001b[31m  - pytables               \u001b[00m       3.6.1  py39hf6dc253_3          installed                      \n",
      "\u001b[32m  + pytables               \u001b[00m       3.7.0  py39h6a7961f_3          conda-forge/linux-64\u001b[32m     Cached\u001b[00m\n",
      "\u001b[31m  - tensorflow             \u001b[00m       2.4.1  mkl_py39h4683426_0      installed                      \n",
      "\u001b[32m  + tensorflow             \u001b[00m      2.11.0  cpu_py39h4655687_0      conda-forge/linux-64\u001b[32m     Cached\u001b[00m\n",
      "\u001b[31m  - tensorflow-base        \u001b[00m       2.4.1  mkl_py39h43e0292_0      installed                      \n",
      "\u001b[32m  + tensorflow-base        \u001b[00m      2.11.0  cpu_py39h9b4020c_0      conda-forge/linux-64\u001b[32m     Cached\u001b[00m\n",
      "\u001b[31m  - tensorflow-estimator   \u001b[00m       2.6.0  py39he80948d_0          installed                      \n",
      "\u001b[32m  + tensorflow-estimator   \u001b[00m      2.11.0  cpu_py39hf050123_0      conda-forge/linux-64\u001b[32m     Cached\u001b[00m\n",
      "\n",
      "  Downgrade:\n",
      "──────────────────────────────────────────────────────────────────────────────────────────────────\n",
      "\n",
      "\u001b[31m  - google-auth-oauthlib   \u001b[00m       1.0.0  pyhd8ed1ab_0            installed                      \n",
      "\u001b[32m  + google-auth-oauthlib   \u001b[00m       0.4.6  pyhd8ed1ab_0            conda-forge/noarch  \u001b[32m     Cached\u001b[00m\n",
      "\u001b[31m  - grpcio                 \u001b[00m      1.54.2  py39h227be39_2          installed                      \n",
      "\u001b[32m  + grpcio                 \u001b[00m      1.51.1  py39he859823_1          conda-forge/linux-64\u001b[32m     Cached\u001b[00m\n",
      "\u001b[31m  - libabseil              \u001b[00m  20230125.2  cxx17_h59595ed_2        installed                      \n",
      "\u001b[32m  + libabseil              \u001b[00m  20220623.0  cxx17_h05df665_6        conda-forge/linux-64\u001b[32m     Cached\u001b[00m\n",
      "\u001b[31m  - libgrpc                \u001b[00m      1.54.2  hb20ce57_2              installed                      \n",
      "\u001b[32m  + libgrpc                \u001b[00m      1.51.1  h4fad500_1              conda-forge/linux-64\u001b[32m     Cached\u001b[00m\n",
      "\u001b[31m  - re2                    \u001b[00m  2023.03.02  h8c504da_0              installed                      \n",
      "\u001b[32m  + re2                    \u001b[00m  2023.02.01  hcb278e6_0              conda-forge/linux-64\u001b[32m     Cached\u001b[00m\n",
      "\u001b[31m  - tensorboard            \u001b[00m      2.13.0  pyhd8ed1ab_0            installed                      \n",
      "\u001b[32m  + tensorboard            \u001b[00m      2.11.2  pyhd8ed1ab_0            conda-forge/noarch  \u001b[32m     Cached\u001b[00m\n",
      "\u001b[31m  - tensorboard-data-server\u001b[00m       0.7.0  py39h079d5ae_0          installed                      \n",
      "\u001b[32m  + tensorboard-data-server\u001b[00m       0.6.1  py39h3ccb8fc_4          conda-forge/linux-64\u001b[32m     Cached\u001b[00m\n",
      "\n",
      "  Summary:\n",
      "\n",
      "  Install: 36 packages\n",
      "  Change: 1 packages\n",
      "  Upgrade: 8 packages\n",
      "  Downgrade: 7 packages\n",
      "\n",
      "  Total download: 0  B\n",
      "\n",
      "──────────────────────────────────────────────────────────────────────────────────────────────────\n",
      "\n",
      "Preparing transaction: ...working... done\n",
      "Verifying transaction: ...working... done\n",
      "Executing transaction: ...working... done\n"
     ]
    }
   ],
   "source": [
    "import sys\n",
    "\n",
    "if not on_colab and sys.platform.startswith((\"linux\", \"darwin\")):\n",
    "    !mamba install -q -y -c conda-forge openmmforcefields\n",
    "    #注释：\n",
    "    # -如果您没有安装mamba，请安装它或使用conda\n",
    "    # -在配备M1芯片的MacOS下，您可能需要使用\n",
    "    #   CONDA_SUBSYS =上述命令前面的osx-64"
   ]
  },
  {
   "cell_type": "markdown",
   "metadata": {},
   "source": [
    "# 导入依赖项"
   ]
  },
  {
   "cell_type": "code",
   "execution_count": 4,
   "metadata": {
    "colab": {
     "base_uri": "https://localhost:8080/"
    },
    "id": "3g6vsWucLgng",
    "outputId": "daef1613-b0bf-4929-d5ed-8c3137151645"
   },
   "outputs": [],
   "source": [
    "import copy\n",
    "from pathlib import Path\n",
    "\n",
    "import requests\n",
    "from IPython.display import display\n",
    "import numpy as np\n",
    "from rdkit import Chem\n",
    "from rdkit.Chem import Draw\n",
    "from rdkit.Chem import AllChem\n",
    "import mdtraj as md\n",
    "import pdbfixer\n",
    "import openmm as mm\n",
    "import openmm.app as app\n",
    "from openmm import unit\n",
    "from openff.toolkit.topology import Molecule, Topology\n",
    "from openmmforcefields.generators import GAFFTemplateGenerator"
   ]
  },
  {
   "cell_type": "code",
   "execution_count": 5,
   "metadata": {
    "id": "w5g1k527SexH"
   },
   "outputs": [],
   "source": [
    "#如果不存在，则创建数据目录\n",
    "HERE = Path(_dh[-1])\n",
    "DATA = HERE / \"data\"\n",
    "DATA.mkdir(exist_ok=True)"
   ]
  },
  {
   "cell_type": "markdown",
   "metadata": {
    "id": "ltkfdrHvn4iI"
   },
   "source": [
    "# 下载DBC文件\n",
    "蛋白质数据库（[DBC](https：//www.rcsb.org/）)允许通过URL轻松下载文件。"
   ]
  },
  {
   "cell_type": "code",
   "execution_count": 6,
   "metadata": {
    "id": "Ecabaj2Y9kte"
   },
   "outputs": [],
   "source": [
    "pdbid = \"3POZ\"\n",
    "ligand_name = \"03P\"\n",
    "pdb_path = DATA / f\"{pdbid}.pdb\"\n",
    "pdb_url = f\"https://files.rcsb.org/download/{pdbid}.pdb\""
   ]
  },
  {
   "cell_type": "code",
   "execution_count": 7,
   "metadata": {},
   "outputs": [],
   "source": [
    "r = requests.get(pdb_url)\n",
    "r.raise_for_status()\n",
    "with open(pdb_path, \"wb\") as f:\n",
    "    f.write(r.content)"
   ]
  },
  {
   "cell_type": "markdown",
   "metadata": {
    "id": "krsfBvoenaYu"
   },
   "source": [
    "# 准备蛋白质配体复合物"
   ]
  },
  {
   "cell_type": "markdown",
   "metadata": {
    "id": "t3mGSg8LLgop"
   },
   "source": [
    "# 蛋白质制备\n",
    "\n",
    "成功模拟的关键部分是一个正确且完整的系统。从蛋白质数据库检索到的晶体结构经常遗漏原子，主要是氢，并且可能包含非标准残基。在本期谈话中，我们将使用Python包[PDBFixer](https：//github.com/openmm/pdbfixer）来准备蛋白质结构。然而，[PDBFixer]（https：//github.com/openmm/pdbfixer)不能很好地处理共结晶的配体，因此将单独制备。"
   ]
  },
  {
   "cell_type": "code",
   "execution_count": 8,
   "metadata": {
    "id": "pA9Vct0iNRhl"
   },
   "outputs": [],
   "source": [
    "def prepare_protein(\n",
    "    pdb_file, ignore_missing_residues=True, ignore_terminal_missing_residues=True, ph=7.0\n",
    "):\n",
    "    \"\"\"\n",
    "    Use pdbfixer to prepare the protein from a PDB file. Hetero atoms such as ligands are\n",
    "    removed and non-standard residues replaced. Missing atoms to existing residues are added.\n",
    "    Missing residues are ignored by default, but can be included.\n",
    "\n",
    "    Parameters\n",
    "    ----------\n",
    "    pdb_file: pathlib.Path or str\n",
    "        PDB file containing the system to simulate.\n",
    "    ignore_missing_residues: bool, optional\n",
    "        If missing residues should be ignored or built.\n",
    "    ignore_terminal_missing_residues: bool, optional\n",
    "        If missing residues at the beginning and the end of a chain should be ignored or built.\n",
    "    ph: float, optional\n",
    "        pH value used to determine protonation state of residues\n",
    "\n",
    "    Returns\n",
    "    -------\n",
    "    fixer: pdbfixer.pdbfixer.PDBFixer\n",
    "        Prepared protein system.\n",
    "    \"\"\"\n",
    "    fixer = pdbfixer.PDBFixer(str(pdb_file))\n",
    "    fixer.removeHeterogens()  # co-crystallized ligands are unknown to PDBFixer\n",
    "    fixer.findMissingResidues()  # identify missing residues, needed for identification of missing atoms\n",
    "\n",
    "    #如果应忽略缺失的末端残基，请将其从字典中删除\n",
    "    if ignore_terminal_missing_residues:\n",
    "        chains = list(fixer.topology.chains())\n",
    "        keys = fixer.missingResidues.keys()\n",
    "        for key in list(keys):\n",
    "            chain = chains[key[0]]\n",
    "            if key[1] == 0 or key[1] == len(list(chain.residues())):\n",
    "                del fixer.missingResidues[key]\n",
    "\n",
    "    #如果所有缺失的残基都应被忽略忽略，则清除字典\n",
    "    if ignore_missing_residues:\n",
    "        fixer.missingResidues = {}\n",
    "\n",
    "    fixer.findNonstandardResidues()  # find non-standard residue\n",
    "    fixer.replaceNonstandardResidues()  # replace non-standard residues with standard one\n",
    "    fixer.findMissingAtoms()  # find missing heavy atoms\n",
    "    fixer.addMissingAtoms()  # add missing atoms and residues\n",
    "    fixer.addMissingHydrogens(ph)  # add missing hydrogens\n",
    "    return fixer"
   ]
  },
  {
   "cell_type": "code",
   "execution_count": 9,
   "metadata": {
    "id": "bxuyg-oxOtvn"
   },
   "outputs": [
    {
     "name": "stderr",
     "output_type": "stream",
     "text": [
      "Warning: importing 'simtk.openmm' is deprecated.  Import 'openmm' instead.\n"
     ]
    }
   ],
   "source": [
    "#准备蛋白质并仅构建缺失的非末端残基\n",
    "prepared_protein = prepare_protein(pdb_path, ignore_missing_residues=False)"
   ]
  },
  {
   "cell_type": "markdown",
   "metadata": {
    "id": "_wR47KGjnP2O"
   },
   "source": [
    "# 准备配体"
   ]
  },
  {
   "cell_type": "markdown",
   "metadata": {
    "id": "8VoOjhASZ4Jh"
   },
   "source": [
    "准备好蛋白质后，我们将注意力转向配体。同样，我们需要添加氢原子，但还需要确保键阶被正确分配，因为一些DBC条目可能包含错误。我们使用Python包[RDKit](https：//github.com/rdkit/rdKit），这是一个开源化学信息学库。\n",
    "我们将通过SMILES字符串向[RDKit]（https：//github.com/rdkit/rdKit）提供正确的质子化状态和键阶。每个共结晶配体的不带电同分SMILES串可以在其各自的[TSB]（https：//www.example.com）条目中找到。www.rcsb.org DBC条目[3POZ]（https：//www.rcsb.org/structure/3poz）的配体名称为[03P]（https：//www.rcsb.org/ligand/03P)。如果配体可能以其带电形式或特定互变体结合，则需要将此类特征融入SMILES串中。"
   ]
  },
  {
   "cell_type": "code",
   "execution_count": 11,
   "metadata": {
    "id": "si7ARKHoabal"
   },
   "outputs": [],
   "source": [
    "def prepare_ligand(pdb_file, resname, smiles, depict=True):\n",
    "    \"\"\"\n",
    "    Prepare a ligand from a PDB file via adding hydrogens and assigning bond orders. A depiction\n",
    "    of the ligand before and after preparation is rendered in 2D to allow an inspection of the\n",
    "    results. Huge thanks to @j-wags for the suggestion.\n",
    "\n",
    "    Parameters\n",
    "    ----------\n",
    "    pdb_file: pathlib.PosixPath\n",
    "       PDB file containing the ligand of interest.\n",
    "    resname: str\n",
    "        Three character residue name of the ligand.\n",
    "    smiles : str\n",
    "        SMILES string of the ligand informing about correct protonation and bond orders.\n",
    "    depict: bool, optional\n",
    "        show a 2D representation of the ligand\n",
    "\n",
    "    Returns\n",
    "    -------\n",
    "    prepared_ligand: rdkit.Chem.rdchem.Mol\n",
    "        Prepared ligand.\n",
    "    \"\"\"\n",
    "    #分裂分子\n",
    "    rdkit_mol = Chem.MolFromPDBFile(str(pdb_file))\n",
    "    rdkit_mol_split = Chem.rdmolops.SplitMolByPDBResidues(rdkit_mol)\n",
    "\n",
    "    #提取配体并去除任何已经存在的氢\n",
    "    ligand = rdkit_mol_split[resname]\n",
    "    ligand = Chem.RemoveHs(ligand)\n",
    "\n",
    "    #从模板分配保证单\n",
    "    reference_mol = Chem.MolFromSmiles(smiles)\n",
    "    prepared_ligand = AllChem.AssignBondOrdersFromTemplate(reference_mol, ligand)\n",
    "    prepared_ligand.AddConformer(ligand.GetConformer(0))\n",
    "\n",
    "    #质子配体\n",
    "    prepared_ligand = Chem.rdmolops.AddHs(prepared_ligand, addCoords=True)\n",
    "    prepared_ligand = Chem.MolFromMolBlock(Chem.MolToMolBlock(prepared_ligand))\n",
    "\n",
    "    # 2D描绘\n",
    "    if depict:\n",
    "        ligand_2d = copy.deepcopy(ligand)\n",
    "        prepared_ligand_2d = copy.deepcopy(prepared_ligand)\n",
    "        AllChem.Compute2DCoords(ligand_2d)\n",
    "        AllChem.Compute2DCoords(prepared_ligand_2d)\n",
    "        display(\n",
    "            Draw.MolsToGridImage(\n",
    "                [ligand_2d, prepared_ligand_2d], molsPerRow=2, legends=[\"original\", \"prepared\"]\n",
    "            )\n",
    "        )\n",
    "\n",
    "    #返回配体\n",
    "    return prepared_ligand"
   ]
  },
  {
   "cell_type": "markdown",
   "metadata": {
    "id": "GkqslZRknFbq"
   },
   "source": [
    "使用从[03P]的DBC条目中获取的同质SMILES字符串调用此函数（https：//www.rcsb.org/ligand/03P）将返回正确准备的配体。打印的是原始配体和准备好的配体的2D表示，以供检查。"
   ]
  },
  {
   "cell_type": "code",
   "execution_count": 12,
   "metadata": {
    "colab": {
     "base_uri": "https://localhost:8080/",
     "height": 217
    },
    "id": "04v75eTlcEtx",
    "outputId": "800d782f-8e3c-40c7-bd2d-3339fc8e8b54",
    "tags": [
     "nbsphinx-thumbnail"
    ]
   },
   "outputs": [
    {
     "name": "stderr",
     "output_type": "stream",
     "text": [
      "[12:25:08] WARNING: More than one matching pattern found - picking one\n",
      "\n"
     ]
    },
    {
     "data": {
      "image/png": "[encoded data removed]",
      "text/plain": [
       "<IPython.core.display.Image object>"
      ]
     },
     "metadata": {},
     "output_type": "display_data"
    }
   ],
   "source": [
    "smiles = \"CC(C)(O)CC(=O)NCCn1ccc2ncnc(Nc3ccc(Oc4cccc(c4)C(F)(F)F)c(Cl)c3)c12\"\n",
    "rdkit_ligand = prepare_ligand(pdb_path, ligand_name, smiles)"
   ]
  },
  {
   "cell_type": "markdown",
   "metadata": {
    "id": "NP9WekSTO5N3"
   },
   "source": [
    "# 合并蛋白质和配体\n",
    "\n",
    "在下一步中，我们希望使用Python包[MDTraj](https：//github.com/mdtraj/mdtraj）合并准备的蛋白质和配体结构。[MDTraj]（https：//github.com/mdtraj/mdtraj）可以处理制备的蛋白质，该蛋白质目前是[PDBFixer]（https：//github.com/openmm/pdbfixer）分子，一种具有类似于[OpenMM Modeller]（http：//docs.openmm.org/latest/userguide/application.html#model-building-and-editing）的结构和位置。然而，对于配体，我们需要进行多次转换，因为它目前是[RDKit]（https：//github.com/rdkit/rdKit)分子。"
   ]
  },
  {
   "cell_type": "code",
   "execution_count": 13,
   "metadata": {
    "id": "UwehzZrhpDnD"
   },
   "outputs": [],
   "source": [
    "def rdkit_to_openmm(rdkit_mol, name=\"LIG\"):\n",
    "    \"\"\"\n",
    "    Convert an RDKit molecule to an OpenMM molecule.\n",
    "    Inspired by @hannahbrucemcdonald and @glass-w.\n",
    "\n",
    "    Parameters\n",
    "    ----------\n",
    "    rdkit_mol: rdkit.Chem.rdchem.Mol\n",
    "        RDKit molecule to convert.\n",
    "    name: str\n",
    "        Molecule name.\n",
    "\n",
    "    Returns\n",
    "    -------\n",
    "    omm_molecule: openmm.app.Modeller\n",
    "        OpenMM modeller object holding the molecule of interest.\n",
    "    \"\"\"\n",
    "    #将RDKit转换为OpenFF\n",
    "    off_mol = Molecule.from_rdkit(rdkit_mol)\n",
    "\n",
    "    #添加分子名称\n",
    "    off_mol.name = name\n",
    "\n",
    "    #添加原子的名称\n",
    "    element_counter_dict = {}\n",
    "    for off_atom, rdkit_atom in zip(off_mol.atoms, rdkit_mol.GetAtoms()):\n",
    "        element = rdkit_atom.GetSymbol()\n",
    "        if element in element_counter_dict.keys():\n",
    "            element_counter_dict[element] += 1\n",
    "        else:\n",
    "            element_counter_dict[element] = 1\n",
    "        off_atom.name = element + str(element_counter_dict[element])\n",
    "\n",
    "    #从OpenFF转换为OpenMM\n",
    "    off_mol_topology = off_mol.to_topology()\n",
    "    mol_topology = off_mol_topology.to_openmm()\n",
    "    mol_positions = off_mol.conformers[0]\n",
    "\n",
    "    #将单位从ngström转换为纳米\n",
    "    #因为OpenMM在纳米中工作\n",
    "    mol_positions = mol_positions.to(\"nanometers\")\n",
    "\n",
    "    #结合建模器对象中的布局和位置\n",
    "    omm_mol = app.Modeller(mol_topology, mol_positions)\n",
    "\n",
    "    return omm_mol"
   ]
  },
  {
   "cell_type": "code",
   "execution_count": 14,
   "metadata": {
    "id": "I77OHmv47vEN"
   },
   "outputs": [],
   "source": [
    "omm_ligand = rdkit_to_openmm(rdkit_ligand, ligand_name)"
   ]
  },
  {
   "cell_type": "markdown",
   "metadata": {
    "id": "dqY5AE0JGIgL"
   },
   "source": [
    "现在蛋白质和配体都采用[OpenMM](https：//github.com/openmm/openmm）类似的格式，并且可以与[MDTraj]（https：//github.com/mdtraj/mdtraj)合并。"
   ]
  },
  {
   "cell_type": "code",
   "execution_count": 15,
   "metadata": {
    "id": "8gJMRq8fZYOU"
   },
   "outputs": [],
   "source": [
    "def merge_protein_and_ligand(protein, ligand):\n",
    "    \"\"\"\n",
    "    Merge two OpenMM objects.\n",
    "\n",
    "    Parameters\n",
    "    ----------\n",
    "    protein: pdbfixer.pdbfixer.PDBFixer\n",
    "        Protein to merge.\n",
    "    ligand: openmm.app.Modeller\n",
    "        Ligand to merge.\n",
    "\n",
    "    Returns\n",
    "    -------\n",
    "    complex_topology: openmm.app.topology.Topology\n",
    "        The merged topology.\n",
    "    complex_positions: openmm.unit.quantity.Quantity\n",
    "        The merged positions.\n",
    "    \"\"\"\n",
    "    #结合topics\n",
    "    md_protein_topology = md.Topology.from_openmm(protein.topology)  # using mdtraj for protein top\n",
    "    md_ligand_topology = md.Topology.from_openmm(ligand.topology)  # using mdtraj for ligand top\n",
    "    md_complex_topology = md_protein_topology.join(md_ligand_topology)  # add them together\n",
    "    complex_topology = md_complex_topology.to_openmm()\n",
    "\n",
    "    #组合位置\n",
    "    total_atoms = len(protein.positions) + len(ligand.positions)\n",
    "\n",
    "    #创建一个数组，用于将所有原子位置存储为包含值和单位的塔佩尔\n",
    "    #称为OpenMM收件箱\n",
    "    complex_positions = unit.Quantity(np.zeros([total_atoms, 3]), unit=unit.nanometers)\n",
    "    complex_positions[: len(protein.positions)] = protein.positions  # add protein positions\n",
    "    complex_positions[len(protein.positions) :] = ligand.positions  # add ligand positions\n",
    "\n",
    "    return complex_topology, complex_positions"
   ]
  },
  {
   "cell_type": "code",
   "execution_count": 26,
   "metadata": {
    "id": "ZXmeeV0ZPOho"
   },
   "outputs": [
    {
     "name": "stderr",
     "output_type": "stream",
     "text": [
      "~/.miniconda3/envs/teachopencadd/lib/python3.9/site-packages/openmm/unit/quantity.py:750: UnitStrippedWarning: The unit of the quantity is stripped when downcasting to ndarray.\n",
      "  self._value[key] = value / self.unit\n"
     ]
    }
   ],
   "source": [
    "complex_topology, complex_positions = merge_protein_and_ligand(prepared_protein, omm_ligand)"
   ]
  },
  {
   "cell_type": "code",
   "execution_count": 27,
   "metadata": {
    "id": "ZXmeeV0ZPOho"
   },
   "outputs": [
    {
     "name": "stdout",
     "output_type": "stream",
     "text": [
      "Complex topology has 5561 atoms.\n"
     ]
    }
   ],
   "source": [
    "print(\"Complex topology has\", complex_topology.getNumAtoms(), \"atoms.\")\n",
    "#NBVAR_RST_输出"
   ]
  },
  {
   "cell_type": "markdown",
   "metadata": {
    "id": "2HAmjMG5Lgpd"
   },
   "source": [
    "# MD模拟设置\n",
    "\n",
    "我们现在可以使用准备好的综合体来设置MD模拟。 "
   ]
  },
  {
   "cell_type": "markdown",
   "metadata": {
    "id": "1B9DRdICny_f"
   },
   "source": [
    "# 磁场\n",
    "\n",
    "ABER等常见的磁场具有氨基酸、核酸、水和离子的参数，通常根据您的目标提供多种选择。我们使用' amber 14-all. html ' force字段文件，该文件随OpenMM一起提供，包括蛋白质、DNA、RNA和脂质的参数。对于溶剂化，我们使用标准的三点[水模型](https：//en.wikipedia.org/wiki/Water_models）[** TIP 3 P **]（https：//aip.scitation.org/doi/10.1063/1.445869）。\n",
    "\n",
    "然而，不包括配体的参数。为了生成这些参数，我们可以使用 **G** general **A** MBE *F**orce** F* F *ield（[GAFF]（http：//ambermd.org/antechamber/gaff.html）），它在Python包[OpenMM Forcefields]（https：//github.com/openmm/openmmforcefields)中实现。以下函数生成一个包含标准ABER参数的电场对象，并在需要时还包括小分子的参数。"
   ]
  },
  {
   "cell_type": "code",
   "execution_count": 17,
   "metadata": {
    "id": "EFHKhU6v1k-h"
   },
   "outputs": [],
   "source": [
    "def generate_forcefield(\n",
    "    rdkit_mol=None, protein_ff=\"amber14-all.xml\", solvent_ff=\"amber14/tip3pfb.xml\"\n",
    "):\n",
    "    \"\"\"\n",
    "    Generate an OpenMM Forcefield object and register a small molecule.\n",
    "\n",
    "    Parameters\n",
    "    ----------\n",
    "    rdkit_mol: rdkit.Chem.rdchem.Mol\n",
    "        Small molecule to register in the force field.\n",
    "    protein_ff: string\n",
    "        Name of the force field.\n",
    "    solvent_ff: string\n",
    "        Name of the solvent force field.\n",
    "\n",
    "    Returns\n",
    "    -------\n",
    "    forcefield: openmm.app.Forcefield\n",
    "        Forcefield with registered small molecule.\n",
    "    \"\"\"\n",
    "    forcefield = app.ForceField(protein_ff, solvent_ff)\n",
    "\n",
    "    if rdkit_mol is not None:\n",
    "        gaff = GAFFTemplateGenerator(\n",
    "            molecules=Molecule.from_rdkit(rdkit_mol, allow_undefined_stereo=True)\n",
    "        )\n",
    "        forcefield.registerTemplateGenerator(gaff.generator)\n",
    "\n",
    "    return forcefield"
   ]
  },
  {
   "cell_type": "code",
   "execution_count": 18,
   "metadata": {
    "id": "5is-oVrO2Fjy"
   },
   "outputs": [],
   "source": [
    "forcefield = generate_forcefield(rdkit_ligand)"
   ]
  },
  {
   "cell_type": "markdown",
   "metadata": {
    "id": "cGrreylan6XS"
   },
   "source": [
    "# 系统"
   ]
  },
  {
   "cell_type": "markdown",
   "metadata": {
    "id": "DzO12MFp2P48"
   },
   "source": [
    "通过我们配置的电场，我们现在可以使用[OpenMM Modeller](http：//docs.openmm.org/latest/userguide/application.html#model-building-and-editing)类来创建MD环境，这是一个包含复合体并充满溶剂的模拟框。标准溶剂是含有指定量离子的水。盒子的大小可以通过各种方式确定。我们用填充来定义它，这会产生一个立方体盒子，其维度取决于复合体的最大维度。\n",
    "\n",
    "> 请注意，此步骤可能需要很长时间，大约几分钟，具体取决于您的硬件。"
   ]
  },
  {
   "cell_type": "code",
   "execution_count": 19,
   "metadata": {
    "id": "c4LEvWMI8ash"
   },
   "outputs": [],
   "source": [
    "modeller = app.Modeller(complex_topology, complex_positions)\n",
    "modeller.addSolvent(forcefield, padding=1.0 * unit.nanometers, ionicStrength=0.15 * unit.molar)"
   ]
  },
  {
   "cell_type": "markdown",
   "metadata": {
    "id": "TwAEe5d8n4jf"
   },
   "source": [
    "通过我们的溶剂化系统和力场，我们最终可以创建一个[OpenMM系统](http：//docs.openmm.org/development/api-python/generated/openmm.openmm.System.html#openmm.openmm.System）并设置模拟。\n",
    "除了系统之外，模拟还需要一个集成商。[OpenMM Integrator]（http：//docs.openmm.org/development/api-python/library.html#Integrators）定义了一种通过积分运动方程来模拟系统的方法。选择的 **Langevin积分器 ** 使用Langevin方程。所有不同类型集成商的列表可以在[OpenMM收件箱]（http：//docs.openmm.org/development/api-python/library.html#Integrators）中找到。要进一步了解 **Langevin积分器 **，我们建议阅读有关Langevin方程的信息，例如在[维基百科]（https：//en.wikipedia.org/wiki/Langevin_equation)上。"
   ]
  },
  {
   "cell_type": "code",
   "execution_count": 20,
   "metadata": {
    "id": "n52Cmkr4dpI-"
   },
   "outputs": [],
   "source": [
    "system = forcefield.createSystem(modeller.topology, nonbondedMethod=app.PME)\n",
    "integrator = mm.LangevinIntegrator(\n",
    "    300 * unit.kelvin, 1.0 / unit.picoseconds, 2.0 * unit.femtoseconds\n",
    ")\n",
    "simulation = app.Simulation(modeller.topology, system, integrator)\n",
    "simulation.context.setPositions(modeller.positions)"
   ]
  },
  {
   "cell_type": "markdown",
   "metadata": {
    "id": "JwEgrFkILgqL"
   },
   "source": [
    "# 执行MD模拟\n",
    "现在一切都设置好了，我们就可以执行模拟了。我们需要设置启动位置并最小化系统的能量以获得低能量启动配置，这对于减少因严重原子冲突而导致模拟失败的机会非常重要。节省了能源最小化系统。"
   ]
  },
  {
   "cell_type": "code",
   "execution_count": 21,
   "metadata": {
    "id": "EgkE1EUGLgqP"
   },
   "outputs": [],
   "source": [
    "simulation.minimizeEnergy()\n",
    "with open(DATA / \"topology.pdb\", \"w\") as pdb_file:\n",
    "    app.PDBFile.writeFile(\n",
    "        simulation.topology,\n",
    "        simulation.context.getState(getPositions=True, enforcePeriodicBox=True).getPositions(),\n",
    "        file=pdb_file,\n",
    "        keepIds=True,\n",
    "    )"
   ]
  },
  {
   "cell_type": "markdown",
   "metadata": {
    "id": "KAwpxWM7ozSo"
   },
   "source": [
    "完成最小化后，我们可以执行MD模拟。在这篇脱口秀中，我们将进行一个简短的模拟来说明。出于研究目的的模拟跨越几微秒，甚至高达微秒。我们将仅模拟100 ps的分子动力学，对应于每个2 fs的50 k步。我们每10 ps（5000步）保存一次分子“快照”，总共保存10帧。结果保存在. xtt文件中，其中包含给定时间点所有原子的坐标。与之前编写的能量最小化系统的DBC文件一起，它为我们提供了稍后分析所需的所有信息。 \n",
    "* * 注意 **：如果不是在Google Colab上，此谈话节目只会生成20 fs轨迹。不过，如果您有一个好的图形处理器可用，您也可以增加模拟时间。"
   ]
  },
  {
   "cell_type": "code",
   "execution_count": 22,
   "metadata": {
    "id": "E8t-0ZxFLgqh"
   },
   "outputs": [],
   "source": [
    "#输出设置\n",
    "if on_colab:\n",
    "    steps = 50000  # corresponds to 100 ps\n",
    "    write_interval = 5000  # write every 10 ps\n",
    "    log_interval = 2500  # log progress to stdout every 5 ps\n",
    "else:\n",
    "    steps = 10  # corresponds to 20 fs\n",
    "    write_interval = 1  # write every 2 fs\n",
    "    log_interval = 1  # log progress to stdout every 2 fs\n",
    "simulation.reporters.append(\n",
    "    md.reporters.XTCReporter(file=str(DATA / \"trajectory.xtc\"), reportInterval=write_interval)\n",
    ")\n",
    "simulation.reporters.append(\n",
    "    app.StateDataReporter(\n",
    "        sys.stdout,\n",
    "        log_interval,\n",
    "        step=True,\n",
    "        potentialEnergy=True,\n",
    "        temperature=True,\n",
    "        progress=True,\n",
    "        remainingTime=True,\n",
    "        speed=True,\n",
    "        totalSteps=steps,\n",
    "        separator=\"\\t\",\n",
    "    )\n",
    ")"
   ]
  },
  {
   "cell_type": "markdown",
   "metadata": {
    "id": "J3gGRFBFozSp"
   },
   "source": [
    "系统中所有粒子的速度都是从给定温度下的分布中随机选择的。我们选择了300开尔文，比室温高出几度。\n",
    "会生成随机种子，但可以显式地给出该种子来重现结果。\n",
    "\n",
    "然后通过采取之前定义的步骤来执行模拟。"
   ]
  },
  {
   "cell_type": "code",
   "execution_count": 23,
   "metadata": {
    "colab": {
     "base_uri": "https://localhost:8080/"
    },
    "id": "7B7AiVO3fr03",
    "outputId": "1efb21e9-74de-47a4-dce9-961a514175f0"
   },
   "outputs": [
    {
     "name": "stdout",
     "output_type": "stream",
     "text": [
      "#\"Progress (%)\"\t\"Step\"\t\"Potential Energy (kJ/mole)\"\t\"Temperature (K)\"\t\"Speed (ns/day)\"\t\"Time Remaining\"\n",
      "10.0%\t1\t-992629.2532507611\t280.59188983053207\t0\t--\n",
      "20.0%\t2\t-978514.3140385933\t250.1140053691449\t1.88\t0:00\n",
      "30.0%\t3\t-961427.9816461714\t214.09328454071326\t1.92\t0:00\n",
      "40.0%\t4\t-944609.5657245225\t180.29949178380076\t1.9\t0:00\n",
      "50.0%\t5\t-938426.3768274506\t165.17778679274846\t1.89\t0:00\n",
      "60.0%\t6\t-930096.1319021038\t149.4126629808844\t1.89\t0:00\n",
      "70.0%\t7\t-926924.8985479049\t143.336941762251\t1.9\t0:00\n",
      "80.0%\t8\t-930284.4123182578\t149.77757492192208\t1.91\t0:00\n",
      "90.0%\t9\t-932318.9156875424\t155.78884925604478\t1.9\t0:00\n",
      "100.0%\t10\t-937770.7580560565\t167.02287919129623\t1.9\t0:00\n"
     ]
    }
   ],
   "source": [
    "simulation.context.setVelocitiesToTemperature(300 * unit.kelvin)\n",
    "simulation.step(steps)  # perform the simulation"
   ]
  },
  {
   "cell_type": "code",
   "execution_count": 24,
   "metadata": {},
   "outputs": [
    {
     "data": {
      "text/plain": [
       "True"
      ]
     },
     "execution_count": 24,
     "metadata": {},
     "output_type": "execute_result"
    }
   ],
   "source": [
    "#检查轨迹存在且不为空\n",
    "(DATA / \"trajectory.xtc\").stat().st_size > 0\n",
    "#NBVAR_RST_输出"
   ]
  },
  {
   "cell_type": "markdown",
   "metadata": {
    "id": "M_Wf2prXqoif"
   },
   "source": [
    "# 下载结果\n",
    "\n",
    "如果您正在使用Google Colab下载MD模拟结果，则可以执行以下单元格。"
   ]
  },
  {
   "cell_type": "code",
   "execution_count": 25,
   "metadata": {
    "colab": {
     "base_uri": "https://localhost:8080/",
     "height": 17
    },
    "id": "FfcMX8G1i0RY",
    "outputId": "84b171f2-7ae1-42fd-cce6-9fa34431a88a"
   },
   "outputs": [],
   "source": [
    "if on_colab:\n",
    "    files.download(DATA / \"topology.pdb\")\n",
    "    files.download(DATA / \"trajectory.xtc\")"
   ]
  },
  {
   "cell_type": "markdown",
   "metadata": {
    "id": "aAleBNfKyhCd"
   },
   "source": [
    "## 讨论\n",
    "\n",
    "我们已经成功地进行了蛋白质配体复合体的分子动力学模拟。然而，我们只模拟了相当短的时间，以保持谈话指南的执行时间较短。为了解决药物设计中的关键问题，往往需要更长的模拟时间。\n",
    "MD模拟的计算成本仍然太高，不能用于这一目的。因此，发展了所谓的增强采样方法，其目的是加速构象采样。一些最常见的方法将在下面的**进一步阅读**部分中讨论。\n",
    "此外，我们没有包括平衡步骤，该步骤通常用于在开始模拟之前从0到300K缓慢加热系统，并且在模拟包括脂质双层在内的更敏感的系统时可能很重要。由于蛋白质残基的质子化状态和配基的质子化状态是相互影响的，所以分别进行配基和蛋白质的质子化是次优的。然而，我们没有找到一个满足所有需求的免费和开源解决方案。我们非常欢迎您的建议！\n",
    "如果您想了解如何可视化和分析轨迹，可以参考此库中的**TalktureT020**。"
   ]
  },
  {
   "cell_type": "markdown",
   "metadata": {
    "id": "qFsGM5zEozSq"
   },
   "source": [
    "## 测验\n",
    "* 琥珀色磁场中考虑了哪些分子间和分子内的力？你能想到有什么力量没有考虑在内吗？\n",
    "* 当使用相同参数运行笔记本电脑两次时，您是否希望看到完全相同的模拟结果？\n",
    "* 尝试对没有配体的蛋白质进行简短（10 ps，每1 ps快照一次）模拟。您可以在[DBC](https：//www.rcsb.org/)上找到多种结构，或者您可以使用EGFR同工酶并去除配体。"
   ]
  },
  {
   "cell_type": "markdown",
   "metadata": {
    "id": "DYy_qmUJF1W6"
   },
   "source": [
    "## 进一步阅读"
   ]
  },
  {
   "cell_type": "markdown",
   "metadata": {
    "id": "IWYS2Q40u_dl"
   },
   "source": [
    "# 增强采样方式\n",
    "\n",
    "从理论上讲，无偏MD模拟应该能够模拟药物分子及其大分子靶标的结合和解离事件。然而，结合和解除结合事件的时间尺度在毫秒到秒的范围内。增强的采样方法旨在加快构象采样([_J Med Chem._2016，**59(9)**，4035-61](https://doi.org/10.1021/acs.jmedchem.5b01684)).\n",
    "\n",
    "其中之一是**自由能微扰(FEP)**(也称为炼金术自由能计算)，它计算从一种状态A到另一种状态B时的自由能差。它经常被用于铅优化中，以评估配体上的微小修饰，这可能会提高目标的结合亲和力。由此，通过模拟几个中间(炼金术)状态([alchemistry](http://www.alchemistry.org/wiki/Main_Page)).，来自状态A的配体逐渐转变为状态B的配体\n",
    "\n",
    "另一种计算自由能的技术是**伞采样(美国)**。美国通过使用能量偏差执行阶段性模拟来执行沿着集体变量(CV)的采样。这种偏置通常以谐和电势的形式出现，因此有了“保护伞”一词。它的目标是对CV沿线的高能区域进行采样。然而，由于计算成本较高，限制了其在药物设计中的应用。\n",
    "\n",
    "相比之下，**转向MD(SMD)**采用了一种不同的方法：它向系统施加外力。这些作用力是时间依赖的，有助于配体从靶标上解离。SMD计算施加在系统上的最终力。然后，解结力分布可以用来过滤来自对接计算的点击，并区分活性和非活性分子。"
   ]
  }
 ],
 "metadata": {
  "accelerator": "GPU",
  "colab": {
   "collapsed_sections": [],
   "name": "talktorial.ipynb",
   "provenance": [],
   "toc_visible": true
  },
  "kernelspec": {
   "display_name": "Python 3 (ipykernel)",
   "language": "python",
   "name": "python3"
  },
  "language_info": {
   "codemirror_mode": {
    "name": "ipython",
    "version": 3
   },
   "file_extension": ".py",
   "mimetype": "text/x-python",
   "name": "python",
   "nbconvert_exporter": "python",
   "pygments_lexer": "ipython3",
   "version": "3.9.16"
  },
  "widgets": {
   "application/vnd.jupyter.widget-state+json": {
    "state": {},
    "version_major": 2,
    "version_minor": 0
   }
  }
 },
 "nbformat": 4,
 "nbformat_minor": 4
}
