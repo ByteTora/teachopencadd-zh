{
 "cells": [
  {
   "attachments": {},
   "cell_type": "markdown",
   "metadata": {},
   "source": [
    "# T001 · 化合物数据获取 (ChEMBL)\n",
    "\n",
    "**Note:** 本教程是动手学CADD课程的一部分,一个旨在教授特定领域技能并提供研究项目起点的流水线模板的平台.\n",
    "\n",
    "作者:\n",
    "\n",
    "- Svetlana Leng, CADD seminar 2017, Volkamer lab, Charité/FU Berlin \n",
    "- Paula Junge, CADD seminar 2018, Volkamer lab, Charité/FU Berlin\n",
    "- Dominique Sydow, 2019-2020, [Volkamer lab, Charité](https://volkamerlab.org/)\n",
    "- Andrea Volkamer, 2020, [Volkamer lab, Charité](https://volkamerlab.org/)\n",
    "- Yonghui Chen, 2020, [Volkamer lab, Charité](https://volkamerlab.org/)"
   ]
  },
  {
   "attachments": {},
   "cell_type": "markdown",
   "metadata": {},
   "source": [
    "## 课程目标\n",
    "\n",
    "在此notebook中，我们将会学到更多有关CHEMBL数据库的知识，以及如何从CHEMBL数据库中提取数据,例如:特定靶点的(化合物，活性)数据对。这些数据集合可以用在很多化学信息学的下游任务中，如相似性搜索、聚类或机器学习中。\n",
    "\n",
    "我们的工作将包括寻找针对特定靶点进行测试的化合物，并筛选可用的生物活性数据。"
   ]
  },
  {
   "attachments": {},
   "cell_type": "markdown",
   "metadata": {},
   "source": [
    "### *原理部分*\n",
    "\n",
    "* ChEMBL 数据库\n",
    "    * ChEMBL web services\n",
    "    * ChEMBL web resource client\n",
    "* 化合物活性衡量指标\n",
    "    * IC50 衡量\n",
    "    * pIC50 值"
   ]
  },
  {
   "attachments": {},
   "cell_type": "markdown",
   "metadata": {},
   "source": [
    "### *实战部分*\n",
    "    \n",
    "**目标: 针对特定靶点获取小分子的活性数据列表**\n",
    "\n",
    "* 连接ChEMBL数据库\n",
    "* 获取靶点数据(示例: EGFR激酶)\n",
    "    * 拉取并下载靶点数据\n",
    "    * 选择靶点ChEMBL ID\n",
    "* 获取活性数据\n",
    "    * 拉取并下载特定靶点的生物活性数据\n",
    "    * 预处理和筛选生物活性数据、\n",
    "* 获取化合物数据\n",
    "    * 拉取并下载化合物数据\n",
    "    * 预处理和过滤化合物数据\n",
    "* 输出 生物活性-化合物 数据\n",
    "    * 合并活性和化合物数据, 并添加pIC50值\n",
    "    * 画出pIC50值分布图\n",
    "    * 保持在ChEMBL 27 版本\n",
    "    * 保存结果到文件"
   ]
  },
  {
   "attachments": {},
   "cell_type": "markdown",
   "metadata": {},
   "source": [
    "### 参考文献\n",
    "\n",
    "* ChEMBL bioactivity database: [Gaulton *et al.*, <i>Nucleic Acids Res.</i> (2017), 45(Database issue), D945–D954](https://www.ncbi.nlm.nih.gov/pmc/articles/PMC5210557/)\n",
    "* ChEMBL web services: [Davies *et al.*, <i>Nucleic Acids Res.</i> (2015), <b>43</b>, 612-620](https://academic.oup.com/nar/article/43/W1/W612/2467881) \n",
    "* [ChEMBL web-interface](https://www.ebi.ac.uk/chembl/)\n",
    "*  GitHub [ChEMBL web rescource client](https://github.com/chembl/chembl_webresource_client)\n",
    "* The EBI RDF platform: [Jupp *et al.*, <i>Bioinformatics </i> (2014), 30(9), 1338-9](https://www.ncbi.nlm.nih.gov/pubmed/24413672)\n",
    "* Info on half maximal inhibitory concentration: [(p)IC50](https://en.wikipedia.org/wiki/IC50)\n",
    "* [UniProt website](https://www.uniprot.org/)"
   ]
  },
  {
   "attachments": {},
   "cell_type": "markdown",
   "metadata": {},
   "source": [
    "## 原理"
   ]
  },
  {
   "attachments": {},
   "cell_type": "markdown",
   "metadata": {},
   "source": [
    "### ChEMBL 数据库\n",
    "![ChEMBL web service schema](images/CHEMBL_cover.png)\n",
    ">\"ChEMBL 是一个人工整理的生物活性分子数据库，这些分子具有类似药物的属性。它汇集了化学、生物活性和基因组数据，以帮助将基因组信息转化为有效的新药物.\" ([ChEMBL 网站](https://www.ebi.ac.uk/chembl/))"
   ]
  },
  {
   "attachments": {},
   "cell_type": "markdown",
   "metadata": {},
   "source": [
    "### 化合物活性衡量指标"
   ]
  },
  {
   "attachments": {},
   "cell_type": "markdown",
   "metadata": {},
   "source": [
    "#### IC50 值\n",
    "\n",
    "* [半抑制浓度(Half maximal inhibitory concentration)](https://baike.baidu.com/item/%E5%8D%8A%E6%8A%91%E5%88%B6%E6%B5%93%E5%BA%A6/6174649?fr=ge_ala)\n",
    "* 表明需要多少特定药物或其他物质来抑制某个生物过程的一半\n",
    "\n",
    "![Wiki_Example_IC50_curve_demonstrating_visually_how_IC50_is_derived](images/Wiki_Example_IC50_curve_demonstrating_visually_how_IC50_is_derived.png)\n",
    "\n",
    "*Fiugure 2:* 如何推导 IC50 值的示例：\n",
    "(i) 将抑制数据排列在 y 轴上，将浓度的对数排列在 x 轴上。 (ii) 确定最大和最小抑制。 (iii) IC50 是曲线通过 50% 抑制水平时的浓度。 图片 [\"Example IC50 curve demonstrating visually how IC50 is derived\"](https://en.wikipedia.org/wiki/IC50#/media/File:Example_IC50_curve_demonstrating_visually_how_IC50_is_derived.png)  由 JesseAlanGordon 创作，遵循 [CC BY-SA 3.0](https://creativecommons.org/licenses/by-sa/3.0/) 许可协议。\n"
   ]
  },
  {
   "attachments": {},
   "cell_type": "markdown",
   "metadata": {},
   "source": [
    "#### pIC50 值\n",
    "\n",
    "* 为了便于比较具有大范围值并且以不同单位（M, nM, ...）给出的IC50值，通常使用pIC50值。\n",
    "* pIC50 是将IC50值转换为摩尔单位后的负对数：\n",
    "    $ pIC_{50} = -log_{10}(IC_{50})$，其中 $ IC_{50} $ 以摩尔单位M表示。\n",
    "* 更高的pIC50值表示药物的效力呈指数级增长。\n",
    "* 注意，转换可以根据各自的IC50单位进行调整，例如对于纳摩尔nM：$pIC_{50} = -log_{10}(IC_{50}*10^{-9})= 9-log_{10}(IC_{50}) $\n",
    "\n",
    "其他活性度量：\n",
    "\n",
    "除了IC50和pIC50，还使用其他生物活性度量方法，例如平衡常数 [KI](https://en.wikipedia.org/wiki/Equilibrium_constant) 和半最大有效浓度 [EC50](https://en.wikipedia.org/wiki/EC50)。\n"
   ]
  },
  {
   "attachments": {},
   "cell_type": "markdown",
   "metadata": {},
   "source": [
    "## 练习\n",
    "\n",
    "在接下来的内容中，我们想要下载所有已针对我们感兴趣的目标——**表皮生长因子受体激酶**（[**EGFR**](https://www.uniprot.org/uniprot/P00533)）进行测试的分子。"
   ]
  },
  {
   "attachments": {},
   "cell_type": "markdown",
   "metadata": {},
   "source": [
    "### 连接CHEMBL数据库"
   ]
  },
  {
   "attachments": {},
   "cell_type": "markdown",
   "metadata": {},
   "source": [
    "首先，导入ChEMBL web resource client和其他Python库"
   ]
  },
  {
   "cell_type": "code",
   "execution_count": null,
   "metadata": {},
   "outputs": [],
   "source": [
    "import math\n",
    "from pathlib import Path\n",
    "from zipfile import ZipFile\n",
    "from tempfile import TemporaryDirectory\n",
    "\n",
    "import numpy as np\n",
    "import pandas as pd\n",
    "from rdkit.Chem import PandasTools\n",
    "from chembl_webresource_client.new_client import new_client\n",
    "from tqdm.auto import tqdm"
   ]
  },
  {
   "cell_type": "code",
   "execution_count": null,
   "metadata": {},
   "outputs": [],
   "source": [
    "HERE = Path(_dh[-1])\n",
    "DATA = HERE / \"data\""
   ]
  },
  {
   "attachments": {},
   "cell_type": "markdown",
   "metadata": {},
   "source": [
    "接下来创建资源对象API"
   ]
  },
  {
   "cell_type": "code",
   "execution_count": null,
   "metadata": {},
   "outputs": [],
   "source": [
    "targets_api = new_client.target\n",
    "compounds_api = new_client.molecule\n",
    "bioactivities_api = new_client.activity"
   ]
  },
  {
   "cell_type": "code",
   "execution_count": null,
   "metadata": {},
   "outputs": [],
   "source": [
    "type(targets_api)"
   ]
  },
  {
   "attachments": {},
   "cell_type": "markdown",
   "metadata": {},
   "source": [
    "### 获取靶点数据(EGFR 激酶)\n",
    "\n",
    "* 从[UniProt website](https://www.uniprot.org/)获取目标靶点的 UniProt ID(EGFR kinase:  [P00533](http://www.uniprot.org/uniprot/P00533))\n",
    "* 使用UniProt ID获取靶点信息\n",
    "\n",
    "PS：你也可以利用UniProt ID获取其他感兴趣的靶点"
   ]
  },
  {
   "cell_type": "code",
   "execution_count": null,
   "metadata": {},
   "outputs": [],
   "source": [
    "uniprot_id = \"P00533\""
   ]
  },
  {
   "attachments": {},
   "cell_type": "markdown",
   "metadata": {},
   "source": [
    "#### 从ChEMBL拉取靶点数据"
   ]
  },
  {
   "cell_type": "code",
   "execution_count": null,
   "metadata": {},
   "outputs": [],
   "source": [
    "# 从CHEMBL数据库只获取定义的靶点信息\n",
    "targets = targets_api.get(target_components__accession=uniprot_id).only(\n",
    "    \"target_chembl_id\", \"organism\", \"pref_name\", \"target_type\"\n",
    ")\n",
    "print(f'The type of the targets is \"{type(targets)}\"')"
   ]
  },
  {
   "attachments": {},
   "cell_type": "markdown",
   "metadata": {},
   "source": [
    "#### 从CHEMBL数据库下载靶点信息\n",
    "\n",
    "查询结果存储在`targets`变量中, 是一个 `QuerySet`, 也即结果不会直接从CHEMBL获取，只有请求时才会有(在这里我们使用 `pandas.DataFrame.from_records`方法)。\n"
   ]
  },
  {
   "cell_type": "code",
   "execution_count": null,
   "metadata": {},
   "outputs": [],
   "source": [
    "targets = pd.DataFrame.from_records(targets)\n",
    "targets"
   ]
  },
  {
   "attachments": {},
   "cell_type": "markdown",
   "metadata": {},
   "source": [
    "#### 选择靶点(靶点ChEMBL ID)\n",
    "\n",
    "在检查了上述表格后，我们选择：\n",
    "\n",
    "`CHEMBL203`: 这是一个蛋白单体，代表人类表皮生长因子受体(EGFR, 也叫erbB1) "
   ]
  },
  {
   "cell_type": "code",
   "execution_count": null,
   "metadata": {},
   "outputs": [],
   "source": [
    "target = targets.iloc[0]\n",
    "target"
   ]
  },
  {
   "attachments": {},
   "cell_type": "markdown",
   "metadata": {},
   "source": [
    "接下来保存选择的ChEMBL ID"
   ]
  },
  {
   "cell_type": "code",
   "execution_count": null,
   "metadata": {},
   "outputs": [],
   "source": [
    "chembl_id = target.target_chembl_id\n",
    "print(f\"The target ChEMBL ID is {chembl_id}\")\n",
    "# NBVAL_CHECK_OUTPUT"
   ]
  },
  {
   "attachments": {},
   "cell_type": "markdown",
   "metadata": {},
   "source": [
    "### 获取生物活性数据\n",
    "\n",
    "现在，我们想要查询定义靶点的生物活性数据"
   ]
  },
  {
   "attachments": {},
   "cell_type": "markdown",
   "metadata": {},
   "source": [
    "#### 从CHEMBL靶点获取生物活性数据"
   ]
  },
  {
   "attachments": {},
   "cell_type": "markdown",
   "metadata": {},
   "source": [
    "在这一步，我们获取活性数据且仅考虑：\n",
    "\n",
    "* 人类蛋白;\n",
    "* IC50活性数据;\n",
    "* 关系为`'='`\n",
    "* 结合数据(文章类型 `'B'`)."
   ]
  },
  {
   "cell_type": "code",
   "execution_count": null,
   "metadata": {},
   "outputs": [],
   "source": [
    "bioactivities = bioactivities_api.filter(\n",
    "    target_chembl_id=chembl_id, type=\"IC50\", relation=\"=\", assay_type=\"B\"\n",
    ").only(\n",
    "    \"activity_id\",\n",
    "    \"assay_chembl_id\",\n",
    "    \"assay_description\",\n",
    "    \"assay_type\",\n",
    "    \"molecule_chembl_id\",\n",
    "    \"type\",\n",
    "    \"standard_units\",\n",
    "    \"relation\",\n",
    "    \"standard_value\",\n",
    "    \"target_chembl_id\",\n",
    "    \"target_organism\",\n",
    ")\n",
    "\n",
    "print(f\"Length and type of bioactivities object: {len(bioactivities)}, {type(bioactivities)}\")"
   ]
  },
  {
   "attachments": {},
   "cell_type": "markdown",
   "metadata": {},
   "source": [
    "我们的生物活性数据集中的每个条目包含以下信息："
   ]
  },
  {
   "cell_type": "code",
   "execution_count": null,
   "metadata": {},
   "outputs": [],
   "source": [
    "print(f\"Length and type of first element: {len(bioactivities[0])}, {type(bioactivities[0])}\")\n",
    "bioactivities[0]"
   ]
  },
  {
   "attachments": {},
   "cell_type": "markdown",
   "metadata": {},
   "source": [
    "#### 从CHEMBL下载活性数据"
   ]
  },
  {
   "attachments": {},
   "cell_type": "markdown",
   "metadata": {},
   "source": [
    "最后，我们以 `pandas` 的 `DataFrame` 形式下载了 `QuerySet`。\n",
    "\n",
    "> **注意**：这一步不应该超过2分钟，如果超过了，请尝试从 \"从 ChEMBL 获取目标的生物活性数据\" 重新运行所有单元格，或者阅读下面的消息：\n",
    "\n",
    "<details>\n",
    "    \n",
    "<summary>加载数据的本地版本（如果您在获取数据时遇到任何问题）</summary>\n",
    "    \n",
    "如果您在查询 ChEMBL 数据库时遇到困难，我们也提供了您将在下面单元格构建的结果 dataframe。如果您想使用保存的版本，请使用以下代码来获取 `bioactivities_df`：\n",
    "\n",
    "```python\n",
    "# 将下面单元格的第一行替换为这行代码\n",
    "bioactivities_df = pd.read_csv(DATA / \"EGFR_bioactivities_CHEMBL27.csv.zip\", index_col=0)\n",
    "```\n",
    "\n",
    "</details>\n"
   ]
  },
  {
   "cell_type": "code",
   "execution_count": null,
   "metadata": {},
   "outputs": [],
   "source": [
    "bioactivities_df = pd.read_csv(DATA / \"EGFR_bioactivities_CHEMBL27.csv.zip\", index_col=0)\n",
    "\n",
    "# bioactivities_df = pd.DataFrame.from_dict(bioactivities)\n",
    "\n",
    "print(f\"DataFrame shape: {bioactivities_df.shape}\")\n",
    "bioactivities_df"
   ]
  },
  {
   "attachments": {},
   "cell_type": "markdown",
   "metadata": {},
   "source": [
    "注意，前两行描述了相同的活性数据，我们会在接下来的步骤中移除这些数据。"
   ]
  },
  {
   "cell_type": "code",
   "execution_count": null,
   "metadata": {},
   "outputs": [],
   "source": [
    "bioactivities_df[\"units\"].unique()"
   ]
  },
  {
   "cell_type": "code",
   "execution_count": null,
   "metadata": {},
   "outputs": [],
   "source": [
    "bioactivities_df.drop([\"units\", \"value\"], axis=1, inplace=True)\n",
    "bioactivities_df.head()"
   ]
  },
  {
   "attachments": {},
   "cell_type": "markdown",
   "metadata": {},
   "source": [
    "#### 预处理和筛选\n",
    "\n",
    "1. 将 `standard_value` 从 `object` 转为 `float`\n",
    "2. 删除缺失值\n",
    "3. 只保留 `standard_unit == nM`\n",
    "4. 删除重复数据\n",
    "5. 重新设置 `DataFrame` 索引\n",
    "6. 重命名列"
   ]
  },
  {
   "attachments": {},
   "cell_type": "markdown",
   "metadata": {},
   "source": [
    "**1. 将 `standard_value` 从 `object` 转为 `float`**\n"
   ]
  },
  {
   "cell_type": "code",
   "execution_count": null,
   "metadata": {},
   "outputs": [],
   "source": [
    "bioactivities_df.dtypes"
   ]
  },
  {
   "cell_type": "code",
   "execution_count": null,
   "metadata": {},
   "outputs": [],
   "source": [
    "bioactivities_df = bioactivities_df.astype({\"standard_value\": \"float64\"})\n",
    "bioactivities_df.dtypes"
   ]
  },
  {
   "attachments": {},
   "cell_type": "markdown",
   "metadata": {},
   "source": [
    "**2. 删除缺失值**\n",
    "\n",
    "使用 `inplace=True` 参数和`dropna`方法删除缺失值"
   ]
  },
  {
   "cell_type": "code",
   "execution_count": null,
   "metadata": {},
   "outputs": [],
   "source": [
    "bioactivities_df.dropna(axis=0, how=\"any\", inplace=True)\n",
    "print(f\"DataFrame shape: {bioactivities_df.shape}\")"
   ]
  },
  {
   "attachments": {},
   "cell_type": "markdown",
   "metadata": {},
   "source": [
    "**3. 只保留 `standard_unit == nM`** \n",
    "\n",
    "我们只保留`nM`单位,所以删除其他单位 "
   ]
  },
  {
   "cell_type": "code",
   "execution_count": null,
   "metadata": {},
   "outputs": [],
   "source": [
    "print(f\"Units in downloaded data: {bioactivities_df['standard_units'].unique()}\")\n",
    "print(\n",
    "    f\"Number of non-nM entries:\\\n",
    "    {bioactivities_df[bioactivities_df['standard_units'] != 'nM'].shape[0]}\"\n",
    ")"
   ]
  },
  {
   "cell_type": "code",
   "execution_count": null,
   "metadata": {},
   "outputs": [],
   "source": [
    "bioactivities_df = bioactivities_df[bioactivities_df[\"standard_units\"] == \"nM\"]\n",
    "print(f\"Units after filtering: {bioactivities_df['standard_units'].unique()}\")"
   ]
  },
  {
   "cell_type": "code",
   "execution_count": null,
   "metadata": {},
   "outputs": [],
   "source": [
    "print(f\"DataFrame shape: {bioactivities_df.shape}\")"
   ]
  },
  {
   "attachments": {},
   "cell_type": "markdown",
   "metadata": {},
   "source": [
    "**4. 删除重复数据**\n",
    "\n",
    "有时相同的小分子 (`molecule_chembl_id`) 经常被测试多次，所以我们只保留在表格中第一次出现的数据。"
   ]
  },
  {
   "cell_type": "code",
   "execution_count": null,
   "metadata": {},
   "outputs": [],
   "source": [
    "bioactivities_df.drop_duplicates(\"molecule_chembl_id\", keep=\"first\", inplace=True)\n",
    "print(f\"DataFrame shape: {bioactivities_df.shape}\")"
   ]
  },
  {
   "attachments": {},
   "cell_type": "markdown",
   "metadata": {},
   "source": [
    "**5. 重新设置 `DataFrame` 索引**\n",
    "\n",
    "由于我们删除了一些行，但我们稍后想要连续地迭代索引，我们重置索引以保持连续性。"
   ]
  },
  {
   "cell_type": "code",
   "execution_count": null,
   "metadata": {},
   "outputs": [],
   "source": [
    "bioactivities_df.reset_index(drop=True, inplace=True)\n",
    "bioactivities_df.head()"
   ]
  },
  {
   "attachments": {},
   "cell_type": "markdown",
   "metadata": {},
   "source": [
    "**6. 重命名列**"
   ]
  },
  {
   "cell_type": "code",
   "execution_count": null,
   "metadata": {},
   "outputs": [],
   "source": [
    "bioactivities_df.rename(\n",
    "    columns={\"standard_value\": \"IC50\", \"standard_units\": \"units\"}, inplace=True\n",
    ")\n",
    "bioactivities_df.head()"
   ]
  },
  {
   "cell_type": "code",
   "execution_count": null,
   "metadata": {},
   "outputs": [],
   "source": [
    "print(f\"DataFrame shape: {bioactivities_df.shape}\")"
   ]
  },
  {
   "attachments": {},
   "cell_type": "markdown",
   "metadata": {},
   "source": [
    "### 获取化合物数据\n",
    "\n",
    "我们已经有了一个`DataFrame`，其中包含了所有针对EGFR测试的分子（以及相应的测量生物活性）。\n",
    "\n",
    "现在，我们想要获取与各自生物活性ChEMBL ID相关联的分子结构。"
   ]
  },
  {
   "attachments": {},
   "cell_type": "markdown",
   "metadata": {},
   "source": [
    "#### 从ChEMBL获取化合物数据\n",
    "\n",
    "让我们看看那些我们定义了生物活性数据的ChEMBL中的化合物：获取与筛选的生物活性数据相关联的化合物的ChEMBL ID和结构。\n"
   ]
  },
  {
   "cell_type": "code",
   "execution_count": null,
   "metadata": {},
   "outputs": [],
   "source": [
    "compounds_provider = compounds_api.filter(\n",
    "    molecule_chembl_id__in=list(bioactivities_df[\"molecule_chembl_id\"])\n",
    ").only(\"molecule_chembl_id\", \"molecule_structures\")"
   ]
  },
  {
   "attachments": {},
   "cell_type": "markdown",
   "metadata": {},
   "source": [
    "#### 从ChEMBL下载化合物数据\n",
    "\n",
    "我们想要将`QuerySet`对象导出到`pandas.DataFrame`。考虑到数据量，**这可能需要一些时间。** 因此，我们首先将通过`tqdm`获取记录列表，这样我们就可以有一个漂亮的进度条和一些预计完成时间。然后，我们可以将化合物列表传递给DataFrame。\n"
   ]
  },
  {
   "cell_type": "code",
   "execution_count": null,
   "metadata": {},
   "outputs": [],
   "source": [
    "compounds = list(tqdm(compounds_provider))"
   ]
  },
  {
   "cell_type": "code",
   "execution_count": null,
   "metadata": {},
   "outputs": [],
   "source": [
    "compounds_df = pd.DataFrame.from_records(\n",
    "    compounds,\n",
    ")\n",
    "print(f\"DataFrame shape: {compounds_df.shape}\")"
   ]
  },
  {
   "cell_type": "code",
   "execution_count": null,
   "metadata": {},
   "outputs": [],
   "source": [
    "compounds_df.head()"
   ]
  },
  {
   "attachments": {},
   "cell_type": "markdown",
   "metadata": {},
   "source": [
    "#### 预处理和过滤化合物数据\n",
    "\n",
    "1. 删除有缺失条目的记录\n",
    "2. 通过分子_chembl_id删除重复的分子\n",
    "3. 获取具有标准SMILES的分子"
   ]
  },
  {
   "attachments": {},
   "cell_type": "markdown",
   "metadata": {},
   "source": [
    "**1. 删除有缺失条目的记录**"
   ]
  },
  {
   "cell_type": "code",
   "execution_count": null,
   "metadata": {},
   "outputs": [],
   "source": [
    "compounds_df.dropna(axis=0, how=\"any\", inplace=True)\n",
    "print(f\"DataFrame shape: {compounds_df.shape}\")"
   ]
  },
  {
   "attachments": {},
   "cell_type": "markdown",
   "metadata": {},
   "source": [
    "**2. 删除重复的分子**"
   ]
  },
  {
   "cell_type": "code",
   "execution_count": null,
   "metadata": {},
   "outputs": [],
   "source": [
    "compounds_df.drop_duplicates(\"molecule_chembl_id\", keep=\"first\", inplace=True)\n",
    "print(f\"DataFrame shape: {compounds_df.shape}\")"
   ]
  },
  {
   "attachments": {},
   "cell_type": "markdown",
   "metadata": {},
   "source": [
    "**3. 获取具有标准SMILES的分子**\n",
    "\n",
    "到目前为止，我们有多种不同的分子结构表示。我们只想保留标准SMILES表示。"
   ]
  },
  {
   "cell_type": "code",
   "execution_count": null,
   "metadata": {},
   "outputs": [],
   "source": [
    "compounds_df.iloc[0].molecule_structures.keys()"
   ]
  },
  {
   "cell_type": "code",
   "execution_count": null,
   "metadata": {},
   "outputs": [],
   "source": [
    "canonical_smiles = []\n",
    "\n",
    "for i, compounds in compounds_df.iterrows():\n",
    "    try:\n",
    "        canonical_smiles.append(compounds[\"molecule_structures\"][\"canonical_smiles\"])\n",
    "    except KeyError:\n",
    "        canonical_smiles.append(None)\n",
    "\n",
    "compounds_df[\"smiles\"] = canonical_smiles\n",
    "compounds_df.drop(\"molecule_structures\", axis=1, inplace=True)\n",
    "print(f\"DataFrame shape: {compounds_df.shape}\")"
   ]
  },
  {
   "attachments": {},
   "cell_type": "markdown",
   "metadata": {},
   "source": [
    "再次检查：移除所有没有标准SMILES字符串的分子。"
   ]
  },
  {
   "cell_type": "code",
   "execution_count": null,
   "metadata": {},
   "outputs": [],
   "source": [
    "compounds_df.dropna(axis=0, how=\"any\", inplace=True)\n",
    "print(f\"DataFrame shape: {compounds_df.shape}\")"
   ]
  },
  {
   "attachments": {},
   "cell_type": "markdown",
   "metadata": {},
   "source": [
    "### 输出（生物活性-化合物）数据\n",
    "**化合物和生物活性数据的总结**\n"
   ]
  },
  {
   "cell_type": "code",
   "execution_count": null,
   "metadata": {},
   "outputs": [],
   "source": [
    "print(f\"Bioactivities filtered: {bioactivities_df.shape[0]}\")\n",
    "bioactivities_df.columns"
   ]
  },
  {
   "cell_type": "code",
   "execution_count": null,
   "metadata": {},
   "outputs": [],
   "source": [
    "print(f\"Compounds filtered: {compounds_df.shape[0]}\")\n",
    "compounds_df.columns"
   ]
  },
  {
   "attachments": {},
   "cell_type": "markdown",
   "metadata": {},
   "source": [
    "#### 合并数据集\n",
    "\n",
    "根据化合物的ChEMBL ID (`molecule_chembl_id`)，将`bioactivities_df`和`compounds_df`中的值合并到`output_df`中，保留以下列：\n",
    "\n",
    "* ChEMBL ID: `molecule_chembl_id`\n",
    "* SMILES: `smiles`\n",
    "* 单位: `units`\n",
    "* IC50: `IC50`\n"
   ]
  },
  {
   "cell_type": "code",
   "execution_count": null,
   "metadata": {},
   "outputs": [],
   "source": [
    "# Merge DataFrames\n",
    "output_df = pd.merge(\n",
    "    bioactivities_df[[\"molecule_chembl_id\", \"IC50\", \"units\"]],\n",
    "    compounds_df,\n",
    "    on=\"molecule_chembl_id\",\n",
    ")\n",
    "\n",
    "# Reset row indices\n",
    "output_df.reset_index(drop=True, inplace=True)\n",
    "\n",
    "print(f\"Dataset with {output_df.shape[0]} entries.\")"
   ]
  },
  {
   "cell_type": "code",
   "execution_count": null,
   "metadata": {},
   "outputs": [],
   "source": [
    "output_df.dtypes"
   ]
  },
  {
   "cell_type": "code",
   "execution_count": null,
   "metadata": {},
   "outputs": [],
   "source": [
    "output_df.head(10)"
   ]
  },
  {
   "attachments": {},
   "cell_type": "markdown",
   "metadata": {},
   "source": [
    "#### 添加 pIC50 值"
   ]
  },
  {
   "attachments": {},
   "cell_type": "markdown",
   "metadata": {},
   "source": [
    "可以看到，低IC50值很难读（值分布在多个尺度上），这就是为什么我们将IC50值转换为pIC50。"
   ]
  },
  {
   "cell_type": "code",
   "execution_count": null,
   "metadata": {},
   "outputs": [],
   "source": [
    "def convert_ic50_to_pic50(IC50_value):\n",
    "    pIC50_value = 9 - math.log10(IC50_value)\n",
    "    return pIC50_value"
   ]
  },
  {
   "cell_type": "code",
   "execution_count": null,
   "metadata": {},
   "outputs": [],
   "source": [
    "# 对化合物的DataFrame的每一行应用转换\n",
    "output_df[\"pIC50\"] = output_df.apply(lambda x: convert_ic50_to_pic50(x.IC50), axis=1)"
   ]
  },
  {
   "cell_type": "code",
   "execution_count": null,
   "metadata": {},
   "outputs": [],
   "source": [
    "output_df.head()"
   ]
  },
  {
   "attachments": {},
   "cell_type": "markdown",
   "metadata": {},
   "source": [
    "#### 绘制化合物数据\n",
    "\n",
    "让我们看看我们收集的数据集。\n",
    "\n",
    "首先，我们绘制pIC50值的分布情况。\n"
   ]
  },
  {
   "cell_type": "code",
   "execution_count": null,
   "metadata": {
    "tags": [
     "nbsphinx-thumbnail"
    ]
   },
   "outputs": [],
   "source": [
    "output_df.hist(column=\"pIC50\")"
   ]
  },
  {
   "attachments": {},
   "cell_type": "markdown",
   "metadata": {},
   "source": [
    "在接下来的步骤中，我们将向`DataFrame`添加一列用于RDKit分子对象，并查看具有最高pIC50值的分子结构。\n"
   ]
  },
  {
   "cell_type": "code",
   "execution_count": null,
   "metadata": {},
   "outputs": [],
   "source": [
    "# 添加分子列\n",
    "PandasTools.AddMoleculeColumnToFrame(output_df, smilesCol=\"smiles\")"
   ]
  },
  {
   "cell_type": "code",
   "execution_count": null,
   "metadata": {},
   "outputs": [],
   "source": [
    "#按 pIC50值排列小分子\n",
    "output_df.sort_values(by=\"pIC50\", ascending=False, inplace=True)\n",
    "\n",
    "# 重设索引\n",
    "output_df.reset_index(drop=True, inplace=True)"
   ]
  },
  {
   "attachments": {},
   "cell_type": "markdown",
   "metadata": {},
   "source": [
    "展示三个活性最高的分子，即具有最高pIC50值的分子。"
   ]
  },
  {
   "cell_type": "code",
   "execution_count": null,
   "metadata": {},
   "outputs": [],
   "source": [
    "output_df.drop(\"smiles\", axis=1).head(3)"
   ]
  },
  {
   "cell_type": "code",
   "execution_count": null,
   "metadata": {},
   "outputs": [],
   "source": [
    "# 准备保存数据集：删除 ROMol 列\n",
    "output_df = output_df.drop(\"ROMol\", axis=1)\n",
    "print(f\"DataFrame shape: {output_df.shape}\")"
   ]
  },
  {
   "attachments": {},
   "cell_type": "markdown",
   "metadata": {},
   "source": [
    "#### 将输出数据冻结到 ChEMBL 27\n",
    "\n",
    "这是一个技术步骤：通常，我们会使用我们刚刚创建的数据集（最新数据集）继续工作。\n",
    "\n",
    "然而，在 TeachOpenCADD 平台上，我们倾向于将数据集冻结到某个特定的 ChEMBL 版本（例如 [ChEMBL 27](http://doi.org/10.6019/CHEMBL.database.27)），以便本教程和其他教程在未来不会发生变化（这有助于我们维护教程）。\n"
   ]
  },
  {
   "attachments": {},
   "cell_type": "markdown",
   "metadata": {},
   "source": [
    "<div class=\"alert alert-block alert-info\">\n",
    "\n",
    "<b>Note:</b> 如果您希望在最新数据集上运行这个笔记本，或者如果您想将其用于另一个目标，请注释掉下面的单元格。\n",
    "\n",
    "</div>"
   ]
  },
  {
   "cell_type": "code",
   "execution_count": null,
   "metadata": {},
   "outputs": [],
   "source": [
    "output_df = pd.read_csv(\n",
    "    DATA / \"EGFR_compounds_ea055ef.csv\", index_col=0, float_precision=\"round_trip\"\n",
    ")\n",
    "output_df.head()"
   ]
  },
  {
   "cell_type": "code",
   "execution_count": null,
   "metadata": {},
   "outputs": [],
   "source": [
    "print(f\"DataFrame shape: {output_df.shape}\")\n",
    "# NBVAL_CHECK_OUTPUT"
   ]
  },
  {
   "attachments": {},
   "cell_type": "markdown",
   "metadata": {
    "tags": []
   },
   "source": [
    "#### 将输出数据写入文件\n",
    "\n",
    "我们希望在接下来的教程中使用这个生物活性-化合物数据集，因此我们将数据保存为 `csv` 文件。\n",
    "请注意，在保存数据时，建议删除分子列（该列仅包含分子的图像）。\n"
   ]
  },
  {
   "cell_type": "code",
   "execution_count": null,
   "metadata": {
    "scrolled": true
   },
   "outputs": [],
   "source": [
    "output_df.to_csv(DATA / \"EGFR_compounds.csv\")\n",
    "output_df.head()"
   ]
  },
  {
   "cell_type": "code",
   "execution_count": null,
   "metadata": {},
   "outputs": [],
   "source": [
    "print(f\"DataFrame shape: {output_df.shape}\")\n",
    "# NBVAL_CHECK_OUTPUT"
   ]
  },
  {
   "attachments": {},
   "cell_type": "markdown",
   "metadata": {},
   "source": [
    "## 讨论"
   ]
  },
  {
   "attachments": {},
   "cell_type": "markdown",
   "metadata": {},
   "source": [
    "在本教程中，我们从 ChEMBL 数据库中收集了我们感兴趣目标的生物活性数据。\n",
    "我们对数据集进行了筛选，只包含具有测量 IC50 生物活性值的分子。\n",
    "\n",
    "请注意，ChEMBL 数据来自不同的来源。化合物数据是由世界各地的不同实验室和人员生成的。因此，在使用这个数据集进行预测时，我们必须谨慎。在解释结果以及确定我们对预测的信心程度时，始终重要的是要考虑数据的来源以及数据生产测定的一致性。\n",
    "\n",
    "在接下来的教程中，我们将通过 Lipinski 的五规则和不想要的子结构来过滤我们获得的数据。另一个重要步骤是对分子数据进行*清洗*。由于这在我们任何教程中都没有展示（尚未），我们希望引用 [Standardiser 库](https://github.com/flatkinson/standardiser) 或 [MolVS](https://molvs.readthedocs.io/en/latest/) 作为这项任务的有用工具。\n"
   ]
  },
  {
   "attachments": {},
   "cell_type": "markdown",
   "metadata": {},
   "source": [
    "## 课后思考"
   ]
  },
  {
   "attachments": {},
   "cell_type": "markdown",
   "metadata": {},
   "source": [
    "* 在这个教程中，我们从 ChEMBL 下载了分子和生物活性数据。ChEMBL 数据库还有什么其他用途？\n",
    "* IC50 和 EC50 之间有什么区别？\n",
    "* 我们可以如何使用从 ChEMBL 提取的数据？"
   ]
  }
 ],
 "metadata": {
  "kernelspec": {
   "display_name": "Python 3 (ipykernel)",
   "language": "python",
   "name": "python3"
  },
  "language_info": {
   "codemirror_mode": {
    "name": "ipython",
    "version": 3
   },
   "file_extension": ".py",
   "mimetype": "text/x-python",
   "name": "python",
   "nbconvert_exporter": "python",
   "pygments_lexer": "ipython3",
   "version": "3.8.15"
  },
  "toc-autonumbering": true,
  "toc-showmarkdowntxt": false,
  "toc-showtags": false,
  "widgets": {
   "application/vnd.jupyter.widget-state+json": {
    "state": {},
    "version_major": 2,
    "version_minor": 0
   }
  }
 },
 "nbformat": 4,
 "nbformat_minor": 4
}
