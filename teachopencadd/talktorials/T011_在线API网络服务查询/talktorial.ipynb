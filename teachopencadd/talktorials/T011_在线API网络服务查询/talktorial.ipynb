{
 "cells": [
  {
   "cell_type": "markdown",
   "metadata": {},
   "source": [
    "# T011 ·查询在线 API Web 服务\n",
    "\n",
    "**注意：** 此讲座是 TeachOpenCADD 的一部分，该平台旨在教授特定领域的技能并提供管道模板作为研究项目的起点。\n",
    "\n",
    "作者:\n",
    "\n",
    "- Jaime Rodríguez-Guerra, 2020-2021, [Volkamer lab, Charité](https://volkamerlab.org/)\n",
    "- Dominique Sydow, 2021, [Volkamer lab, Charité](https://volkamerlab.org/)\n",
    "- David Schaller, 2021, [Volkamer lab, Charité](https://volkamerlab.org/)"
   ]
  },
  {
   "cell_type": "markdown",
   "metadata": {},
   "source": [
    "## 本次演讲的目的\n",
    "\n",
    "在本笔记本中，您将学习如何在药物设计的上下文中以编程方式使用 Python 中的在线 Web 服务。在本次演讲结束时，您将熟悉 REST 服务和 Web Scraping。"
   ]
  },
  {
   "cell_type": "markdown",
   "metadata": {},
   "source": [
    "### 理论内容\n",
    "\n",
    "* 从服务器端角度访问数据"
   ]
  },
  {
   "cell_type": "markdown",
   "metadata": {},
   "source": [
    "### 实用内容\n",
    "\n",
    "* 下载静态文件\n",
    "* 访问动态生成的内容\n",
    "* 编程接口\n",
    "* 文档解析\n",
    "* 浏览器远程控制"
   ]
  },
  {
   "cell_type": "markdown",
   "metadata": {},
   "source": [
    "### 参考资料\n",
    "\n",
    "本指南非常实用，为了清晰起见，省略了一些技术定义。但是，您还应该处理一些基本术语，以充分了解幕后发生的事情。\n",
    "\n",
    "* [客户端-服务器模式]（https://en.wikipedia.org/wiki/Client%E2%80%93server_model）\n",
    "* [Web API]（https://en.wikipedia.org/wiki/Web_API）\n",
    "* [查询字符串]（https://en.wikipedia.org/wiki/Query_string）\n",
    "* [REST]（https://en.wikipedia.org/wiki/Representational_state_transfer）\n",
    "* [JSON]（https://en.wikipedia.org/wiki/JSON）\n",
    "* [Swagger / OpenAPI]（https://en.wikipedia.org/wiki/Swagger_（软件））\n",
    "* [HTTP 概述]（https://developer.mozilla.org/en-US/docs/Web/HTTP/Overview）"
   ]
  },
  {
   "cell_type": "markdown",
   "metadata": {},
   "source": [
    "## 理论"
   ]
  },
  {
   "cell_type": "markdown",
   "metadata": {},
   "source": [
    "Internet 是交换数据的已连接计算机的集合。在某种程度上，您基本上是使用某些参数查询计算机（服务器）以检索特定数据。该数据将是：\n",
    "\n",
    "-**A**。立即提供，因为服务器只是一个文件存储库。例如，您可以从他们的服务器 [下载 ChEMBL 数据库转储]（ftp://ftp.ebi.ac.uk/pub/databases/chembl/ChEMBLdb/latest/）。\n",
    "- **B**。从数据库中检索并以特定方式格式化。您在浏览器上看到的结果是：\n",
    "    - **B1**。在服务器上进行预处理，例如，当您访问任何 [维基百科中的文章]（https://en.wikipedia.org/wiki/Drug_design） 时看到的 HTML 页面。\n",
    "    - **B2**。当您使用网站时在客户端（您的浏览器）上动态生成，例如 Twitter、Facebook 或任何现代_web app_。\n",
    "- **C**.通过在服务器端执行一个或多个程序来计算，例如使用 [Protoss]（https://proteins.plus/help/tutorial） 估计蛋白质-配体复合物的质子化状态。\n",
    "\n",
    "> 在某种程度上，配置 **C** 是 **B1** 的一种特殊类型。您只是替换了在服务器上运行的任务类型：数据库查询和 HTML 呈现 _vs._ 计算，用于处理查询并返回以特定于域的方式格式化的数据。\n",
    "对在线服务进行分类的另一种方法是按返回数据的 _format_ 进行分类。您在浏览器上看到的大多数页面都使用 HTML，通常侧重于以人类可读的方式呈现数据。但是，某些服务器可能会以 _machine_ 可读的方式构建该数据。这些数据可以以可靠的方式处理，因为它使用一组一致的规则进行格式化，这些规则可以很容易地在程序中编码。此类程序通常称为 _parsers_。HTML 可以以这样一种方式进行标记，以便可靠地获取数据，但它的设计并未考虑该目的。因此，我们通常更喜欢使用提供机器可读格式的服务，例如 JSON、CSV 或 XML。\n",
    "在实践中，两种数据表示方式（应该）和谐共存。现代 Web 架构努力将数据检索任务与最终用户演示分开。一种流行的实现方式包括使用编程终端节点，该终端节点返回机器可读的 JSON 数据，然后由面向用户的 Web 应用程序使用。后者在服务器 -option B1**-或用户的浏览器 -option B2** 上呈现 HTML。遗憾的是，与面向用户的应用程序不同，编程端点 （API） 不能保证公开可用，有时仅限于服务器端的内部使用。\n",
    "\n",
    "在以下部分中，我们将讨论如何使用 Python 和一些库充分利用每种类型的在线服务！"
   ]
  },
  {
   "cell_type": "markdown",
   "metadata": {},
   "source": [
    "## 实用"
   ]
  },
  {
   "cell_type": "code",
   "execution_count": 1,
   "metadata": {
    "tags": []
   },
   "outputs": [],
   "source": [
    "from pathlib import Path\n",
    "\n",
    "HERE = Path(_dh[-1])\n",
    "DATA = HERE / \"data\"\n",
    "TMPDATA = DATA / \"_tmp\"  # this dir is gitignored\n",
    "TMPDATA.mkdir(parents=True, exist_ok=True)"
   ]
  },
  {
   "attachments": {
    "f87e4f54-5504-49ca-a24a-f903aab4fa1e.png": {
     "image/png": "[encoded data removed]"
    }
   },
   "cell_type": "markdown",
   "metadata": {},
   "source": [
    "### 下载静态文件\n",
    "\n",
    "在这种情况下，Web 服务器托管您将立即下载和使用的文件。您需要做的就是 _query_ 服务器以获取正确的地址或 _URL_（通用资源位置）。当您浏览 Internet 时，您一直在这样做，您也可以使用 Python 来执行此操作！\n",
    "\n",
    "例如，让我们从 GitHub 获取这个 [激酶相关 CSV 数据集]（https://github.com/openkinome/kinodata/blob/master/data/KinHubKinaseList.csv），其中包含激酶及其标识符的列表。\n",
    "\n",
    "> 提示：每当您想下载 GitHub 中托管的文件时，请使用“Raw”按钮获取可下载的 URL！\n",
    "> \n",
    "> ![image.png](attachment:f87e4f54-5504-49ca-a24a-f903aab4fa1e.png)\n",
    "\n",
    "虽然 Python 提供了一个处理 HTTP 查询的库（'urllib'），但人们通常更喜欢使用第三方 'requests'，因为用法要简单得多。"
   ]
  },
  {
   "cell_type": "code",
   "execution_count": 2,
   "metadata": {
    "tags": []
   },
   "outputs": [
    {
     "data": {
      "text/plain": [
       "<Response [200]>"
      ]
     },
     "execution_count": 2,
     "metadata": {},
     "output_type": "execute_result"
    }
   ],
   "source": [
    "import requests\n",
    "\n",
    "url = \"https://raw.githubusercontent.com/openkinome/kinodata/master/data/KinHubKinaseList.csv\"\n",
    "response = requests.get(url)\n",
    "response.raise_for_status()\n",
    "response\n",
    "\n",
    "# NBVAL_CHECK_OUTPUT"
   ]
  },
  {
   "cell_type": "markdown",
   "metadata": {},
   "source": [
    "当您使用 'requests.get（...）' 会获得一个 'Response' 对象。这不是您要下载的文件，而是一个包装 HTTP 查询和服务器给您的 _response_ 的对象。在我们检查内容之前，我们总是调用 '.raise_for_status（）'，如果服务器告诉我们请求无法完成，它将引发异常。服务器是怎么做到的呢？带有[HTTP 状态代码](https://en.wikipedia.org/wiki/List_of_HTTP_status_codes)的 3 位数字。有几种，但最常见的是：\n",
    "* 200：一切都好！\n",
    "* 404：找不到文件。\n",
    "* 500：服务器错误。\n",
    "\n",
    "如果你的响应没有获得 200 代码，'.raise_for_status（）' 将会抱怨。因此，最好在 _every_ 查询之后调用它！\n",
    "\n",
    "请看这个错误 URL 的例子，它包含一个错误：那里没有 **TXT** 文件，只有一个 **CSV**。"
   ]
  },
  {
   "cell_type": "code",
   "execution_count": 3,
   "metadata": {
    "tags": []
   },
   "outputs": [
    {
     "ename": "HTTPError",
     "evalue": "404 Client Error: Not Found for url: https://raw.githubusercontent.com/openkinome/kinodata/master/data/KinHubKinaseList.txt",
     "output_type": "error",
     "traceback": [
      "\u001b[0;31m---------------------------------------------------------------------------\u001b[0m",
      "\u001b[0;31mHTTPError\u001b[0m                                 Traceback (most recent call last)",
      "Cell \u001b[0;32mIn[3], line 4\u001b[0m\n\u001b[1;32m      2\u001b[0m bad_url \u001b[38;5;241m=\u001b[39m \u001b[38;5;124m\"\u001b[39m\u001b[38;5;124mhttps://raw.githubusercontent.com/openkinome/kinodata/master/data/KinHubKinaseList.txt\u001b[39m\u001b[38;5;124m\"\u001b[39m\n\u001b[1;32m      3\u001b[0m bad_response \u001b[38;5;241m=\u001b[39m requests\u001b[38;5;241m.\u001b[39mget(bad_url)\n\u001b[0;32m----> 4\u001b[0m \u001b[43mbad_response\u001b[49m\u001b[38;5;241;43m.\u001b[39;49m\u001b[43mraise_for_status\u001b[49m\u001b[43m(\u001b[49m\u001b[43m)\u001b[49m\n\u001b[1;32m      5\u001b[0m bad_response\n",
      "File \u001b[0;32m~/.miniconda3/envs/teachopencadd/lib/python3.9/site-packages/requests/models.py:1021\u001b[0m, in \u001b[0;36mResponse.raise_for_status\u001b[0;34m(self)\u001b[0m\n\u001b[1;32m   1016\u001b[0m     http_error_msg \u001b[38;5;241m=\u001b[39m (\n\u001b[1;32m   1017\u001b[0m         \u001b[38;5;124mf\u001b[39m\u001b[38;5;124m\"\u001b[39m\u001b[38;5;132;01m{\u001b[39;00m\u001b[38;5;28mself\u001b[39m\u001b[38;5;241m.\u001b[39mstatus_code\u001b[38;5;132;01m}\u001b[39;00m\u001b[38;5;124m Server Error: \u001b[39m\u001b[38;5;132;01m{\u001b[39;00mreason\u001b[38;5;132;01m}\u001b[39;00m\u001b[38;5;124m for url: \u001b[39m\u001b[38;5;132;01m{\u001b[39;00m\u001b[38;5;28mself\u001b[39m\u001b[38;5;241m.\u001b[39murl\u001b[38;5;132;01m}\u001b[39;00m\u001b[38;5;124m\"\u001b[39m\n\u001b[1;32m   1018\u001b[0m     )\n\u001b[1;32m   1020\u001b[0m \u001b[38;5;28;01mif\u001b[39;00m http_error_msg:\n\u001b[0;32m-> 1021\u001b[0m     \u001b[38;5;28;01mraise\u001b[39;00m HTTPError(http_error_msg, response\u001b[38;5;241m=\u001b[39m\u001b[38;5;28mself\u001b[39m)\n",
      "\u001b[0;31mHTTPError\u001b[0m: 404 Client Error: Not Found for url: https://raw.githubusercontent.com/openkinome/kinodata/master/data/KinHubKinaseList.txt"
     ]
    }
   ],
   "source": [
    "# NBVAL_RAISES_EXCEPTION\n",
    "bad_url = \"https://raw.githubusercontent.com/openkinome/kinodata/master/data/KinHubKinaseList.txt\"\n",
    "bad_response = requests.get(bad_url)\n",
    "bad_response.raise_for_status()\n",
    "bad_response"
   ]
  },
  {
   "cell_type": "markdown",
   "metadata": {},
   "source": [
    "好，现在让我们来看看 CSV 文件的内容吧！根据您要查找的内容，您将需要以下属性之一：\n",
    "\n",
    "* 'response.content'：服务器返回的 _bytes_。\n",
    "* 'response.text'：文件的内容，如果可能，以字符串形式显示。\n",
    "* 'response.json（）'：如果服务器返回 JSON 数据（稍后会详细介绍），此方法将解析它并返回相应的字典。\n",
    "\n",
    "您应该使用哪一个？如果要在 Notebook 输出中显示一些 _text_，请选择 '.text'。所有涉及二进制文件（图像、档案、PDF 等）或下载到磁盘的内容都应该使用 '.content'。\n",
    "\n",
    "由于这是一个 CSV 文件，我们知道这是一个纯文本文件，因此我们可以对它使用通常的 Python 方法！让我们打印前 10 行："
   ]
  },
  {
   "cell_type": "code",
   "execution_count": 4,
   "metadata": {
    "tags": []
   },
   "outputs": [
    {
     "name": "stdout",
     "output_type": "stream",
     "text": [
      "xName,Manning Name,HGNC Name,Kinase Name,Group,Family,SubFamily,UniprotID\n",
      "ABL1,ABL,ABL1,Tyrosine-protein kinase ABL1,TK,Abl,,P00519\n",
      "ACK,ACK,TNK2,Activated CDC42 kinase 1,TK,Ack,,Q07912\n",
      "ACTR2,ACTR2,ACVR2A,Activin receptor type-2A,TKL,STKR,STKR2,P27037\n",
      "ACTR2B,ACTR2B,ACVR2B,Activin receptor type-2B,TKL,STKR,STKR2,Q13705\n",
      "ADCK4,ADCK4,ADCK4,Uncharacterized aarF domain-containing protein kinase 4,Atypical,ABC1,ABC1-A,Q96D53\n",
      "Trb1,Trb1,TRIB1,Tribbles homolog 1,CAMK,Trbl,,Q96RU8\n",
      "BRSK2,BRSK2,BRSK2,Serine/threonine-protein kinase BRSK2,CAMK,CAMKL,BRSK,Q8IWQ3\n",
      "Wnk2,Wnk2,WNK2,Serine/threonine-protein kinase WNK2,Other,WNK,,Q9Y3S1\n",
      "AKT1,AKT1,AKT1,RAC-alpha serine/threonine-protein kinase,AGC,Akt,,P31749\n"
     ]
    }
   ],
   "source": [
    "print(*response.text.splitlines()[:10], sep=\"\\n\")"
   ]
  },
  {
   "cell_type": "markdown",
   "metadata": {},
   "source": [
    "当然，您可以使用通常的 Python 构造将其保存到磁盘。由于我们正在 _downloading_，因此建议使用原始字节内容，而不是文本版本！这意味着你应该使用 'response.content' 并以字节模式（'wb' 中的 'b'）打开你的文件："
   ]
  },
  {
   "cell_type": "code",
   "execution_count": 5,
   "metadata": {
    "tags": []
   },
   "outputs": [],
   "source": [
    "with open(TMPDATA / \"kinhub.csv\", \"wb\") as f:\n",
    "    f.write(response.content)"
   ]
  },
  {
   "cell_type": "markdown",
   "metadata": {},
   "source": [
    "再次打开它以检查我们编写了一些内容。"
   ]
  },
  {
   "cell_type": "code",
   "execution_count": 6,
   "metadata": {
    "tags": []
   },
   "outputs": [
    {
     "name": "stdout",
     "output_type": "stream",
     "text": [
      "xName,Manning Name,HGNC Name,Kinase Name,Group,Family,SubFamily,UniprotID\n",
      "ABL1,ABL,ABL1,Tyrosine-protein kinase ABL1,TK,Abl,,P00519\n",
      "ACK,ACK,TNK2,Activated CDC42 kinase 1,TK,Ack,,Q07912\n",
      "ACTR2,ACTR2,ACVR2A,Activin receptor type-2A,TKL,STKR,STKR2,P27037\n",
      "ACTR2B,ACTR2B,ACVR2B,Activin receptor type-2B,TKL,STKR,STKR2,Q13705\n"
     ]
    }
   ],
   "source": [
    "# We need the encoding=\"utf-8-sig\" to ensure correct encoding\n",
    "# under all platforms\n",
    "with open(TMPDATA / \"kinhub.csv\", encoding=\"utf-8-sig\") as f:\n",
    "    # Zip will stop iterating with the shortest iterator\n",
    "    # passing `range(5)` allow us to just get five lines ;)\n",
    "    for _, line in zip(range(5), f):\n",
    "        print(line.rstrip())\n",
    "\n",
    "# NBVAL_CHECK_OUTPUT"
   ]
  },
  {
   "cell_type": "markdown",
   "metadata": {},
   "source": [
    " **提示**：如果您只想下载一个 CSV 文件以使用 Pandas 打开它，那么只需将原始 URL 传递给“pandas.read_csv”。它将为您下载文件！"
   ]
  },
  {
   "cell_type": "code",
   "execution_count": 7,
   "metadata": {
    "tags": []
   },
   "outputs": [
    {
     "data": {
      "text/html": [
       "<div>\n",
       "<style scoped>\n",
       "    .dataframe tbody tr th:only-of-type {\n",
       "        vertical-align: middle;\n",
       "    }\n",
       "\n",
       "    .dataframe tbody tr th {\n",
       "        vertical-align: top;\n",
       "    }\n",
       "\n",
       "    .dataframe thead th {\n",
       "        text-align: right;\n",
       "    }\n",
       "</style>\n",
       "<table border=\"1\" class=\"dataframe\">\n",
       "  <thead>\n",
       "    <tr style=\"text-align: right;\">\n",
       "      <th></th>\n",
       "      <th>xName</th>\n",
       "      <th>Manning Name</th>\n",
       "      <th>HGNC Name</th>\n",
       "      <th>Kinase Name</th>\n",
       "      <th>Group</th>\n",
       "      <th>Family</th>\n",
       "      <th>SubFamily</th>\n",
       "      <th>UniprotID</th>\n",
       "    </tr>\n",
       "  </thead>\n",
       "  <tbody>\n",
       "    <tr>\n",
       "      <th>0</th>\n",
       "      <td>ABL1</td>\n",
       "      <td>ABL</td>\n",
       "      <td>ABL1</td>\n",
       "      <td>Tyrosine-protein kinase ABL1</td>\n",
       "      <td>TK</td>\n",
       "      <td>Abl</td>\n",
       "      <td>NaN</td>\n",
       "      <td>P00519</td>\n",
       "    </tr>\n",
       "    <tr>\n",
       "      <th>1</th>\n",
       "      <td>ACK</td>\n",
       "      <td>ACK</td>\n",
       "      <td>TNK2</td>\n",
       "      <td>Activated CDC42 kinase 1</td>\n",
       "      <td>TK</td>\n",
       "      <td>Ack</td>\n",
       "      <td>NaN</td>\n",
       "      <td>Q07912</td>\n",
       "    </tr>\n",
       "    <tr>\n",
       "      <th>2</th>\n",
       "      <td>ACTR2</td>\n",
       "      <td>ACTR2</td>\n",
       "      <td>ACVR2A</td>\n",
       "      <td>Activin receptor type-2A</td>\n",
       "      <td>TKL</td>\n",
       "      <td>STKR</td>\n",
       "      <td>STKR2</td>\n",
       "      <td>P27037</td>\n",
       "    </tr>\n",
       "    <tr>\n",
       "      <th>3</th>\n",
       "      <td>ACTR2B</td>\n",
       "      <td>ACTR2B</td>\n",
       "      <td>ACVR2B</td>\n",
       "      <td>Activin receptor type-2B</td>\n",
       "      <td>TKL</td>\n",
       "      <td>STKR</td>\n",
       "      <td>STKR2</td>\n",
       "      <td>Q13705</td>\n",
       "    </tr>\n",
       "    <tr>\n",
       "      <th>4</th>\n",
       "      <td>ADCK4</td>\n",
       "      <td>ADCK4</td>\n",
       "      <td>ADCK4</td>\n",
       "      <td>Uncharacterized aarF domain-containing protein...</td>\n",
       "      <td>Atypical</td>\n",
       "      <td>ABC1</td>\n",
       "      <td>ABC1-A</td>\n",
       "      <td>Q96D53</td>\n",
       "    </tr>\n",
       "  </tbody>\n",
       "</table>\n",
       "</div>"
      ],
      "text/plain": [
       "    xName Manning Name HGNC Name  \\\n",
       "0    ABL1          ABL      ABL1   \n",
       "1     ACK          ACK      TNK2   \n",
       "2   ACTR2        ACTR2    ACVR2A   \n",
       "3  ACTR2B       ACTR2B    ACVR2B   \n",
       "4   ADCK4        ADCK4     ADCK4   \n",
       "\n",
       "                                         Kinase Name     Group Family  \\\n",
       "0                       Tyrosine-protein kinase ABL1        TK    Abl   \n",
       "1                           Activated CDC42 kinase 1        TK    Ack   \n",
       "2                           Activin receptor type-2A       TKL   STKR   \n",
       "3                           Activin receptor type-2B       TKL   STKR   \n",
       "4  Uncharacterized aarF domain-containing protein...  Atypical   ABC1   \n",
       "\n",
       "  SubFamily UniprotID  \n",
       "0       NaN    P00519  \n",
       "1       NaN    Q07912  \n",
       "2     STKR2    P27037  \n",
       "3     STKR2    Q13705  \n",
       "4    ABC1-A    Q96D53  "
      ]
     },
     "execution_count": 7,
     "metadata": {},
     "output_type": "execute_result"
    }
   ],
   "source": [
    "import pandas as pd\n",
    "\n",
    "df = pd.read_csv(\n",
    "    \"https://raw.githubusercontent.com/openkinome/kinodata/master/data/KinHubKinaseList.csv\"\n",
    ")\n",
    "df.head()\n",
    "# NBVAL_CHECK_OUTPUT"
   ]
  },
  {
   "cell_type": "markdown",
   "metadata": {},
   "source": [
    "关于文件下载的一点说明。上述方法将整个文件下载到内存中，这对于非常大的文件来说可能是一个问题。如果您打算下载一个非常大的文件，您可以使用 [streaming requests](https://requests.readthedocs.io/en/master/user/advanced/#streaming-requests) 和 [raw responses](https://docs.python-requests.org/en/v1.1.0/user/quickstart/?highlight=raw%20response#raw-response-content)直接将其推送到磁盘。例如，让我们假设这个 [1MB 视频](https://archive.org/download/SlowMotionFlame/slomoflame_512kb.mp4)_非常大，无法放入memory_："
   ]
  },
  {
   "cell_type": "code",
   "execution_count": 8,
   "metadata": {
    "tags": []
   },
   "outputs": [
    {
     "data": {
      "text/html": [
       "<video src=\"data/_tmp/video.mp4\" controls  >\n",
       "      Your browser does not support the <code>video</code> element.\n",
       "    </video>"
      ],
      "text/plain": [
       "<IPython.core.display.Video object>"
      ]
     },
     "metadata": {},
     "output_type": "display_data"
    }
   ],
   "source": [
    "import shutil\n",
    "from IPython.display import Video\n",
    "\n",
    "response = requests.get(\n",
    "    \"https://archive.org/download/SlowMotionFlame/slomoflame_512kb.mp4\", stream=True\n",
    ")\n",
    "response.raise_for_status()\n",
    "\n",
    "with open(TMPDATA / \"video.mp4\", \"wb\") as tmp:\n",
    "    for chunk in response.iter_content(chunk_size=8192):\n",
    "        tmp.write(chunk)\n",
    "\n",
    "    # Let's play the movie in Jupyter!\n",
    "    # Paths passed to widgets need to be relative to notebook or they will 404 :)\n",
    "    display(Video(Path(tmp.name).relative_to(HERE)))"
   ]
  },
  {
   "cell_type": "markdown",
   "metadata": {
    "tags": []
   },
   "source": [
    "### 访问动态生成的内容\n",
    "\n",
    "到目前为止，我们已经能够检索远程服务器上存在的 _files_。为此，我们使用了 'requests.get' 和指向该文件的 URL。\n",
    "\n",
    "好吧，事实证明，相同的技术将适用于更多类型的内容！服务器如何处理 URL 不是我们关心的！服务器是只需要在磁盘上给你一个文件，还是查询一个数据库，并将不同的部分组装成返回的内容，这根本不重要。\n",
    "\n",
    "正如您现在将看到的那样，仅这个概念就非常强大。请记住： **我们只需要确保我们请求的 URL 正确！\n",
    "\n",
    "现在让我们做一些有趣的事情吧！SARS-CoV-2 中的刺突蛋白是最近最流行的蛋白质之一，我们可以使用“请求”从 [UniProt]（https://www.uniprot.org/） 获取一些信息吗？它的 UniProt ID 是 'P0DTC2'。[先用浏览器检查]（https://www.uniprot.org/uniprot/P0DTC2），您应该会看到如下内容：\n",
    "\n",
    "![UniProt entry for SARS-CoV-2](images/uniprot-sars-cov-2.jpg)\n",
    "UniProt 提供的其中一项功能是所列蛋白质的氨基酸序列。向下滚动，直到看到这部分：\n",
    "\n",
    "![Sequence for SARS-CoV-2](images/uniprot-sars-cov-2-sequence.jpg)\n",
    "\n",
    "你认为我们可以使用 Python _only_ 获得序列吗？我看看！\n",
    "\n",
    "要查询蛋白质，您只需将其 UniProt ID 添加到 URL 中。"
   ]
  },
  {
   "cell_type": "code",
   "execution_count": 9,
   "metadata": {
    "tags": []
   },
   "outputs": [
    {
     "name": "stdout",
     "output_type": "stream",
     "text": [
      "<!doctype html><html lang=\"en\"><head><meta charset=\"utf-8\"/><title>UniProt</title><meta name=\"viewport\" content=\"width=device-width,initial-scale=1\"/><meta name=\"theme-color\" content=\"#00639a\"/><link rel=\"apple-touch-icon\" sizes=\"180x180\" href=\"/apple-touch-icon.png\"/><link rel=\"shortcut icon\" type=\"image/png\" sizes=\"144x144\" href=\"/mstile-144x144.png\"/><link rel=\"icon\" type=\"image/png\" sizes=\"32x32\" href=\"/favicon-32x32.png\"/><link rel=\"icon\" type=\"image/png\" sizes=\"16x16\" href=\"/favicon-16x16.png\"/><link rel=\"manifest\" href=\"/manifest.json\"/><link rel=\"preconnect\" href=\"https://fonts.gstatic.com/\"/><link rel=\"preconnect\" href=\"https://rest.uniprot.org/\"/><link rel=\"preload\" as=\"style\" href=\"https://fonts.googleapis.com/css?family=Lato:400,700|Source+Sans+Pro:600,700&display=swap\"/><script async src=\"https://www.googletagmanager.com/gtag/js?id=G-V6TXEC4BDF\"></script><script>window.dataLayer = window.dataLayer || [];\n",
      "      function gtag() {\n",
      "        dataLayer.push(arguments);\n",
      "      }\n",
      "      gtag('js', new Date());\n",
      "\n",
      "      // GA4\n",
      "      gtag('config', 'G-V6TXEC4BDF', {\n",
      "        anonymize_ip: true,\n",
      "        allow_google_signals: false,\n",
      "        allow_ad_personalization_signals: false,\n",
      "        restricted_data_processing: true,\n",
      "        custom_map: {\n",
      "          dimension1: 'result_view',\n",
      "          metric1: 'result_view_set',\n",
      "        },\n",
      "        send_page_view: false,\n",
      "      });\n",
      "      // UA\n",
      "      gtag('config', 'UA-6228219-1', {\n",
      "        anonymize_ip: true,\n",
      "        allow_google_signals: false,\n",
      "        allow_ad_personalization_signals: false,\n",
      "        restricted_data_processing: true,\n",
      "        custom_map: {\n",
      "          dimension1: 'result_view',\n",
      "          metric1: 'result_view_set',\n",
      "        },\n",
      "        send_page_view: false,\n",
      "      });</script><script>(function (h, o, t, j, a, r) {\n",
      "        h.hj =\n",
      "          h.hj ||\n",
      "          function () {\n",
      "            (h.hj.q = h.hj.q || []).push(arguments);\n",
      "          };\n",
      "        h._hjSettings = { hjid: 2638207, hjsv: 6 };\n",
      "        a = o.getElementsByTagName('head')[0];\n",
      "        r = o.createElement('script');\n",
      "        r.async = 1;\n",
      "        r.src = t + h._hjSettings.hjid + j + h._hjSettings.hjsv;\n",
      "        a.appendChild(r);\n",
      "      })(window, document, 'https://static.hotjar.com/c/hotjar-', '.js?sv=');</script><style>#root > .fallback {\n",
      "        height: 90vh;\n",
      "        display: flex;\n",
      "        align-items: center;\n",
      "        justify-content: center;\n",
      "        opacity: 0;\n",
      "        animation: fallback-appear 1s 1 10s both;\n",
      "      }\n",
      "\n",
      "      #root > .fallback > div {\n",
      "        max-width: 60ch;\n",
      "      }\n",
      "\n",
      "      #root > .fallback li {\n",
      "        margin-bottom: 1em;\n",
      "      }\n",
      "\n",
      "      @keyframes fallback-appear {\n",
      "        from {\n",
      "          opacity: 0;\n",
      "        }\n",
      "        to {\n",
      "          opacity: 1;\n",
      "        }\n",
      "      }</style><link rel=\"stylesheet\" href=\"/styles.6f2cd3.css\"/><link rel=\"stylesheet\" href=\"/styles.8a7ea9.css\"/></head><body><div id=\"root\"><div class=\"fallback\" data-nosnippet><div><h1>UniProt website fallback message</h1>If you are not seeing anything on this page, it might be for multiple reasons:<ul><li><strong>You might have JavaScript disabled</strong>: make sure to enable JavaScript on your browser, or use a browser that supports JavaScript.</li><li><strong>You might have an outdated browser</strong>: make sure that your browser is up to date as older versions might not work with the website.</li><li><strong>There might have been a network issue</strong>: ensure that your connectivity is stable and try to reload the page to see if it solves the issue. <button onclick=\"location.reload();\">Reload this page</button></li></ul></div></div></div><script nomodule>// workaround for Safari 10.1 supporting module but ignoring nomodule\n",
      "      // From https://gist.github.com/samthor/64b114e4a4f539915a95b91ffd340acc\n",
      "      (function () {\n",
      "        var d = document;\n",
      "        var c = d.createElement('script');\n",
      "        if (!('noModule' in c) && 'onbeforeload' in c) {\n",
      "          var s = false;\n",
      "          d.addEventListener(\n",
      "            'beforeload',\n",
      "            function (e) {\n",
      "              if (e.target === c) {\n",
      "                s = true;\n",
      "              } else if (!e.target.hasAttribute('nomodule') || !s) {\n",
      "                return;\n",
      "              }\n",
      "              e.preventDefault();\n",
      "            },\n",
      "            true\n",
      "          );\n",
      "\n",
      "          c.type = 'module';\n",
      "          c.src = '.';\n",
      "          d.head.appendChild(c);\n",
      "          c.remove();\n",
      "        }\n",
      "      })();</script><script type=\"module\" src=\"/modern.app.81c288.js\"></script><script type=\"module\" src=\"/modern.app.9062d6.js\"></script><script type=\"module\" src=\"/modern.app.922f2d.js\"></script><script type=\"module\" src=\"/modern.app.846d6d.js\"></script><script type=\"module\" src=\"/modern.app.1dc90f.js\"></script><script nomodule defer=\"defer\" src=\"/legacy.app.21ebe9.js\"></script><script nomodule defer=\"defer\" src=\"/legacy.app.9062d6.js\"></script><script nomodule defer=\"defer\" src=\"/legacy.app.922f2d.js\"></script><script nomodule defer=\"defer\" src=\"/legacy.app.788032.js\"></script><script nomodule defer=\"defer\" src=\"/legac\n"
     ]
    }
   ],
   "source": [
    "r = requests.get(\"https://www.uniprot.org/uniprot/P0DTC2\")\n",
    "r.raise_for_status()\n",
    "print(r.text[:5000])"
   ]
  },
  {
   "cell_type": "markdown",
   "metadata": {},
   "source": [
    "Wow, what is all that noise? You are seeing the HTML content of the webpage! That's the markup language web developers use to write webpages.\n",
    "\n",
    "There are libraries to process HTML and extract the actual content (like `BeautifulSoup`; more below), but we will not need it here yet. Fortunately, UniProt provides alternative representations of the data.\n",
    "\n",
    "![UniProt formats](images/uniprot-sars-cov-2-formats.jpg)\n",
    "\n",
    "Some formats are more convenient for programmatic use. If you click on `Text` you will see something different in your browser: just plain text! Also, notice how the URL is now different.\n",
    "\n",
    "* HTML representation (default): https://www.uniprot.org/uniprot/P0DTC2\n",
    "* Text representation: https://www.uniprot.org/uniprot/P0DTC2.txt\n",
    "\n",
    "Just adding the `.txt` extension was enough to change the style. This is a nice feature UniProt provides. It mimics a file system, but it's actually changing the representation of the returned content. Elegant! And more important, easier to use programmatically! Check it:"
   ]
  },
  {
   "cell_type": "code",
   "execution_count": 10,
   "metadata": {
    "tags": []
   },
   "outputs": [
    {
     "name": "stdout",
     "output_type": "stream",
     "text": [
      "ID   SPIKE_SARS2             Reviewed;        1273 AA.\n",
      "AC   P0DTC2;\n",
      "DT   22-APR-2020, integrated into UniProtKB/Swiss-Prot.\n",
      "DT   22-APR-2020, sequence version 1.\n",
      "DT   03-MAY-2023, entry version 16.\n",
      "DE   RecName: Full=Spike glycoprotein {ECO:0000255|HAMAP-Rule:MF_04099};\n",
      "DE            Short=S glycoprotein {ECO:0000255|HAMAP-Rule:MF_04099};\n",
      "DE   AltName: Full=E2 {ECO:0000255|HAMAP-Rule:MF_04099};\n",
      "DE   AltName: Full=Peplomer protein {ECO:0000255|HAMAP-Rule:MF_04099};\n",
      "DE   Contains:\n",
      "DE     RecName: Full=Spike protein S1 {ECO:0000255|HAMAP-Rule:MF_04099};\n",
      "DE   Contains:\n",
      "DE     RecName: Full=Spike protein S2 {ECO:0000255|HAMAP-Rule:MF_04099};\n",
      "DE   Contains:\n",
      "DE     RecName: Full=Spike protein S2' {ECO:0000255|HAMAP-Rule:MF_04099};\n",
      "DE   Flags: Precursor;\n",
      "GN   Name=S {ECO:0000255|HAMAP-Rule:MF_04099}; ORFNames=2;\n",
      "OS   Severe acute respiratory syndrome coronavirus 2 (2019-nCoV) (SARS-CoV-2).\n",
      "OC   Viruses; Riboviria; Orthornavirae; Pisuviricota; Pisoniviricetes;\n",
      "OC   Nidovirales; Cornidovirineae;\n"
     ]
    }
   ],
   "source": [
    "r = requests.get(\"https://www.uniprot.org/uniprot/P0DTC2.txt\")\n",
    "r.raise_for_status()\n",
    "print(r.text[:1000])"
   ]
  },
  {
   "cell_type": "markdown",
   "metadata": {},
   "source": [
    "This is _exactly_ what we see on our browser! Plain text is nice for these things. However, the sequence is all the way at the end of the file. To retrieve it, you need to get creative and analyze those little tags each line has. See how it begins with `SQ` and finishes with `//`:\n",
    "\n",
    "```\n",
    "SQ   SEQUENCE   1273 AA;  141178 MW;  B17BE6D9F1C4EA34 CRC64;\n",
    "     MFVFLVLLPL VSSQCVNLTT RTQLPPAYTN SFTRGVYYPD KVFRSSVLHS TQDLFLPFFS\n",
    "     NVTWFHAIHV SGTNGTKRFD NPVLPFNDGV YFASTEKSNI IRGWIFGTTL DSKTQSLLIV\n",
    "     NNATNVVIKV CEFQFCNDPF LGVYYHKNNK SWMESEFRVY SSANNCTFEY VSQPFLMDLE\n",
    "     GKQGNFKNLR EFVFKNIDGY FKIYSKHTPI NLVRDLPQGF SALEPLVDLP IGINITRFQT\n",
    "     LLALHRSYLT PGDSSSGWTA GAAAYYVGYL QPRTFLLKYN ENGTITDAVD CALDPLSETK\n",
    "     CTLKSFTVEK GIYQTSNFRV QPTESIVRFP NITNLCPFGE VFNATRFASV YAWNRKRISN\n",
    "     CVADYSVLYN SASFSTFKCY GVSPTKLNDL CFTNVYADSF VIRGDEVRQI APGQTGKIAD\n",
    "     YNYKLPDDFT GCVIAWNSNN LDSKVGGNYN YLYRLFRKSN LKPFERDIST EIYQAGSTPC\n",
    "     NGVEGFNCYF PLQSYGFQPT NGVGYQPYRV VVLSFELLHA PATVCGPKKS TNLVKNKCVN\n",
    "     FNFNGLTGTG VLTESNKKFL PFQQFGRDIA DTTDAVRDPQ TLEILDITPC SFGGVSVITP\n",
    "     GTNTSNQVAV LYQDVNCTEV PVAIHADQLT PTWRVYSTGS NVFQTRAGCL IGAEHVNNSY\n",
    "     ECDIPIGAGI CASYQTQTNS PRRARSVASQ SIIAYTMSLG AENSVAYSNN SIAIPTNFTI\n",
    "     SVTTEILPVS MTKTSVDCTM YICGDSTECS NLLLQYGSFC TQLNRALTGI AVEQDKNTQE\n",
    "     VFAQVKQIYK TPPIKDFGGF NFSQILPDPS KPSKRSFIED LLFNKVTLAD AGFIKQYGDC\n",
    "     LGDIAARDLI CAQKFNGLTV LPPLLTDEMI AQYTSALLAG TITSGWTFGA GAALQIPFAM\n",
    "     QMAYRFNGIG VTQNVLYENQ KLIANQFNSA IGKIQDSLSS TASALGKLQD VVNQNAQALN\n",
    "     TLVKQLSSNF GAISSVLNDI LSRLDKVEAE VQIDRLITGR LQSLQTYVTQ QLIRAAEIRA\n",
    "     SANLAATKMS ECVLGQSKRV DFCGKGYHLM SFPQSAPHGV VFLHVTYVPA QEKNFTTAPA\n",
    "     ICHDGKAHFP REGVFVSNGT HWFVTQRNFY EPQIITTDNT FVSGNCDVVI GIVNNTVYDP\n",
    "     LQPELDSFKE ELDKYFKNHT SPDVDLGDIS GINASVVNIQ KEIDRLNEVA KNLNESLIDL\n",
    "     QELGKYEQYI KWPWYIWLGF IAGLIAIVMV TIMLCCMTSC CSCLKGCCSC GSCCKFDEDD\n",
    "     SEPVLKGVKL HYT\n",
    "//\n",
    "```\n",
    "\n",
    "Hence, you could do something like this:"
   ]
  },
  {
   "cell_type": "code",
   "execution_count": 11,
   "metadata": {
    "tags": []
   },
   "outputs": [
    {
     "name": "stdout",
     "output_type": "stream",
     "text": [
      "This is your sequence: MFVFLVLLPLVSSQCVNLTTRTQLPPAYTNSFTRGVYYPDKVFRSSVLHSTQDLFLPFFSNVTWFHAIHVSGTNGTKRFDNPVLPFNDGVYFASTEKSNIIRGWIFGTTLDSKTQSLLIVNNATNVVIKVCEFQFCNDPFLGVYYHKNNKSWMESEFRVYSSANNCTFEYVSQPFLMDLEGKQGNFKNLREFVFKNIDGYFKIYSKHTPINLVRDLPQGFSALEPLVDLPIGINITRFQTLLALHRSYLTPGDSSSGWTAGAAAYYVGYLQPRTFLLKYNENGTITDAVDCALDPLSETKCTLKSFTVEKGIYQTSNFRVQPTESIVRFPNITNLCPFGEVFNATRFASVYAWNRKRISNCVADYSVLYNSASFSTFKCYGVSPTKLNDLCFTNVYADSFVIRGDEVRQIAPGQTGKIADYNYKLPDDFTGCVIAWNSNNLDSKVGGNYNYLYRLFRKSNLKPFERDISTEIYQAGSTPCNGVEGFNCYFPLQSYGFQPTNGVGYQPYRVVVLSFELLHAPATVCGPKKSTNLVKNKCVNFNFNGLTGTGVLTESNKKFLPFQQFGRDIADTTDAVRDPQTLEILDITPCSFGGVSVITPGTNTSNQVAVLYQDVNCTEVPVAIHADQLTPTWRVYSTGSNVFQTRAGCLIGAEHVNNSYECDIPIGAGICASYQTQTNSPRRARSVASQSIIAYTMSLGAENSVAYSNNSIAIPTNFTISVTTEILPVSMTKTSVDCTMYICGDSTECSNLLLQYGSFCTQLNRALTGIAVEQDKNTQEVFAQVKQIYKTPPIKDFGGFNFSQILPDPSKPSKRSFIEDLLFNKVTLADAGFIKQYGDCLGDIAARDLICAQKFNGLTVLPPLLTDEMIAQYTSALLAGTITSGWTFGAGAALQIPFAMQMAYRFNGIGVTQNVLYENQKLIANQFNSAIGKIQDSLSSTASALGKLQDVVNQNAQALNTLVKQLSSNFGAISSVLNDILSRLDKVEAEVQIDRLITGRLQSLQTYVTQQLIRAAEIRASANLAATKMSECVLGQSKRVDFCGKGYHLMSFPQSAPHGVVFLHVTYVPAQEKNFTTAPAICHDGKAHFPREGVFVSNGTHWFVTQRNFYEPQIITTDNTFVSGNCDVVIGIVNNTVYDPLQPELDSFKEELDKYFKNHTSPDVDLGDISGINASVVNIQKEIDRLNEVAKNLNESLIDLQELGKYEQYIKWPWYIWLGFIAGLIAIVMVTIMLCCMTSCCSCLKGCCSCGSCCKFDEDDSEPVLKGVKLHYT\n"
     ]
    }
   ],
   "source": [
    "sequence_block = False\n",
    "lines = []\n",
    "for line in r.text.splitlines():\n",
    "    if line.startswith(\"SQ\"):\n",
    "        sequence_block = True\n",
    "    elif line.startswith(\"//\"):\n",
    "        sequence_block = False\n",
    "\n",
    "    if sequence_block:\n",
    "        line = line.strip()  # delete spaces and newlines at the beginning and end of the line\n",
    "        line = line.replace(\" \", \"\")  # delete spaces in the middle of the line\n",
    "        lines.append(line)\n",
    "sequence = \"\".join(lines[1:])  # the first line is the metadata header\n",
    "print(f\"This is your sequence: {sequence}\")\n",
    "\n",
    "# NBVAL_CHECK_OUTPUT"
   ]
  },
  {
   "cell_type": "markdown",
   "metadata": {},
   "source": [
    "Ta-da! We got it! It required some processing, but it works... However, you should always wonder if there's an easier way. Given that UniProt had a nice way of providing the text representation, how come they don't offer a URL that _only_ returns the sequence for a given UniProt ID? Well, they do! Just change `.txt` for `.fasta`: https://www.uniprot.org/uniprot/P0DTC2.fasta"
   ]
  },
  {
   "cell_type": "code",
   "execution_count": 12,
   "metadata": {
    "tags": []
   },
   "outputs": [
    {
     "name": "stdout",
     "output_type": "stream",
     "text": [
      ">sp|P0DTC2|SPIKE_SARS2 Spike glycoprotein OS=Severe acute respiratory syndrome coronavirus 2 OX=2697049 GN=S PE=1 SV=1\n",
      "MFVFLVLLPLVSSQCVNLTTRTQLPPAYTNSFTRGVYYPDKVFRSSVLHSTQDLFLPFFS\n",
      "NVTWFHAIHVSGTNGTKRFDNPVLPFNDGVYFASTEKSNIIRGWIFGTTLDSKTQSLLIV\n",
      "NNATNVVIKVCEFQFCNDPFLGVYYHKNNKSWMESEFRVYSSANNCTFEYVSQPFLMDLE\n",
      "GKQGNFKNLREFVFKNIDGYFKIYSKHTPINLVRDLPQGFSALEPLVDLPIGINITRFQT\n",
      "LLALHRSYLTPGDSSSGWTAGAAAYYVGYLQPRTFLLKYNENGTITDAVDCALDPLSETK\n",
      "CTLKSFTVEKGIYQTSNFRVQPTESIVRFPNITNLCPFGEVFNATRFASVYAWNRKRISN\n",
      "CVADYSVLYNSASFSTFKCYGVSPTKLNDLCFTNVYADSFVIRGDEVRQIAPGQTGKIAD\n",
      "YNYKLPDDFTGCVIAWNSNNLDSKVGGNYNYLYRLFRKSNLKPFERDISTEIYQAGSTPC\n",
      "NGVEGFNCYFPLQSYGFQPTNGVGYQPYRVVVLSFELLHAPATVCGPKKSTNLVKNKCVN\n",
      "FNFNGLTGTGVLTESNKKFLPFQQFGRDIADTTDAVRDPQTLEILDITPCSFGGVSVITP\n",
      "GTNTSNQVAVLYQDVNCTEVPVAIHADQLTPTWRVYSTGSNVFQTRAGCLIGAEHVNNSY\n",
      "ECDIPIGAGICASYQTQTNSPRRARSVASQSIIAYTMSLGAENSVAYSNNSIAIPTNFTI\n",
      "SVTTEILPVSMTKTSVDCTMYICGDSTECSNLLLQYGSFCTQLNRALTGIAVEQDKNTQE\n",
      "VFAQVKQIYKTPPIKDFGGFNFSQILPDPSKPSKRSFIEDLLFNKVTLADAGFIKQYGDC\n",
      "LGDIAARDLICAQKFNGLTVLPPLLTDEMIAQYTSALLAGTITSGWTFGAGAALQIPFAM\n",
      "QMAYRFNGIGVTQNVLYENQKLIANQFNSAIGKIQDSLSSTASALGKLQDVVNQNAQALN\n",
      "TLVKQLSSNFGAISSVLNDILSRLDKVEAEVQIDRLITGRLQSLQTYVTQQLIRAAEIRA\n",
      "SANLAATKMSECVLGQSKRVDFCGKGYHLMSFPQSAPHGVVFLHVTYVPAQEKNFTTAPA\n",
      "ICHDGKAHFPREGVFVSNGTHWFVTQRNFYEPQIITTDNTFVSGNCDVVIGIVNNTVYDP\n",
      "LQPELDSFKEELDKYFKNHTSPDVDLGDISGINASVVNIQKEIDRLNEVAKNLNESLIDL\n",
      "QELGKYEQYIKWPWYIWLGFIAGLIAIVMVTIMLCCMTSCCSCLKGCCSCGSCCKFDEDD\n",
      "SEPVLKGVKLHYT\n",
      "\n"
     ]
    }
   ],
   "source": [
    "r = requests.get(\"https://www.uniprot.org/uniprot/P0DTC2.fasta\")\n",
    "r.raise_for_status()\n",
    "print(r.text)\n",
    "\n",
    "# NBVAL_CHECK_OUTPUT"
   ]
  },
  {
   "cell_type": "markdown",
   "metadata": {},
   "source": [
    "This is returned in FASTA, a common syntax in bioinformatics. You could use established libraries like [BioPython](https://biopython.org/) to parse it too!"
   ]
  },
  {
   "cell_type": "code",
   "execution_count": 13,
   "metadata": {
    "tags": []
   },
   "outputs": [
    {
     "name": "stdout",
     "output_type": "stream",
     "text": [
      "sp|P0DTC2|SPIKE_SARS2 Spike glycoprotein OS=Severe acute respiratory syndrome coronavirus 2 OX=2697049 GN=S PE=1 SV=1\n",
      "MFVFLVLLPLVSSQCVNLTTRTQLPPAYTNSFTRGVYYPDKVFRSSVLHSTQDLFLPFFSNVTWFHAIHVSGTNGTKRFDNPVLPFNDGVYFASTEKSNIIRGWIFGTTLDSKTQSLLIVNNATNVVIKVCEFQFCNDPFLGVYYHKNNKSWMESEFRVYSSANNCTFEYVSQPFLMDLEGKQGNFKNLREFVFKNIDGYFKIYSKHTPINLVRDLPQGFSALEPLVDLPIGINITRFQTLLALHRSYLTPGDSSSGWTAGAAAYYVGYLQPRTFLLKYNENGTITDAVDCALDPLSETKCTLKSFTVEKGIYQTSNFRVQPTESIVRFPNITNLCPFGEVFNATRFASVYAWNRKRISNCVADYSVLYNSASFSTFKCYGVSPTKLNDLCFTNVYADSFVIRGDEVRQIAPGQTGKIADYNYKLPDDFTGCVIAWNSNNLDSKVGGNYNYLYRLFRKSNLKPFERDISTEIYQAGSTPCNGVEGFNCYFPLQSYGFQPTNGVGYQPYRVVVLSFELLHAPATVCGPKKSTNLVKNKCVNFNFNGLTGTGVLTESNKKFLPFQQFGRDIADTTDAVRDPQTLEILDITPCSFGGVSVITPGTNTSNQVAVLYQDVNCTEVPVAIHADQLTPTWRVYSTGSNVFQTRAGCLIGAEHVNNSYECDIPIGAGICASYQTQTNSPRRARSVASQSIIAYTMSLGAENSVAYSNNSIAIPTNFTISVTTEILPVSMTKTSVDCTMYICGDSTECSNLLLQYGSFCTQLNRALTGIAVEQDKNTQEVFAQVKQIYKTPPIKDFGGFNFSQILPDPSKPSKRSFIEDLLFNKVTLADAGFIKQYGDCLGDIAARDLICAQKFNGLTVLPPLLTDEMIAQYTSALLAGTITSGWTFGAGAALQIPFAMQMAYRFNGIGVTQNVLYENQKLIANQFNSAIGKIQDSLSSTASALGKLQDVVNQNAQALNTLVKQLSSNFGAISSVLNDILSRLDKVEAEVQIDRLITGRLQSLQTYVTQQLIRAAEIRASANLAATKMSECVLGQSKRVDFCGKGYHLMSFPQSAPHGVVFLHVTYVPAQEKNFTTAPAICHDGKAHFPREGVFVSNGTHWFVTQRNFYEPQIITTDNTFVSGNCDVVIGIVNNTVYDPLQPELDSFKEELDKYFKNHTSPDVDLGDISGINASVVNIQKEIDRLNEVAKNLNESLIDLQELGKYEQYIKWPWYIWLGFIAGLIAIVMVTIMLCCMTSCCSCLKGCCSCGSCCKFDEDDSEPVLKGVKLHYT\n"
     ]
    }
   ],
   "source": [
    "from Bio import SeqIO\n",
    "from tempfile import NamedTemporaryFile\n",
    "import os\n",
    "\n",
    "# Write response into a temporary text file\n",
    "with NamedTemporaryFile(suffix=\".fasta\", mode=\"w\", delete=False) as tmp:\n",
    "    tmp.write(r.text)\n",
    "\n",
    "# Create the BioPython object for sequence data:\n",
    "sequence = SeqIO.read(tmp.name, format=\"fasta\")\n",
    "\n",
    "# Delete temporary file now that we have read it\n",
    "os.remove(tmp.name)\n",
    "\n",
    "print(sequence.description)\n",
    "print(sequence.seq)\n",
    "\n",
    "# NBVAL_CHECK_OUTPUT"
   ]
  },
  {
   "cell_type": "markdown",
   "metadata": {},
   "source": [
    "All these ways to access different representations or sections of the data contained in UniProt constitutes a URL-based API (Application Programmatic Interface). The foundational principle is that the URL contains all the **parameters** needed to ask the server for a specific type of content. Yes, you read that correctly: **parameters**. If you think about it, a URL specifies two parts: the machine you are connecting to and the page in that machine you want to access. When the page part is missing, the server assumes you are asking for `index.html` or equivalent.\n",
    "\n",
    "Let's compare it to a command-line interface:\n",
    "\n",
    "```\n",
    "@ # this is your browser\n",
    "@ uniprot.org/uniprot/P0DTC2.fasta\n",
    "```\n",
    "\n",
    "```bash\n",
    "$ # this is your terminal\n",
    "$ uniprot --id=P0DTC2 --format=FASTA\n",
    "```\n",
    "\n",
    "Each part of the URL can be considered a positional argument! So, if you want the sequence of a different protein, just input its UniProt ID in the URL, done! For example, `P00519` is the ID for the ABL1 kinase."
   ]
  },
  {
   "cell_type": "code",
   "execution_count": 14,
   "metadata": {
    "tags": []
   },
   "outputs": [
    {
     "name": "stdout",
     "output_type": "stream",
     "text": [
      ">sp|P00519|ABL1_HUMAN Tyrosine-protein kinase ABL1 OS=Homo sapiens OX=9606 GN=ABL1 PE=1 SV=4\n",
      "MLEICLKLVGCKSKKGLSSSSSCYLEEALQRPVASDFEPQGLSEAARWNSKENLLAGPSE\n",
      "NDPNLFVALYDFVASGDNTLSITKGEKLRVLGYNHNGEWCEAQTKNGQGWVPSNYITPVN\n",
      "SLEKHSWYHGPVSRNAAEYLLSSGINGSFLVRESESSPGQRSISLRYEGRVYHYRINTAS\n",
      "DGKLYVSSESRFNTLAELVHHHSTVADGLITTLHYPAPKRNKPTVYGVSPNYDKWEMERT\n",
      "DITMKHKLGGGQYGEVYEGVWKKYSLTVAVKTLKEDTMEVEEFLKEAAVMKEIKHPNLVQ\n",
      "LLGVCTREPPFYIITEFMTYGNLLDYLRECNRQEVNAVVLLYMATQISSAMEYLEKKNFI\n",
      "HRDLAARNCLVGENHLVKVADFGLSRLMTGDTYTAHAGAKFPIKWTAPESLAYNKFSIKS\n",
      "DVWAFGVLLWEIATYGMSPYPGIDLSQVYELLEKDYRMERPEGCPEKVYELMRACWQWNP\n",
      "SDRPSFAEIHQAFETMFQESSISDEVEKELGKQGVRGAVSTLLQAPELPTKTRTSRRAAE\n",
      "HRDTTDVPEMPHSKGQGESDPLDHEPAVSPLLPRKERGPPEGGLNEDERLLPKDKKTNLF\n",
      "SALIKKKKKTAPTPPKRSSSFREMDGQPERRGAGEEEGRDISNGALAFTPLDTADPAKSP\n",
      "KPSNGAGVPNGALRESGGSGFRSPHLWKKSSTLTSSRLATGEEEGGGSSSKRFLRSCSAS\n",
      "CVPHGAKDTEWRSVTLPRDLQSTGRQFDSSTFGGHKSEKPALPRKRAGENRSDQVTRGTV\n",
      "TPPPRLVKKNEEAADEVFKDIMESSPGSSPPNLTPKPLRRQVTVAPASGLPHKEEAGKGS\n",
      "ALGTPAAAEPVTPTSKAGSGAPGGTSKGPAEESRVRRHKHSSESPGRDKGKLSRLKPAPP\n",
      "PPPAASAGKAGGKPSQSPSQEAAGEAVLGAKTKATSLVDAVNSDAAKPSQPGEGLKKPVL\n",
      "PATPKPQSAKPSGTPISPAPVPSTLPSASSALAGDQPSSTAFIPLISTRVSLRKTRQPPE\n",
      "RIASGAITKGVVLDSTEALCLAISRNSEQMASHSAVLEAGKNLYTFCVSYVDSIQQMRNK\n",
      "FAFREAINKLENNLRELQICPATAGSGPAATQDFSKLLSSVKEISDIVQR\n",
      "\n"
     ]
    }
   ],
   "source": [
    "r = requests.get(\"https://www.uniprot.org/uniprot/P00519.fasta\")\n",
    "r.raise_for_status()\n",
    "print(r.text)\n",
    "\n",
    "# NBVAL_CHECK_OUTPUT"
   ]
  },
  {
   "cell_type": "markdown",
   "metadata": {},
   "source": [
    "What if we parameterize the URL with an f-string and provide a function to make it super Pythonic? Even better, what if we provide the `Bio.SeqIO` parsing functionality too?"
   ]
  },
  {
   "cell_type": "code",
   "execution_count": 15,
   "metadata": {
    "tags": []
   },
   "outputs": [],
   "source": [
    "def sequence_for_uniprot_id(uniprot_id):\n",
    "    \"\"\"\n",
    "    Returns the FASTA sequence of a given Uniprot ID using\n",
    "    the UniProt URL-based API\n",
    "\n",
    "    Parameters\n",
    "    ----------\n",
    "    uniprot_id : str\n",
    "\n",
    "    Returns\n",
    "    -------\n",
    "    Bio.SeqIO.SeqRecord\n",
    "    \"\"\"\n",
    "    #                                                  ⬇ this is key part!\n",
    "    r = requests.get(f\"https://www.uniprot.org/uniprot/{uniprot_id}.fasta\")\n",
    "    r.raise_for_status()\n",
    "\n",
    "    with NamedTemporaryFile(suffix=\".fasta\", mode=\"w\", delete=False) as tmp:\n",
    "        tmp.write(r.text)\n",
    "\n",
    "    sequence = SeqIO.read(tmp.name, format=\"fasta\")\n",
    "    os.remove(tmp.name)\n",
    "\n",
    "    return sequence"
   ]
  },
  {
   "cell_type": "markdown",
   "metadata": {},
   "source": [
    "Now you can use it for any UniProt ID. This is for the [Src kinase](https://www.uniprot.org/uniprot/P12931):"
   ]
  },
  {
   "cell_type": "code",
   "execution_count": 16,
   "metadata": {
    "tags": []
   },
   "outputs": [
    {
     "name": "stdout",
     "output_type": "stream",
     "text": [
      "ID: sp|P12931|SRC_HUMAN\n",
      "Name: sp|P12931|SRC_HUMAN\n",
      "Description: sp|P12931|SRC_HUMAN Proto-oncogene tyrosine-protein kinase Src OS=Homo sapiens OX=9606 GN=SRC PE=1 SV=3\n",
      "Number of features: 0\n",
      "Seq('MGSNKSKPKDASQRRRSLEPAENVHGAGGGAFPASQTPSKPASADGHRGPSAAF...ENL', SingleLetterAlphabet())\n"
     ]
    }
   ],
   "source": [
    "sequence = sequence_for_uniprot_id(\"P12931\")\n",
    "print(sequence)\n",
    "\n",
    "# NBVAL_CHECK_OUTPUT"
   ]
  },
  {
   "cell_type": "markdown",
   "metadata": {},
   "source": [
    "Congratulations! You have used your first online API in Python and adapted it to a workflow!"
   ]
  },
  {
   "cell_type": "markdown",
   "metadata": {},
   "source": [
    "### Programmatic interfaces\n",
    "\n",
    "What UniProt does with their URLs is _one way_ of providing access to their database, i.e., through specific URL schemes. However, if each web service would have to come up with their own scheme, developers would need to figure out which scheme the website is using, and then implement, adapt or customize their scripts on a case-by-case basis. Fortunately, there are some standardized ways of providing programmatic access to online resources. Some of them include:\n",
    "\n",
    "- HTTP-based RESTful APIs ([wiki](https://en.wikipedia.org/wiki/Representational_state_transfer#Applied_to_Web_services))\n",
    "- GraphQL\n",
    "- SOAP\n",
    "- gRPC\n",
    "\n",
    "In this talktorial, we will focus on the first one, [REST](https://en.wikipedia.org/wiki/Representational_state_transfer)."
   ]
  },
  {
   "cell_type": "markdown",
   "metadata": {},
   "source": [
    "#### HTTP-based RESTful APIs\n",
    "\n",
    "This type of programmatic access defines a specific entry point for clients (scripts, libraries, programs) that require programmatic access, something like `api.webservice.com`. This is usually different from the website itself (`webservice.com`). They can be versioned, so the provider can update the scheme without disrupting existing implementations (`api.webservice.com/v1` will still work even when `api.webservice.com/v2` has been deployed).\n",
    "\n",
    "This kind of API is usually accompanied by well-written documentation explaining all the available actions in the platform. For example, look at the [KLIFS API documentation](https://klifs.net/swagger). KLIFS is a database of kinase targets and small compound inhibitors. You can see how every argument and option is documented, along with usage examples. \n",
    "\n",
    "If you wanted to list all the kinase families available in KLIFS, you need to access this URL:\n",
    "\n",
    "```\n",
    "https://klifs.net/api/kinase_groups\n",
    "```\n",
    "\n",
    "<details>\n",
    "    <summary>\n",
    "        Result (click here!)\n",
    "    </summary>\n",
    "\n",
    "```\n",
    "[\n",
    "  \"AGC\",\n",
    "  \"CAMK\",\n",
    "  \"CK1\",\n",
    "  \"CMGC\",\n",
    "  \"Other\",\n",
    "  \"STE\",\n",
    "  \"TK\",\n",
    "  \"TKL\"\n",
    "]\n",
    "```\n",
    "    \n",
    "\n",
    "</details>\n",
    "\n",
    "\n",
    "This response happens to be [JSON](https://en.wikipedia.org/wiki/JSON)-formatted! This is easily parsed into a Python object using the `json` library. The best news is that you don't even need that. Using `requests`, the following operation can be done in three lines thanks to the `.json()` method:"
   ]
  },
  {
   "cell_type": "code",
   "execution_count": 17,
   "metadata": {
    "tags": []
   },
   "outputs": [
    {
     "data": {
      "text/plain": [
       "['AGC', 'CAMK', 'CK1', 'CMGC', 'Other', 'STE', 'TK', 'TKL']"
      ]
     },
     "execution_count": 17,
     "metadata": {},
     "output_type": "execute_result"
    }
   ],
   "source": [
    "import requests\n",
    "\n",
    "response = requests.get(\"https://klifs.net/api/kinase_groups\")\n",
    "response.raise_for_status()\n",
    "result = response.json()\n",
    "result\n",
    "\n",
    "# NBVAL_CHECK_OUTPUT"
   ]
  },
  {
   "cell_type": "markdown",
   "metadata": {},
   "source": [
    "That's a Python `list`!"
   ]
  },
  {
   "cell_type": "code",
   "execution_count": 18,
   "metadata": {
    "tags": []
   },
   "outputs": [
    {
     "data": {
      "text/plain": [
       "'AGC'"
      ]
     },
     "execution_count": 18,
     "metadata": {},
     "output_type": "execute_result"
    }
   ],
   "source": [
    "result[0]"
   ]
  },
  {
   "cell_type": "markdown",
   "metadata": {},
   "source": [
    "Let's see if we can get all the kinase _families_ contained in a specific group. Reading the documentation, looks like we need this kind of URL:\n",
    "\n",
    "```\n",
    "https://klifs.net/api/kinase_families?kinase_group={{ NAME }}\n",
    "```\n",
    "\n",
    "> What follows after the `?` symbol is the _query_. It's formatted with a key-value syntax like this: `key=value`. Multiple parameters can be expressed with `&`:\n",
    "> \n",
    "> ```\n",
    "> https://api.webservice.com/some/endpoint?parameter1=value1&parameter2=value2\n",
    "> ```\n",
    "\n",
    "Let's see the returned object for the tyrosine kinase (TK) group: `family=TK`"
   ]
  },
  {
   "cell_type": "code",
   "execution_count": 19,
   "metadata": {
    "tags": []
   },
   "outputs": [
    {
     "data": {
      "text/plain": [
       "['ALK',\n",
       " 'Abl',\n",
       " 'Ack',\n",
       " 'Alk',\n",
       " 'Axl',\n",
       " 'CCK4',\n",
       " 'Csk',\n",
       " 'DDR',\n",
       " 'EGFR',\n",
       " 'Eph',\n",
       " 'FAK',\n",
       " 'FGFR',\n",
       " 'Fer',\n",
       " 'InsR',\n",
       " 'JakA',\n",
       " 'JakB',\n",
       " 'Lmr',\n",
       " 'Met',\n",
       " 'Musk',\n",
       " 'PDGFR',\n",
       " 'Ret',\n",
       " 'Ror',\n",
       " 'Ryk',\n",
       " 'Sev',\n",
       " 'Src',\n",
       " 'Syk',\n",
       " 'TK-Unique',\n",
       " 'Tec',\n",
       " 'Tie',\n",
       " 'Trk',\n",
       " 'VEGFR']"
      ]
     },
     "execution_count": 19,
     "metadata": {},
     "output_type": "execute_result"
    }
   ],
   "source": [
    "response = requests.get(\"https://klifs.net/api/kinase_families?kinase_group=TK\")\n",
    "response.raise_for_status()\n",
    "result = response.json()\n",
    "result"
   ]
  },
  {
   "cell_type": "markdown",
   "metadata": {},
   "source": [
    "Since passing parameters to the URL is a very common task, `requests` provides a more convenient way. This will save you from building the URLs manually or HTML escaping the values. The key idea is to pass the key-value pairs as a dictionary. The previous query can be (and should be, if you ask us) done like this:"
   ]
  },
  {
   "cell_type": "code",
   "execution_count": 20,
   "metadata": {
    "tags": []
   },
   "outputs": [
    {
     "name": "stdout",
     "output_type": "stream",
     "text": [
      "Queried https://klifs.net/api/kinase_families?kinase_group=TK\n"
     ]
    },
    {
     "data": {
      "text/plain": [
       "['ALK',\n",
       " 'Abl',\n",
       " 'Ack',\n",
       " 'Alk',\n",
       " 'Axl',\n",
       " 'CCK4',\n",
       " 'Csk',\n",
       " 'DDR',\n",
       " 'EGFR',\n",
       " 'Eph',\n",
       " 'FAK',\n",
       " 'FGFR',\n",
       " 'Fer',\n",
       " 'InsR',\n",
       " 'JakA',\n",
       " 'JakB',\n",
       " 'Lmr',\n",
       " 'Met',\n",
       " 'Musk',\n",
       " 'PDGFR',\n",
       " 'Ret',\n",
       " 'Ror',\n",
       " 'Ryk',\n",
       " 'Sev',\n",
       " 'Src',\n",
       " 'Syk',\n",
       " 'TK-Unique',\n",
       " 'Tec',\n",
       " 'Tie',\n",
       " 'Trk',\n",
       " 'VEGFR']"
      ]
     },
     "execution_count": 20,
     "metadata": {},
     "output_type": "execute_result"
    }
   ],
   "source": [
    "response = requests.get(\"https://klifs.net/api/kinase_families\", params={\"kinase_group\": \"TK\"})\n",
    "# You can see how requests formatted the URL for you\n",
    "print(\"Queried\", response.url)\n",
    "response.raise_for_status()\n",
    "result = response.json()\n",
    "result"
   ]
  },
  {
   "cell_type": "markdown",
   "metadata": {},
   "source": [
    "Sometimes the returned JSON object is not a list, but a dict. Or a combination of dictionaries and lists. Maybe even nested! You can still access them using the Python tools you already know.\n",
    "\n",
    "For example, the `kinase_information` endpoint _requires_ a numeric ID, and will return a lot of information on a single kinase:"
   ]
  },
  {
   "cell_type": "code",
   "execution_count": 21,
   "metadata": {
    "tags": []
   },
   "outputs": [
    {
     "data": {
      "text/plain": [
       "[{'kinase_ID': 22,\n",
       "  'name': 'MASTL',\n",
       "  'HGNC': 'MASTL',\n",
       "  'family': 'MAST',\n",
       "  'group': 'AGC',\n",
       "  'kinase_class': 'MASTL',\n",
       "  'species': 'Human',\n",
       "  'full_name': 'microtubule associated serine/threonine kinase like',\n",
       "  'uniprot': 'Q96GX5',\n",
       "  'iuphar': 0,\n",
       "  'pocket': 'KPISRGAFGKVYLYAVKVVQVQAERDALALSKPFIVHLYYSYLVMEYLIGGDVKSLLHIYLHRHGIIHRDLKPDNMLILTDFGLS'}]"
      ]
     },
     "execution_count": 21,
     "metadata": {},
     "output_type": "execute_result"
    }
   ],
   "source": [
    "response = requests.get(\"https://klifs.net/api/kinase_information\", params={\"kinase_ID\": 22})\n",
    "response.raise_for_status()\n",
    "result = response.json()\n",
    "result\n",
    "\n",
    "# NBVAL_CHECK_OUTPUT"
   ]
  },
  {
   "cell_type": "markdown",
   "metadata": {},
   "source": [
    "If you want to know the UniProt ID for this kinase, you will need to access the first (and only) element in the returned list, and ask for the value of the `uniprot` key:"
   ]
  },
  {
   "cell_type": "code",
   "execution_count": 22,
   "metadata": {
    "tags": []
   },
   "outputs": [
    {
     "data": {
      "text/plain": [
       "'Q96GX5'"
      ]
     },
     "execution_count": 22,
     "metadata": {},
     "output_type": "execute_result"
    }
   ],
   "source": [
    "result[0][\"uniprot\"]"
   ]
  },
  {
   "cell_type": "markdown",
   "metadata": {},
   "source": [
    "Turns out we can use this to get the full sequence of the protein (and not just the pocket sequence) using our UniProt function from before!"
   ]
  },
  {
   "cell_type": "code",
   "execution_count": 23,
   "metadata": {
    "tags": []
   },
   "outputs": [
    {
     "name": "stdout",
     "output_type": "stream",
     "text": [
      "MDPTAGSKKEPGGGAATEEGVNRIAVPKPPSIEEFSIVKPISRGAFGKVYLGQKGGKLYAVKVVKKADMINKNMTHQVQAERDALALSKSPFIVHLYYSLQSANNVYLVMEYLIGGDVKSLLHIYGYFDEEMAVKYISEVALALDYLHRHGIIHRDLKPDNMLISNEGHIKLTDFGLSKVTLNRDINMMDILTTPSMAKPRQDYSRTPGQVLSLISSLGFNTPIAEKNQDPANILSACLSETSQLSQGLVCPMSVDQKDTTPYSSKLLKSCLETVASNPGMPVKCLTSNLLQSRKRLATSSASSQSHTFISSVESECHSSPKWEKDCQESDEALGPTMMSWNAVEKLCAKSANAIETKGFNKKDLELALSPIHNSSALPTTGRSCVNLAKKCFSGEVSWEAVELDVNNINMDTDTSQLGFHQSNQWAVDSGGISEEHLGKRSLKRNFELVDSSPCKKIIQNKKTCVEYKHNEMTNCYTNQNTGLTVEVQDLKLSVHKSQQNDCANKENIVNSFTDKQQTPEKLPIPMIAKNLMCELDEDCEKNSKRDYLSSSFLCSDDDRASKNISMNSDSSFPGISIMESPLESQPLDSDRSIKESSFEESNIEDPLIVTPDCQEKTSPKGVENPAVQESNQKMLGPPLEVLKTLASKRNAVAFRSFNSHINASNNSEPSRMNMTSLDAMDISCAYSGSYPMAITPTQKRRSCMPHQQTPNQIKSGTPYRTPKSVRRGVAPVDDGRILGTPDYLAPELLLGRAHGPAVDWWALGVCLFEFLTGIPPFNDETPQQVFQNILKRDIPWPEGEEKLSDNAQSAVEILLTIDDTKRAGMKELKRHPLFSDVDWENLQHQTMPFIPQPDDETDTSYFEARNTAQHLTVSGFSL\n"
     ]
    }
   ],
   "source": [
    "mastl = sequence_for_uniprot_id(result[0][\"uniprot\"])\n",
    "print(mastl.seq)\n",
    "\n",
    "# NBVAL_CHECK_OUTPUT"
   ]
  },
  {
   "cell_type": "markdown",
   "metadata": {},
   "source": [
    "We are using two webservices together, awesome!"
   ]
  },
  {
   "cell_type": "markdown",
   "metadata": {},
   "source": [
    "#### Generating a client for any API\n",
    "\n",
    "Did you find that convenient? Well, we are not done yet! You might have noticed that all the endpoints in the KLIFS API have a similar pattern. You specify the name of the endpoint (`kinase_groups`, `kinase_families`, `kinase_information`, ...), pass some (optional) parameters if needed, and then get a JSON-formatted response. Is there a way you can avoid having to format the URLs yourself? The answer is... yes!\n",
    "\n",
    "The REST API scheme can be expressed programmatically in a document called [Swagger/OpenAPI definitions](https://swagger.io/docs/specification/about/), which allows to dynamically generate a Python client for any REST API that implements the Swagger/OpenAPI schema. [This is the one for KLIFS](https://klifs.net/swagger/swagger.json).\n",
    "\n",
    "Of course, there are libraries for doing that in Python, like `bravado`."
   ]
  },
  {
   "cell_type": "code",
   "execution_count": 24,
   "metadata": {
    "tags": []
   },
   "outputs": [
    {
     "data": {
      "text/plain": [
       "SwaggerClient(https://klifs.net/api)"
      ]
     },
     "execution_count": 24,
     "metadata": {},
     "output_type": "execute_result"
    }
   ],
   "source": [
    "from bravado.client import SwaggerClient\n",
    "\n",
    "KLIFS_SWAGGER = \"https://klifs.net/swagger/swagger.json\"\n",
    "client = SwaggerClient.from_url(KLIFS_SWAGGER, config={\"validate_responses\": False})\n",
    "client"
   ]
  },
  {
   "cell_type": "markdown",
   "metadata": {},
   "source": [
    "Then, you can have fun inspecting the `client` object for all the API actions as methods.\n",
    "\n",
    "ℹ __Tip__: Type `client.` and press <kbd>Tab</kbd> to inspect the client in this notebook."
   ]
  },
  {
   "cell_type": "code",
   "execution_count": 25,
   "metadata": {
    "tags": []
   },
   "outputs": [],
   "source": [
    "?client.Information.get_kinase_names"
   ]
  },
  {
   "cell_type": "markdown",
   "metadata": {},
   "source": [
    "`bravado` is auto-generating classes and functions that mirror the API we were using before! How cool is that? The same query can now be done without requests."
   ]
  },
  {
   "cell_type": "code",
   "execution_count": 26,
   "metadata": {
    "tags": []
   },
   "outputs": [
    {
     "data": {
      "text/plain": [
       "<bravado.http_future.HttpFuture at 0x7efddec36b50>"
      ]
     },
     "execution_count": 26,
     "metadata": {},
     "output_type": "execute_result"
    }
   ],
   "source": [
    "client.Information.get_kinase_information(kinase_ID=[22])"
   ]
  },
  {
   "cell_type": "markdown",
   "metadata": {},
   "source": [
    "Note that `bravado` does _not_ return the response right away. It creates a _promise_ that it will do so when you ask for it. This allows it to be usable in asynchronous programming, but for our purposes, it means that you need to call it with `.result()`."
   ]
  },
  {
   "cell_type": "code",
   "execution_count": 27,
   "metadata": {
    "tags": []
   },
   "outputs": [
    {
     "data": {
      "text/plain": [
       "KinaseInformation(HGNC='MASTL', family='MAST', full_name='microtubule associated serine/threonine kinase like', group='AGC', iuphar=0, kinase_ID=22, kinase_class='MASTL', name='MASTL', pocket='KPISRGAFGKVYLYAVKVVQVQAERDALALSKPFIVHLYYSYLVMEYLIGGDVKSLLHIYLHRHGIIHRDLKPDNMLILTDFGLS', species='Human', uniprot='Q96GX5')"
      ]
     },
     "execution_count": 27,
     "metadata": {},
     "output_type": "execute_result"
    }
   ],
   "source": [
    "results = client.Information.get_kinase_information(kinase_ID=[22]).result()\n",
    "result = results[0]\n",
    "result"
   ]
  },
  {
   "cell_type": "code",
   "execution_count": 28,
   "metadata": {
    "tags": []
   },
   "outputs": [
    {
     "data": {
      "text/plain": [
       "'Q96GX5'"
      ]
     },
     "execution_count": 28,
     "metadata": {},
     "output_type": "execute_result"
    }
   ],
   "source": [
    "result.uniprot\n",
    "\n",
    "# NBVAL_CHECK_OUTPUT"
   ]
  },
  {
   "cell_type": "markdown",
   "metadata": {},
   "source": [
    "`bravado` also builds result _objects_ for you, so you don't have to use the `result[\"property\"]` syntax, but the `result.property` one. Some more convenience for the end user ;)"
   ]
  },
  {
   "cell_type": "markdown",
   "metadata": {},
   "source": [
    "### Document parsing\n",
    "\n",
    "Sometimes the web service will not provide a standardized API that produces machine-readable documents. Instead, you will have to use the regular webpage and parse through the HTML code to obtain the information you need. This is called (web) __scraping__, which usually involves finding the right HTML tags and IDs that contain the valuable data (ignoring things such as the sidebars, top menus, footers, ads, etc).\n",
    "\n",
    "In scraping, you basically do two things:\n",
    "\n",
    "1. Access the webpage with `requests` and obtain the HTML contents.\n",
    "2. Parse the HTML string with `BeautifulSoup` or `requests-html`.\n",
    "\n",
    "\n",
    "Let's parse the proteinogenic amino acids table in this [Wikipedia article](https://en.wikipedia.org/wiki/Proteinogenic_amino_acid):"
   ]
  },
  {
   "cell_type": "code",
   "execution_count": 29,
   "metadata": {
    "tags": []
   },
   "outputs": [
    {
     "data": {
      "text/html": [
       "<div>\n",
       "<style scoped>\n",
       "    .dataframe tbody tr th:only-of-type {\n",
       "        vertical-align: middle;\n",
       "    }\n",
       "\n",
       "    .dataframe tbody tr th {\n",
       "        vertical-align: top;\n",
       "    }\n",
       "\n",
       "    .dataframe thead th {\n",
       "        text-align: right;\n",
       "    }\n",
       "</style>\n",
       "<table border=\"1\" class=\"dataframe\">\n",
       "  <thead>\n",
       "    <tr style=\"text-align: right;\">\n",
       "      <th></th>\n",
       "      <th>0</th>\n",
       "      <th>1</th>\n",
       "      <th>2</th>\n",
       "      <th>3</th>\n",
       "      <th>4</th>\n",
       "      <th>5</th>\n",
       "    </tr>\n",
       "  </thead>\n",
       "  <tbody>\n",
       "    <tr>\n",
       "      <th>0</th>\n",
       "      <td>A</td>\n",
       "      <td>Ala</td>\n",
       "      <td>89.09404</td>\n",
       "      <td>6.01</td>\n",
       "      <td>2.35</td>\n",
       "      <td>9.87</td>\n",
       "    </tr>\n",
       "    <tr>\n",
       "      <th>1</th>\n",
       "      <td>C</td>\n",
       "      <td>Cys</td>\n",
       "      <td>121.15404</td>\n",
       "      <td>5.05</td>\n",
       "      <td>1.92</td>\n",
       "      <td>10.70</td>\n",
       "    </tr>\n",
       "    <tr>\n",
       "      <th>2</th>\n",
       "      <td>D</td>\n",
       "      <td>Asp</td>\n",
       "      <td>133.10384</td>\n",
       "      <td>2.85</td>\n",
       "      <td>1.99</td>\n",
       "      <td>9.90</td>\n",
       "    </tr>\n",
       "    <tr>\n",
       "      <th>3</th>\n",
       "      <td>E</td>\n",
       "      <td>Glu</td>\n",
       "      <td>147.13074</td>\n",
       "      <td>3.15</td>\n",
       "      <td>2.10</td>\n",
       "      <td>9.47</td>\n",
       "    </tr>\n",
       "    <tr>\n",
       "      <th>4</th>\n",
       "      <td>F</td>\n",
       "      <td>Phe</td>\n",
       "      <td>165.19184</td>\n",
       "      <td>5.49</td>\n",
       "      <td>2.20</td>\n",
       "      <td>9.31</td>\n",
       "    </tr>\n",
       "    <tr>\n",
       "      <th>5</th>\n",
       "      <td>G</td>\n",
       "      <td>Gly</td>\n",
       "      <td>75.06714</td>\n",
       "      <td>6.06</td>\n",
       "      <td>2.35</td>\n",
       "      <td>9.78</td>\n",
       "    </tr>\n",
       "    <tr>\n",
       "      <th>6</th>\n",
       "      <td>H</td>\n",
       "      <td>His</td>\n",
       "      <td>155.15634</td>\n",
       "      <td>7.60</td>\n",
       "      <td>1.80</td>\n",
       "      <td>9.33</td>\n",
       "    </tr>\n",
       "    <tr>\n",
       "      <th>7</th>\n",
       "      <td>I</td>\n",
       "      <td>Ile</td>\n",
       "      <td>131.17464</td>\n",
       "      <td>6.05</td>\n",
       "      <td>2.32</td>\n",
       "      <td>9.76</td>\n",
       "    </tr>\n",
       "    <tr>\n",
       "      <th>8</th>\n",
       "      <td>K</td>\n",
       "      <td>Lys</td>\n",
       "      <td>146.18934</td>\n",
       "      <td>9.60</td>\n",
       "      <td>2.16</td>\n",
       "      <td>9.06</td>\n",
       "    </tr>\n",
       "    <tr>\n",
       "      <th>9</th>\n",
       "      <td>L</td>\n",
       "      <td>Leu</td>\n",
       "      <td>131.17464</td>\n",
       "      <td>6.01</td>\n",
       "      <td>2.33</td>\n",
       "      <td>9.74</td>\n",
       "    </tr>\n",
       "    <tr>\n",
       "      <th>10</th>\n",
       "      <td>M</td>\n",
       "      <td>Met</td>\n",
       "      <td>149.20784</td>\n",
       "      <td>5.74</td>\n",
       "      <td>2.13</td>\n",
       "      <td>9.28</td>\n",
       "    </tr>\n",
       "    <tr>\n",
       "      <th>11</th>\n",
       "      <td>N</td>\n",
       "      <td>Asn</td>\n",
       "      <td>132.11904</td>\n",
       "      <td>5.41</td>\n",
       "      <td>2.14</td>\n",
       "      <td>8.72</td>\n",
       "    </tr>\n",
       "    <tr>\n",
       "      <th>12</th>\n",
       "      <td>O</td>\n",
       "      <td>Pyl</td>\n",
       "      <td>255.31000</td>\n",
       "      <td>NaN</td>\n",
       "      <td>NaN</td>\n",
       "      <td>NaN</td>\n",
       "    </tr>\n",
       "    <tr>\n",
       "      <th>13</th>\n",
       "      <td>P</td>\n",
       "      <td>Pro</td>\n",
       "      <td>115.13194</td>\n",
       "      <td>6.30</td>\n",
       "      <td>1.95</td>\n",
       "      <td>10.64</td>\n",
       "    </tr>\n",
       "    <tr>\n",
       "      <th>14</th>\n",
       "      <td>Q</td>\n",
       "      <td>Gln</td>\n",
       "      <td>146.14594</td>\n",
       "      <td>5.65</td>\n",
       "      <td>2.17</td>\n",
       "      <td>9.13</td>\n",
       "    </tr>\n",
       "    <tr>\n",
       "      <th>15</th>\n",
       "      <td>R</td>\n",
       "      <td>Arg</td>\n",
       "      <td>174.20274</td>\n",
       "      <td>10.76</td>\n",
       "      <td>1.82</td>\n",
       "      <td>8.99</td>\n",
       "    </tr>\n",
       "    <tr>\n",
       "      <th>16</th>\n",
       "      <td>S</td>\n",
       "      <td>Ser</td>\n",
       "      <td>105.09344</td>\n",
       "      <td>5.68</td>\n",
       "      <td>2.19</td>\n",
       "      <td>9.21</td>\n",
       "    </tr>\n",
       "    <tr>\n",
       "      <th>17</th>\n",
       "      <td>T</td>\n",
       "      <td>Thr</td>\n",
       "      <td>119.12034</td>\n",
       "      <td>5.60</td>\n",
       "      <td>2.09</td>\n",
       "      <td>9.10</td>\n",
       "    </tr>\n",
       "    <tr>\n",
       "      <th>18</th>\n",
       "      <td>U</td>\n",
       "      <td>Sec</td>\n",
       "      <td>168.05300</td>\n",
       "      <td>5.47</td>\n",
       "      <td>1.91</td>\n",
       "      <td>10.00</td>\n",
       "    </tr>\n",
       "    <tr>\n",
       "      <th>19</th>\n",
       "      <td>V</td>\n",
       "      <td>Val</td>\n",
       "      <td>117.14784</td>\n",
       "      <td>6.00</td>\n",
       "      <td>2.39</td>\n",
       "      <td>9.74</td>\n",
       "    </tr>\n",
       "    <tr>\n",
       "      <th>20</th>\n",
       "      <td>W</td>\n",
       "      <td>Trp</td>\n",
       "      <td>204.22844</td>\n",
       "      <td>5.89</td>\n",
       "      <td>2.46</td>\n",
       "      <td>9.41</td>\n",
       "    </tr>\n",
       "    <tr>\n",
       "      <th>21</th>\n",
       "      <td>Y</td>\n",
       "      <td>Tyr</td>\n",
       "      <td>181.19124</td>\n",
       "      <td>5.64</td>\n",
       "      <td>2.20</td>\n",
       "      <td>9.21</td>\n",
       "    </tr>\n",
       "  </tbody>\n",
       "</table>\n",
       "</div>"
      ],
      "text/plain": [
       "    0    1          2      3     4      5\n",
       "0   A  Ala   89.09404   6.01  2.35   9.87\n",
       "1   C  Cys  121.15404   5.05  1.92  10.70\n",
       "2   D  Asp  133.10384   2.85  1.99   9.90\n",
       "3   E  Glu  147.13074   3.15  2.10   9.47\n",
       "4   F  Phe  165.19184   5.49  2.20   9.31\n",
       "5   G  Gly   75.06714   6.06  2.35   9.78\n",
       "6   H  His  155.15634   7.60  1.80   9.33\n",
       "7   I  Ile  131.17464   6.05  2.32   9.76\n",
       "8   K  Lys  146.18934   9.60  2.16   9.06\n",
       "9   L  Leu  131.17464   6.01  2.33   9.74\n",
       "10  M  Met  149.20784   5.74  2.13   9.28\n",
       "11  N  Asn  132.11904   5.41  2.14   8.72\n",
       "12  O  Pyl  255.31000    NaN   NaN    NaN\n",
       "13  P  Pro  115.13194   6.30  1.95  10.64\n",
       "14  Q  Gln  146.14594   5.65  2.17   9.13\n",
       "15  R  Arg  174.20274  10.76  1.82   8.99\n",
       "16  S  Ser  105.09344   5.68  2.19   9.21\n",
       "17  T  Thr  119.12034   5.60  2.09   9.10\n",
       "18  U  Sec  168.05300   5.47  1.91  10.00\n",
       "19  V  Val  117.14784   6.00  2.39   9.74\n",
       "20  W  Trp  204.22844   5.89  2.46   9.41\n",
       "21  Y  Tyr  181.19124   5.64  2.20   9.21"
      ]
     },
     "execution_count": 29,
     "metadata": {},
     "output_type": "execute_result"
    }
   ],
   "source": [
    "import requests\n",
    "from bs4 import BeautifulSoup\n",
    "import numpy as np\n",
    "import pandas as pd\n",
    "\n",
    "r = requests.get(\"https://en.wikipedia.org/wiki/Proteinogenic_amino_acid\")\n",
    "r.raise_for_status()\n",
    "\n",
    "# To guess the correct steps here, you will have to inspect the HTML code by hand\n",
    "# Tip: use right-click + inspect content in any webpage to land in the HTML definition ;)\n",
    "html = BeautifulSoup(r.text)\n",
    "header = html.find(\"span\", id=\"General_chemical_properties\")\n",
    "table = header.find_all_next()[4]\n",
    "table_body = table.find(\"tbody\")\n",
    "\n",
    "data = []\n",
    "for row in table_body.find_all(\"tr\"):\n",
    "    cells = row.find_all(\"td\")\n",
    "    if cells:\n",
    "        data.append([])\n",
    "    for cell in cells:\n",
    "        cell_content = cell.text.strip()\n",
    "        try:  # convert to float if possible\n",
    "            cell_content = float(cell_content)\n",
    "        except ValueError:\n",
    "            pass\n",
    "        data[-1].append(cell_content)\n",
    "\n",
    "# Empty fields are denoted with \"?\" which casts respective columns to object types\n",
    "# (here mix of strings and floats) but we want float64, therefore replace \"?\" with NaN values\n",
    "pd.DataFrame.from_records(data).replace(\"?\", np.nan)\n",
    "\n",
    "# NBVAL_CHECK_OUTPUT"
   ]
  },
  {
   "cell_type": "markdown",
   "metadata": {},
   "source": [
    "### Browser remote control\n",
    "\n",
    "The trend some years ago was to build servers that dynamically generate HTML documents with some JavaScript here and there (such as Wikipedia). In other words, the HTML is built in the server and sent to the client (your browser).\n",
    "\n",
    "However, latest trends are pointing towards full applications built entirely with JavaScript frameworks. This means that the HTML content is dynamically generated in the client. Traditional parsing will not work and you will only download the placeholder HTML code that hosts the JavaScript framework. To work around this, the HTML must be rendered with a client-side JavaScript engine.\n",
    "\n",
    "We won't cover this in the current notebook, but you can check the following projects if you are interested:\n",
    "\n",
    "- [puppeteer](https://github.com/GoogleChrome/puppeteer)\n",
    "- [selenium](https://www.seleniumhq.org/)"
   ]
  },
  {
   "cell_type": "markdown",
   "metadata": {},
   "source": [
    "***\n",
    "\n",
    "## Discussion\n",
    "\n",
    "In this theoretical introduction you have seen how different methods to programmatically access online web services can be used from a Python interpreter. Leveraging these techniques you will be able to build automated pipelines inside Jupyter Notebooks. In the end, querying a database or downloading a file involves the same kind of tooling.\n",
    "\n",
    "Unfortunately, there is too much material to cover about web APIs in a single lesson. For example, how do you _send_ or _upload_ contents from Python? Can you submit forms? If you are interested in knowing more, the `requests` [documentation](https://requests.readthedocs.io/) should be your go-to resource. Some interesting parts include:\n",
    "\n",
    "* [Submitting forms with POST requests](https://docs.python-requests.org/en/v1.1.0/user/quickstart/#more-complicated-post-requests)\n",
    "* [User authentication](https://docs.python-requests.org/en/v1.1.0/user/authentication/#basic-authentication)"
   ]
  },
  {
   "cell_type": "markdown",
   "metadata": {},
   "source": [
    "## Quiz\n",
    "\n",
    "* Use the KLIFS API (with or without `bravado`, up to you) to find all kinases that can bind staurosporine (ligand code `STU`).\n",
    "* How can you find the correct HTML tags and identifiers to scrape a specific part of a website? Can it be automated?\n",
    "* Would you rather use programmatic APIs or manually crafted scrapers?"
   ]
  }
 ],
 "metadata": {
  "kernelspec": {
   "display_name": "Python 3 (ipykernel)",
   "language": "python",
   "name": "python3"
  },
  "language_info": {
   "codemirror_mode": {
    "name": "ipython",
    "version": 3
   },
   "file_extension": ".py",
   "mimetype": "text/x-python",
   "name": "python",
   "nbconvert_exporter": "python",
   "pygments_lexer": "ipython3",
   "version": "3.9.16"
  },
  "toc-autonumbering": true,
  "widgets": {
   "application/vnd.jupyter.widget-state+json": {
    "state": {},
    "version_major": 2,
    "version_minor": 0
   }
  }
 },
 "nbformat": 4,
 "nbformat_minor": 4
}
